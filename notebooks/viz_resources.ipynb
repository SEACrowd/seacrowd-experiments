{
 "cells": [
  {
   "cell_type": "code",
   "execution_count": 76,
   "id": "e514c46d-1f2d-48fa-87e4-ea3a0c557d88",
   "metadata": {},
   "outputs": [],
   "source": [
    "import pandas as pd\n",
    "import plotly.express as px\n",
    "import numpy as np"
   ]
  },
  {
   "cell_type": "markdown",
   "id": "466d9a2e-7f13-4bed-a733-17d63ea72cc1",
   "metadata": {},
   "source": [
    "# SEACrowd Resources"
   ]
  },
  {
   "cell_type": "code",
   "execution_count": 247,
   "id": "20630402-9009-4afc-a86b-fa74085e0e89",
   "metadata": {},
   "outputs": [
    {
     "data": {
      "text/html": [
       "<div>\n",
       "<style scoped>\n",
       "    .dataframe tbody tr th:only-of-type {\n",
       "        vertical-align: middle;\n",
       "    }\n",
       "\n",
       "    .dataframe tbody tr th {\n",
       "        vertical-align: top;\n",
       "    }\n",
       "\n",
       "    .dataframe thead th {\n",
       "        text-align: right;\n",
       "    }\n",
       "</style>\n",
       "<table border=\"1\" class=\"dataframe\">\n",
       "  <thead>\n",
       "    <tr style=\"text-align: right;\">\n",
       "      <th></th>\n",
       "      <th>Region</th>\n",
       "      <th>ISO code</th>\n",
       "      <th>Language name</th>\n",
       "      <th># Datasets</th>\n",
       "    </tr>\n",
       "  </thead>\n",
       "  <tbody>\n",
       "    <tr>\n",
       "      <th>1388</th>\n",
       "      <td>Vietnam</td>\n",
       "      <td>tas</td>\n",
       "      <td>Tay Boi</td>\n",
       "      <td>1</td>\n",
       "    </tr>\n",
       "    <tr>\n",
       "      <th>1393</th>\n",
       "      <td>Vietnam</td>\n",
       "      <td>tdr</td>\n",
       "      <td>Todrah</td>\n",
       "      <td>1</td>\n",
       "    </tr>\n",
       "    <tr>\n",
       "      <th>1397</th>\n",
       "      <td>Vietnam</td>\n",
       "      <td>vie</td>\n",
       "      <td>Vietnamese</td>\n",
       "      <td>137</td>\n",
       "    </tr>\n",
       "    <tr>\n",
       "      <th>1398</th>\n",
       "      <td>Vietnam</td>\n",
       "      <td>cja</td>\n",
       "      <td>Western Cham</td>\n",
       "      <td>1</td>\n",
       "    </tr>\n",
       "    <tr>\n",
       "      <th>1399</th>\n",
       "      <td>Vietnam</td>\n",
       "      <td>lwh</td>\n",
       "      <td>White Lachi</td>\n",
       "      <td>1</td>\n",
       "    </tr>\n",
       "  </tbody>\n",
       "</table>\n",
       "</div>"
      ],
      "text/plain": [
       "       Region ISO code Language name  # Datasets\n",
       "1388  Vietnam      tas       Tay Boi           1\n",
       "1393  Vietnam      tdr        Todrah           1\n",
       "1397  Vietnam      vie    Vietnamese         137\n",
       "1398  Vietnam      cja  Western Cham           1\n",
       "1399  Vietnam      lwh   White Lachi           1"
      ]
     },
     "execution_count": 247,
     "metadata": {},
     "output_type": "execute_result"
    }
   ],
   "source": [
    "df = pd.read_csv(\"./utils/region_lang_datasets.csv\")\n",
    "df = df.loc[:, ~df.columns.str.contains('^Unnamed')]\n",
    "df = df.loc[~(df['# Datasets'] == 0)]\n",
    "\n",
    "df.tail()"
   ]
  },
  {
   "cell_type": "markdown",
   "id": "0ee615f7-7149-41f4-b427-ee1c08289fdc",
   "metadata": {},
   "source": [
    "Pool all languages that have `# Datasets == 1` to \"Others\" per region."
   ]
  },
  {
   "cell_type": "code",
   "execution_count": 248,
   "id": "662b38c3-a58d-4839-a0f5-58b29d0571f4",
   "metadata": {},
   "outputs": [
    {
     "data": {
      "text/html": [
       "<div>\n",
       "<style scoped>\n",
       "    .dataframe tbody tr th:only-of-type {\n",
       "        vertical-align: middle;\n",
       "    }\n",
       "\n",
       "    .dataframe tbody tr th {\n",
       "        vertical-align: top;\n",
       "    }\n",
       "\n",
       "    .dataframe thead th {\n",
       "        text-align: right;\n",
       "    }\n",
       "</style>\n",
       "<table border=\"1\" class=\"dataframe\">\n",
       "  <thead>\n",
       "    <tr style=\"text-align: right;\">\n",
       "      <th></th>\n",
       "      <th>Region</th>\n",
       "      <th>ISO code</th>\n",
       "      <th>Language name</th>\n",
       "      <th># Datasets</th>\n",
       "    </tr>\n",
       "  </thead>\n",
       "  <tbody>\n",
       "    <tr>\n",
       "      <th>153</th>\n",
       "      <td>Vietnam</td>\n",
       "      <td>cmo</td>\n",
       "      <td>Central Mnong</td>\n",
       "      <td>6</td>\n",
       "    </tr>\n",
       "    <tr>\n",
       "      <th>154</th>\n",
       "      <td>Vietnam</td>\n",
       "      <td>bru</td>\n",
       "      <td>Eastern Bru</td>\n",
       "      <td>4</td>\n",
       "    </tr>\n",
       "    <tr>\n",
       "      <th>155</th>\n",
       "      <td>Vietnam</td>\n",
       "      <td>hni</td>\n",
       "      <td>Hani</td>\n",
       "      <td>4</td>\n",
       "    </tr>\n",
       "    <tr>\n",
       "      <th>156</th>\n",
       "      <td>Vietnam</td>\n",
       "      <td>hnj</td>\n",
       "      <td>Hmong Njua</td>\n",
       "      <td>5</td>\n",
       "    </tr>\n",
       "    <tr>\n",
       "      <th>157</th>\n",
       "      <td>Vietnam</td>\n",
       "      <td>jra</td>\n",
       "      <td>Jarai</td>\n",
       "      <td>7</td>\n",
       "    </tr>\n",
       "    <tr>\n",
       "      <th>158</th>\n",
       "      <td>Vietnam</td>\n",
       "      <td>khm</td>\n",
       "      <td>Khmer</td>\n",
       "      <td>50</td>\n",
       "    </tr>\n",
       "    <tr>\n",
       "      <th>159</th>\n",
       "      <td>Vietnam</td>\n",
       "      <td>blt</td>\n",
       "      <td>Tai Dam</td>\n",
       "      <td>4</td>\n",
       "    </tr>\n",
       "    <tr>\n",
       "      <th>160</th>\n",
       "      <td>Vietnam</td>\n",
       "      <td>vie</td>\n",
       "      <td>Vietnamese</td>\n",
       "      <td>137</td>\n",
       "    </tr>\n",
       "    <tr>\n",
       "      <th>161</th>\n",
       "      <td>Brunei</td>\n",
       "      <td>others</td>\n",
       "      <td>Others</td>\n",
       "      <td>9</td>\n",
       "    </tr>\n",
       "    <tr>\n",
       "      <th>162</th>\n",
       "      <td>Cambodia</td>\n",
       "      <td>others</td>\n",
       "      <td>Others</td>\n",
       "      <td>12</td>\n",
       "    </tr>\n",
       "    <tr>\n",
       "      <th>163</th>\n",
       "      <td>East Timor</td>\n",
       "      <td>others</td>\n",
       "      <td>Others</td>\n",
       "      <td>13</td>\n",
       "    </tr>\n",
       "    <tr>\n",
       "      <th>164</th>\n",
       "      <td>Indonesia</td>\n",
       "      <td>others</td>\n",
       "      <td>Others</td>\n",
       "      <td>636</td>\n",
       "    </tr>\n",
       "    <tr>\n",
       "      <th>165</th>\n",
       "      <td>Laos</td>\n",
       "      <td>others</td>\n",
       "      <td>Others</td>\n",
       "      <td>50</td>\n",
       "    </tr>\n",
       "    <tr>\n",
       "      <th>166</th>\n",
       "      <td>Malaysia</td>\n",
       "      <td>others</td>\n",
       "      <td>Others</td>\n",
       "      <td>85</td>\n",
       "    </tr>\n",
       "    <tr>\n",
       "      <th>167</th>\n",
       "      <td>Myanmar</td>\n",
       "      <td>others</td>\n",
       "      <td>Others</td>\n",
       "      <td>81</td>\n",
       "    </tr>\n",
       "    <tr>\n",
       "      <th>168</th>\n",
       "      <td>Non-indigenous</td>\n",
       "      <td>others</td>\n",
       "      <td>Others</td>\n",
       "      <td>2</td>\n",
       "    </tr>\n",
       "    <tr>\n",
       "      <th>169</th>\n",
       "      <td>Philippines</td>\n",
       "      <td>others</td>\n",
       "      <td>Others</td>\n",
       "      <td>145</td>\n",
       "    </tr>\n",
       "    <tr>\n",
       "      <th>170</th>\n",
       "      <td>Singapore</td>\n",
       "      <td>others</td>\n",
       "      <td>Others</td>\n",
       "      <td>1</td>\n",
       "    </tr>\n",
       "    <tr>\n",
       "      <th>171</th>\n",
       "      <td>Thailand</td>\n",
       "      <td>others</td>\n",
       "      <td>Others</td>\n",
       "      <td>52</td>\n",
       "    </tr>\n",
       "    <tr>\n",
       "      <th>172</th>\n",
       "      <td>Vietnam</td>\n",
       "      <td>others</td>\n",
       "      <td>Others</td>\n",
       "      <td>70</td>\n",
       "    </tr>\n",
       "  </tbody>\n",
       "</table>\n",
       "</div>"
      ],
      "text/plain": [
       "             Region ISO code  Language name  # Datasets\n",
       "153         Vietnam      cmo  Central Mnong           6\n",
       "154         Vietnam      bru    Eastern Bru           4\n",
       "155         Vietnam      hni           Hani           4\n",
       "156         Vietnam      hnj     Hmong Njua           5\n",
       "157         Vietnam      jra          Jarai           7\n",
       "158         Vietnam      khm          Khmer          50\n",
       "159         Vietnam      blt        Tai Dam           4\n",
       "160         Vietnam      vie     Vietnamese         137\n",
       "161          Brunei   others         Others           9\n",
       "162        Cambodia   others         Others          12\n",
       "163      East Timor   others         Others          13\n",
       "164       Indonesia   others         Others         636\n",
       "165            Laos   others         Others          50\n",
       "166        Malaysia   others         Others          85\n",
       "167         Myanmar   others         Others          81\n",
       "168  Non-indigenous   others         Others           2\n",
       "169     Philippines   others         Others         145\n",
       "170       Singapore   others         Others           1\n",
       "171        Thailand   others         Others          52\n",
       "172         Vietnam   others         Others          70"
      ]
     },
     "execution_count": 248,
     "metadata": {},
     "output_type": "execute_result"
    }
   ],
   "source": [
    "others_cutoff_point = 3\n",
    "pdf = df[df[\"# Datasets\"] > others_cutoff_point].copy()\n",
    "\n",
    "others_df = df[df[\"# Datasets\"] <= others_cutoff_point]\n",
    "others_df = others_df.groupby([\"Region\"]).sum([\"# Datasets\"]).reset_index()\n",
    "if \"ISO code\" not in others_df.columns:\n",
    "    others_df[\"ISO code\"] = [\"others\" for i in range(len(others_df))]\n",
    "if \"Language name\" not in others_df.columns:\n",
    "    others_df[\"Language name\"] = [\"Others\" for i in range(len(others_df))]\n",
    "\n",
    "pdf = pd.concat([pdf, others_df]).reset_index()\n",
    "pdf = pdf.loc[:, ~pdf.columns.str.contains('^index')]\n",
    "pdf.tail(20)"
   ]
  },
  {
   "cell_type": "code",
   "execution_count": 249,
   "id": "02ba454d-abda-46ec-8b76-52030b5be2ad",
   "metadata": {},
   "outputs": [
    {
     "data": {
      "text/plain": [
       "count    173.000000\n",
       "mean      19.023121\n",
       "std       55.713757\n",
       "min        1.000000\n",
       "25%        4.000000\n",
       "50%        5.000000\n",
       "75%       10.000000\n",
       "max      636.000000\n",
       "Name: # Datasets, dtype: float64"
      ]
     },
     "execution_count": 249,
     "metadata": {},
     "output_type": "execute_result"
    }
   ],
   "source": [
    "pdf['# Datasets'].describe()"
   ]
  },
  {
   "cell_type": "code",
   "execution_count": 250,
   "id": "fb5f1622-a8d5-4622-bc69-7682bf431e23",
   "metadata": {},
   "outputs": [
    {
     "data": {
      "application/vnd.plotly.v1+json": {
       "config": {
        "plotlyServerURL": "https://plot.ly"
       },
       "data": [
        {
         "branchvalues": "total",
         "customdata": [
          [
           7
          ],
          [
           4
          ],
          [
           24
          ],
          [
           4
          ],
          [
           4
          ],
          [
           7
          ],
          [
           7
          ],
          [
           7
          ],
          [
           5
          ],
          [
           5
          ],
          [
           4
          ],
          [
           4
          ],
          [
           4
          ],
          [
           22
          ],
          [
           9
          ],
          [
           13
          ],
          [
           9
          ],
          [
           4
          ],
          [
           4
          ],
          [
           4
          ],
          [
           5
          ],
          [
           24
          ],
          [
           4
          ],
          [
           4
          ],
          [
           4
          ],
          [
           4
          ],
          [
           4
          ],
          [
           5
          ],
          [
           4
          ],
          [
           4
          ],
          [
           4
          ],
          [
           4
          ],
          [
           4
          ],
          [
           4
          ],
          [
           4
          ],
          [
           4
          ],
          [
           4
          ],
          [
           4
          ],
          [
           5
          ],
          [
           7
          ],
          [
           20
          ],
          [
           6
          ],
          [
           8
          ],
          [
           4
          ],
          [
           37
          ],
          [
           4
          ],
          [
           7
          ],
          [
           10
          ],
          [
           6
          ],
          [
           6
          ],
          [
           7
          ],
          [
           4
          ],
          [
           4
          ],
          [
           4
          ],
          [
           8
          ],
          [
           4
          ],
          [
           63
          ],
          [
           34
          ],
          [
           9
          ],
          [
           4
          ],
          [
           16
          ],
          [
           4
          ],
          [
           4
          ],
          [
           5
          ],
          [
           5
          ],
          [
           5
          ],
          [
           7
          ],
          [
           7
          ],
          [
           7
          ],
          [
           5
          ],
          [
           4
          ],
          [
           4
          ],
          [
           4
          ],
          [
           21
          ],
          [
           268
          ],
          [
           75
          ],
          [
           7
          ],
          [
           7
          ],
          [
           11
          ],
          [
           4
          ],
          [
           5
          ],
          [
           5
          ],
          [
           50
          ],
          [
           50
          ],
          [
           5
          ],
          [
           5
          ],
          [
           4
          ],
          [
           4
          ],
          [
           4
          ],
          [
           4
          ],
          [
           5
          ],
          [
           4
          ],
          [
           7
          ],
          [
           7
          ],
          [
           36
          ],
          [
           36
          ],
          [
           4
          ],
          [
           5
          ],
          [
           8
          ],
          [
           8
          ],
          [
           6
          ],
          [
           9
          ],
          [
           24
          ],
          [
           14
          ],
          [
           5
          ],
          [
           4
          ],
          [
           5
          ],
          [
           4
          ],
          [
           5
          ],
          [
           36
          ],
          [
           6
          ],
          [
           4
          ],
          [
           7
          ],
          [
           7
          ],
          [
           7
          ],
          [
           4
          ],
          [
           7
          ],
          [
           4
          ],
          [
           4
          ],
          [
           7
          ],
          [
           66
          ],
          [
           8
          ],
          [
           7
          ],
          [
           4
          ],
          [
           7
          ],
          [
           7
          ],
          [
           4
          ],
          [
           5
          ],
          [
           9
          ],
          [
           12
          ],
          [
           13
          ],
          [
           636
          ],
          [
           50
          ],
          [
           85
          ],
          [
           81
          ],
          [
           2
          ],
          [
           145
          ],
          [
           1
          ],
          [
           52
          ],
          [
           70
          ],
          [
           17
          ],
          [
           13
          ],
          [
           4
          ],
          [
           4
          ],
          [
           5
          ],
          [
           6
          ],
          [
           4
          ],
          [
           5
          ],
          [
           8
          ],
          [
           4
          ],
          [
           4
          ],
          [
           13
          ],
          [
           13
          ],
          [
           4
          ],
          [
           5
          ],
          [
           54
          ],
          [
           4
          ],
          [
           7
          ],
          [
           4
          ],
          [
           8
          ],
          [
           14
          ],
          [
           14
          ],
          [
           51
          ],
          [
           114
          ],
          [
           5
          ],
          [
           137
          ],
          [
           21
          ],
          [
           5
          ],
          [
           4
          ],
          [
           4
          ],
          [
           53
          ],
          [
           13
          ],
          [
           5
          ],
          [
           8.125
          ],
          [
           32.91935483870968
          ],
          [
           8.898305084745763
          ],
          [
           356.25581395348837
          ],
          [
           29.6231884057971
          ],
          [
           60.77647058823529
          ],
          [
           44.900763358778626
          ],
          [
           45.369565217391305
          ],
          [
           53.162962962962965
          ],
          [
           1
          ],
          [
           72.71171171171171
          ],
          [
           90.52577319587628
          ],
          [
           181.2509875417806
          ]
         ],
         "domain": {
          "x": [
           0,
           1
          ],
          "y": [
           0,
           1
          ]
         },
         "hovertemplate": "labels=%{label}<br># Datasets_sum=%{value}<br>parent=%{parent}<br>id=%{id}<br># Datasets=%{color}<extra></extra>",
         "ids": [
          "Southeast Asia/Indonesia/abs",
          "Southeast Asia/Philippines/abx",
          "Southeast Asia/Indonesia/ace",
          "Southeast Asia/Philippines/agn",
          "Southeast Asia/Philippines/agt",
          "Southeast Asia/Laos/ahk",
          "Southeast Asia/Myanmar/ahk",
          "Southeast Asia/Thailand/ahk",
          "Southeast Asia/Indonesia/alp",
          "Southeast Asia/Indonesia/amk",
          "Southeast Asia/Myanmar/atb",
          "Southeast Asia/Philippines/atd",
          "Southeast Asia/Philippines/att",
          "Southeast Asia/Indonesia/ban",
          "Southeast Asia/Indonesia/bbc",
          "Southeast Asia/Philippines/bcl",
          "Southeast Asia/Indonesia/bew",
          "Southeast Asia/East Timor/bfn",
          "Southeast Asia/Indonesia/bfn",
          "Southeast Asia/Philippines/bgs",
          "Southeast Asia/Indonesia/bhp",
          "Southeast Asia/Indonesia/bjn",
          "Southeast Asia/Philippines/bkd",
          "Southeast Asia/East Timor/bkx",
          "Southeast Asia/Laos/blt",
          "Southeast Asia/Vietnam/blt",
          "Southeast Asia/Philippines/blw",
          "Southeast Asia/Indonesia/blz",
          "Southeast Asia/Philippines/bpr",
          "Southeast Asia/Philippines/bps",
          "Southeast Asia/Cambodia/brb",
          "Southeast Asia/Laos/brb",
          "Southeast Asia/Vietnam/brb",
          "Southeast Asia/Laos/bru",
          "Southeast Asia/Vietnam/bru",
          "Southeast Asia/Laos/brv",
          "Southeast Asia/Thailand/brv",
          "Southeast Asia/Philippines/bto",
          "Southeast Asia/Indonesia/bts",
          "Southeast Asia/Indonesia/btx",
          "Southeast Asia/Indonesia/bug",
          "Southeast Asia/Thailand/bzi",
          "Southeast Asia/Philippines/cbk",
          "Southeast Asia/Myanmar/ccp",
          "Southeast Asia/Philippines/ceb",
          "Southeast Asia/Myanmar/cfm",
          "Southeast Asia/Philippines/cgc",
          "Southeast Asia/Non-indigenous/cmn",
          "Southeast Asia/Cambodia/cmo",
          "Southeast Asia/Vietnam/cmo",
          "Southeast Asia/Myanmar/cnh",
          "Southeast Asia/Myanmar/ctd",
          "Southeast Asia/East Timor/ddg",
          "Southeast Asia/Philippines/dgc",
          "Southeast Asia/Malaysia/dtp",
          "Southeast Asia/Philippines/ebk",
          "Southeast Asia/Non-indigenous/eng",
          "Southeast Asia/Philippines/fil",
          "Southeast Asia/Indonesia/gor",
          "Southeast Asia/Indonesia/heg",
          "Southeast Asia/Philippines/hil",
          "Southeast Asia/Laos/hni",
          "Southeast Asia/Vietnam/hni",
          "Southeast Asia/Laos/hnj",
          "Southeast Asia/Thailand/hnj",
          "Southeast Asia/Vietnam/hnj",
          "Southeast Asia/Brunei/iba",
          "Southeast Asia/Indonesia/iba",
          "Southeast Asia/Malaysia/iba",
          "Southeast Asia/Philippines/ifa",
          "Southeast Asia/Philippines/ifb",
          "Southeast Asia/Philippines/ifu",
          "Southeast Asia/Philippines/ify",
          "Southeast Asia/Philippines/ilo",
          "Southeast Asia/Indonesia/ind",
          "Southeast Asia/Indonesia/jav",
          "Southeast Asia/Cambodia/jra",
          "Southeast Asia/Vietnam/jra",
          "Southeast Asia/Myanmar/kac",
          "Southeast Asia/Philippines/kak",
          "Southeast Asia/Laos/khb",
          "Southeast Asia/Myanmar/khb",
          "Southeast Asia/Cambodia/khm",
          "Southeast Asia/Vietnam/khm",
          "Southeast Asia/Indonesia/kje",
          "Southeast Asia/Myanmar/kkh",
          "Southeast Asia/Philippines/kmk",
          "Southeast Asia/Philippines/kne",
          "Southeast Asia/Philippines/kqe",
          "Southeast Asia/Malaysia/kqr",
          "Southeast Asia/Philippines/krj",
          "Southeast Asia/Cambodia/krr",
          "Southeast Asia/Myanmar/ksw",
          "Southeast Asia/Thailand/ksw",
          "Southeast Asia/Cambodia/lao",
          "Southeast Asia/Laos/lao",
          "Southeast Asia/Philippines/lbk",
          "Southeast Asia/Indonesia/lex",
          "Southeast Asia/Laos/lhu",
          "Southeast Asia/Myanmar/lhu",
          "Southeast Asia/Myanmar/lsi",
          "Southeast Asia/Myanmar/lus",
          "Southeast Asia/Indonesia/mad",
          "Southeast Asia/Indonesia/mak",
          "Southeast Asia/Philippines/mbb",
          "Southeast Asia/Philippines/mbs",
          "Southeast Asia/Philippines/mbt",
          "Southeast Asia/East Timor/mgm",
          "Southeast Asia/Myanmar/mhx",
          "Southeast Asia/Indonesia/min",
          "Southeast Asia/Indonesia/mkn",
          "Southeast Asia/East Timor/mkz",
          "Southeast Asia/Myanmar/mnw",
          "Southeast Asia/Thailand/mnw",
          "Southeast Asia/Indonesia/mqj",
          "Southeast Asia/Philippines/mrw",
          "Southeast Asia/Philippines/msb",
          "Southeast Asia/Philippines/msk",
          "Southeast Asia/Philippines/msm",
          "Southeast Asia/Indonesia/mui",
          "Southeast Asia/Myanmar/mya",
          "Southeast Asia/Indonesia/nia",
          "Southeast Asia/Indonesia/nij",
          "Southeast Asia/Indonesia/nlc",
          "Southeast Asia/Laos/nod",
          "Southeast Asia/Thailand/nod",
          "Southeast Asia/East Timor/nxa",
          "Southeast Asia/Philippines/obo",
          "Southeast Asia/Brunei/others",
          "Southeast Asia/Cambodia/others",
          "Southeast Asia/East Timor/others",
          "Southeast Asia/Indonesia/others",
          "Southeast Asia/Laos/others",
          "Southeast Asia/Malaysia/others",
          "Southeast Asia/Myanmar/others",
          "Southeast Asia/Non-indigenous/others",
          "Southeast Asia/Philippines/others",
          "Southeast Asia/Singapore/others",
          "Southeast Asia/Thailand/others",
          "Southeast Asia/Vietnam/others",
          "Southeast Asia/Philippines/pag",
          "Southeast Asia/Philippines/pam",
          "Southeast Asia/Myanmar/pce",
          "Southeast Asia/Philippines/plw",
          "Southeast Asia/Indonesia/pmf",
          "Southeast Asia/Non-indigenous/por",
          "Southeast Asia/Philippines/prf",
          "Southeast Asia/Indonesia/ptu",
          "Southeast Asia/Indonesia/rej",
          "Southeast Asia/Non-indigenous/san",
          "Southeast Asia/Philippines/sgb",
          "Southeast Asia/Myanmar/shn",
          "Southeast Asia/Thailand/shn",
          "Southeast Asia/Philippines/smk",
          "Southeast Asia/Philippines/sml",
          "Southeast Asia/Indonesia/sun",
          "Southeast Asia/Indonesia/sxn",
          "Southeast Asia/Non-indigenous/tam",
          "Southeast Asia/Philippines/tbl",
          "Southeast Asia/East Timor/tdt",
          "Southeast Asia/East Timor/tet",
          "Southeast Asia/Indonesia/tet",
          "Southeast Asia/Philippines/tgl",
          "Southeast Asia/Thailand/tha",
          "Southeast Asia/Cambodia/tpu",
          "Southeast Asia/Vietnam/vie",
          "Southeast Asia/Philippines/war",
          "Southeast Asia/Indonesia/wrs",
          "Southeast Asia/Indonesia/xmm",
          "Southeast Asia/Indonesia/yva",
          "Southeast Asia/Malaysia/zlm",
          "Southeast Asia/Malaysia/zsm",
          "Southeast Asia/Myanmar/zyp",
          "Southeast Asia/Brunei",
          "Southeast Asia/Cambodia",
          "Southeast Asia/East Timor",
          "Southeast Asia/Indonesia",
          "Southeast Asia/Laos",
          "Southeast Asia/Malaysia",
          "Southeast Asia/Myanmar",
          "Southeast Asia/Non-indigenous",
          "Southeast Asia/Philippines",
          "Southeast Asia/Singapore",
          "Southeast Asia/Thailand",
          "Southeast Asia/Vietnam",
          "Southeast Asia"
         ],
         "labels": [
          "abs",
          "abx",
          "ace",
          "agn",
          "agt",
          "ahk",
          "ahk",
          "ahk",
          "alp",
          "amk",
          "atb",
          "atd",
          "att",
          "ban",
          "bbc",
          "bcl",
          "bew",
          "bfn",
          "bfn",
          "bgs",
          "bhp",
          "bjn",
          "bkd",
          "bkx",
          "blt",
          "blt",
          "blw",
          "blz",
          "bpr",
          "bps",
          "brb",
          "brb",
          "brb",
          "bru",
          "bru",
          "brv",
          "brv",
          "bto",
          "bts",
          "btx",
          "bug",
          "bzi",
          "cbk",
          "ccp",
          "ceb",
          "cfm",
          "cgc",
          "cmn",
          "cmo",
          "cmo",
          "cnh",
          "ctd",
          "ddg",
          "dgc",
          "dtp",
          "ebk",
          "eng",
          "fil",
          "gor",
          "heg",
          "hil",
          "hni",
          "hni",
          "hnj",
          "hnj",
          "hnj",
          "iba",
          "iba",
          "iba",
          "ifa",
          "ifb",
          "ifu",
          "ify",
          "ilo",
          "ind",
          "jav",
          "jra",
          "jra",
          "kac",
          "kak",
          "khb",
          "khb",
          "khm",
          "khm",
          "kje",
          "kkh",
          "kmk",
          "kne",
          "kqe",
          "kqr",
          "krj",
          "krr",
          "ksw",
          "ksw",
          "lao",
          "lao",
          "lbk",
          "lex",
          "lhu",
          "lhu",
          "lsi",
          "lus",
          "mad",
          "mak",
          "mbb",
          "mbs",
          "mbt",
          "mgm",
          "mhx",
          "min",
          "mkn",
          "mkz",
          "mnw",
          "mnw",
          "mqj",
          "mrw",
          "msb",
          "msk",
          "msm",
          "mui",
          "mya",
          "nia",
          "nij",
          "nlc",
          "nod",
          "nod",
          "nxa",
          "obo",
          "others",
          "others",
          "others",
          "others",
          "others",
          "others",
          "others",
          "others",
          "others",
          "others",
          "others",
          "others",
          "pag",
          "pam",
          "pce",
          "plw",
          "pmf",
          "por",
          "prf",
          "ptu",
          "rej",
          "san",
          "sgb",
          "shn",
          "shn",
          "smk",
          "sml",
          "sun",
          "sxn",
          "tam",
          "tbl",
          "tdt",
          "tet",
          "tet",
          "tgl",
          "tha",
          "tpu",
          "vie",
          "war",
          "wrs",
          "xmm",
          "yva",
          "zlm",
          "zsm",
          "zyp",
          "Brunei",
          "Cambodia",
          "East Timor",
          "Indonesia",
          "Laos",
          "Malaysia",
          "Myanmar",
          "Non-indigenous",
          "Philippines",
          "Singapore",
          "Thailand",
          "Vietnam",
          "Southeast Asia"
         ],
         "marker": {
          "coloraxis": "coloraxis",
          "colors": [
           7,
           4,
           24,
           4,
           4,
           7,
           7,
           7,
           5,
           5,
           4,
           4,
           4,
           22,
           9,
           13,
           9,
           4,
           4,
           4,
           5,
           24,
           4,
           4,
           4,
           4,
           4,
           5,
           4,
           4,
           4,
           4,
           4,
           4,
           4,
           4,
           4,
           4,
           5,
           7,
           20,
           6,
           8,
           4,
           37,
           4,
           7,
           10,
           6,
           6,
           7,
           4,
           4,
           4,
           8,
           4,
           63,
           34,
           9,
           4,
           16,
           4,
           4,
           5,
           5,
           5,
           7,
           7,
           7,
           5,
           4,
           4,
           4,
           21,
           268,
           75,
           7,
           7,
           11,
           4,
           5,
           5,
           50,
           50,
           5,
           5,
           4,
           4,
           4,
           4,
           5,
           4,
           7,
           7,
           36,
           36,
           4,
           5,
           8,
           8,
           6,
           9,
           24,
           14,
           5,
           4,
           5,
           4,
           5,
           36,
           6,
           4,
           7,
           7,
           7,
           4,
           7,
           4,
           4,
           7,
           66,
           8,
           7,
           4,
           7,
           7,
           4,
           5,
           9,
           12,
           13,
           636,
           50,
           85,
           81,
           2,
           145,
           1,
           52,
           70,
           17,
           13,
           4,
           4,
           5,
           6,
           4,
           5,
           8,
           4,
           4,
           13,
           13,
           4,
           5,
           54,
           4,
           7,
           4,
           8,
           14,
           14,
           51,
           114,
           5,
           137,
           21,
           5,
           4,
           4,
           53,
           13,
           5,
           8.125,
           32.91935483870968,
           8.898305084745763,
           356.25581395348837,
           29.6231884057971,
           60.77647058823529,
           44.900763358778626,
           45.369565217391305,
           53.162962962962965,
           1,
           72.71171171171171,
           90.52577319587628,
           181.2509875417806
          ],
          "cornerradius": 3
         },
         "name": "",
         "parents": [
          "Southeast Asia/Indonesia",
          "Southeast Asia/Philippines",
          "Southeast Asia/Indonesia",
          "Southeast Asia/Philippines",
          "Southeast Asia/Philippines",
          "Southeast Asia/Laos",
          "Southeast Asia/Myanmar",
          "Southeast Asia/Thailand",
          "Southeast Asia/Indonesia",
          "Southeast Asia/Indonesia",
          "Southeast Asia/Myanmar",
          "Southeast Asia/Philippines",
          "Southeast Asia/Philippines",
          "Southeast Asia/Indonesia",
          "Southeast Asia/Indonesia",
          "Southeast Asia/Philippines",
          "Southeast Asia/Indonesia",
          "Southeast Asia/East Timor",
          "Southeast Asia/Indonesia",
          "Southeast Asia/Philippines",
          "Southeast Asia/Indonesia",
          "Southeast Asia/Indonesia",
          "Southeast Asia/Philippines",
          "Southeast Asia/East Timor",
          "Southeast Asia/Laos",
          "Southeast Asia/Vietnam",
          "Southeast Asia/Philippines",
          "Southeast Asia/Indonesia",
          "Southeast Asia/Philippines",
          "Southeast Asia/Philippines",
          "Southeast Asia/Cambodia",
          "Southeast Asia/Laos",
          "Southeast Asia/Vietnam",
          "Southeast Asia/Laos",
          "Southeast Asia/Vietnam",
          "Southeast Asia/Laos",
          "Southeast Asia/Thailand",
          "Southeast Asia/Philippines",
          "Southeast Asia/Indonesia",
          "Southeast Asia/Indonesia",
          "Southeast Asia/Indonesia",
          "Southeast Asia/Thailand",
          "Southeast Asia/Philippines",
          "Southeast Asia/Myanmar",
          "Southeast Asia/Philippines",
          "Southeast Asia/Myanmar",
          "Southeast Asia/Philippines",
          "Southeast Asia/Non-indigenous",
          "Southeast Asia/Cambodia",
          "Southeast Asia/Vietnam",
          "Southeast Asia/Myanmar",
          "Southeast Asia/Myanmar",
          "Southeast Asia/East Timor",
          "Southeast Asia/Philippines",
          "Southeast Asia/Malaysia",
          "Southeast Asia/Philippines",
          "Southeast Asia/Non-indigenous",
          "Southeast Asia/Philippines",
          "Southeast Asia/Indonesia",
          "Southeast Asia/Indonesia",
          "Southeast Asia/Philippines",
          "Southeast Asia/Laos",
          "Southeast Asia/Vietnam",
          "Southeast Asia/Laos",
          "Southeast Asia/Thailand",
          "Southeast Asia/Vietnam",
          "Southeast Asia/Brunei",
          "Southeast Asia/Indonesia",
          "Southeast Asia/Malaysia",
          "Southeast Asia/Philippines",
          "Southeast Asia/Philippines",
          "Southeast Asia/Philippines",
          "Southeast Asia/Philippines",
          "Southeast Asia/Philippines",
          "Southeast Asia/Indonesia",
          "Southeast Asia/Indonesia",
          "Southeast Asia/Cambodia",
          "Southeast Asia/Vietnam",
          "Southeast Asia/Myanmar",
          "Southeast Asia/Philippines",
          "Southeast Asia/Laos",
          "Southeast Asia/Myanmar",
          "Southeast Asia/Cambodia",
          "Southeast Asia/Vietnam",
          "Southeast Asia/Indonesia",
          "Southeast Asia/Myanmar",
          "Southeast Asia/Philippines",
          "Southeast Asia/Philippines",
          "Southeast Asia/Philippines",
          "Southeast Asia/Malaysia",
          "Southeast Asia/Philippines",
          "Southeast Asia/Cambodia",
          "Southeast Asia/Myanmar",
          "Southeast Asia/Thailand",
          "Southeast Asia/Cambodia",
          "Southeast Asia/Laos",
          "Southeast Asia/Philippines",
          "Southeast Asia/Indonesia",
          "Southeast Asia/Laos",
          "Southeast Asia/Myanmar",
          "Southeast Asia/Myanmar",
          "Southeast Asia/Myanmar",
          "Southeast Asia/Indonesia",
          "Southeast Asia/Indonesia",
          "Southeast Asia/Philippines",
          "Southeast Asia/Philippines",
          "Southeast Asia/Philippines",
          "Southeast Asia/East Timor",
          "Southeast Asia/Myanmar",
          "Southeast Asia/Indonesia",
          "Southeast Asia/Indonesia",
          "Southeast Asia/East Timor",
          "Southeast Asia/Myanmar",
          "Southeast Asia/Thailand",
          "Southeast Asia/Indonesia",
          "Southeast Asia/Philippines",
          "Southeast Asia/Philippines",
          "Southeast Asia/Philippines",
          "Southeast Asia/Philippines",
          "Southeast Asia/Indonesia",
          "Southeast Asia/Myanmar",
          "Southeast Asia/Indonesia",
          "Southeast Asia/Indonesia",
          "Southeast Asia/Indonesia",
          "Southeast Asia/Laos",
          "Southeast Asia/Thailand",
          "Southeast Asia/East Timor",
          "Southeast Asia/Philippines",
          "Southeast Asia/Brunei",
          "Southeast Asia/Cambodia",
          "Southeast Asia/East Timor",
          "Southeast Asia/Indonesia",
          "Southeast Asia/Laos",
          "Southeast Asia/Malaysia",
          "Southeast Asia/Myanmar",
          "Southeast Asia/Non-indigenous",
          "Southeast Asia/Philippines",
          "Southeast Asia/Singapore",
          "Southeast Asia/Thailand",
          "Southeast Asia/Vietnam",
          "Southeast Asia/Philippines",
          "Southeast Asia/Philippines",
          "Southeast Asia/Myanmar",
          "Southeast Asia/Philippines",
          "Southeast Asia/Indonesia",
          "Southeast Asia/Non-indigenous",
          "Southeast Asia/Philippines",
          "Southeast Asia/Indonesia",
          "Southeast Asia/Indonesia",
          "Southeast Asia/Non-indigenous",
          "Southeast Asia/Philippines",
          "Southeast Asia/Myanmar",
          "Southeast Asia/Thailand",
          "Southeast Asia/Philippines",
          "Southeast Asia/Philippines",
          "Southeast Asia/Indonesia",
          "Southeast Asia/Indonesia",
          "Southeast Asia/Non-indigenous",
          "Southeast Asia/Philippines",
          "Southeast Asia/East Timor",
          "Southeast Asia/East Timor",
          "Southeast Asia/Indonesia",
          "Southeast Asia/Philippines",
          "Southeast Asia/Thailand",
          "Southeast Asia/Cambodia",
          "Southeast Asia/Vietnam",
          "Southeast Asia/Philippines",
          "Southeast Asia/Indonesia",
          "Southeast Asia/Indonesia",
          "Southeast Asia/Indonesia",
          "Southeast Asia/Malaysia",
          "Southeast Asia/Malaysia",
          "Southeast Asia/Myanmar",
          "Southeast Asia",
          "Southeast Asia",
          "Southeast Asia",
          "Southeast Asia",
          "Southeast Asia",
          "Southeast Asia",
          "Southeast Asia",
          "Southeast Asia",
          "Southeast Asia",
          "Southeast Asia",
          "Southeast Asia",
          "Southeast Asia",
          ""
         ],
         "root": {
          "color": "#ffffff"
         },
         "textfont": {
          "size": 16
         },
         "type": "treemap",
         "values": [
          7,
          4,
          24,
          4,
          4,
          7,
          7,
          7,
          5,
          5,
          4,
          4,
          4,
          22,
          9,
          13,
          9,
          4,
          4,
          4,
          5,
          24,
          4,
          4,
          4,
          4,
          4,
          5,
          4,
          4,
          4,
          4,
          4,
          4,
          4,
          4,
          4,
          4,
          5,
          7,
          20,
          6,
          8,
          4,
          37,
          4,
          7,
          10,
          6,
          6,
          7,
          4,
          4,
          4,
          8,
          4,
          63,
          34,
          9,
          4,
          16,
          4,
          4,
          5,
          5,
          5,
          7,
          7,
          7,
          5,
          4,
          4,
          4,
          21,
          268,
          75,
          7,
          7,
          11,
          4,
          5,
          5,
          50,
          50,
          5,
          5,
          4,
          4,
          4,
          4,
          5,
          4,
          7,
          7,
          36,
          36,
          4,
          5,
          8,
          8,
          6,
          9,
          24,
          14,
          5,
          4,
          5,
          4,
          5,
          36,
          6,
          4,
          7,
          7,
          7,
          4,
          7,
          4,
          4,
          7,
          66,
          8,
          7,
          4,
          7,
          7,
          4,
          5,
          9,
          12,
          13,
          636,
          50,
          85,
          81,
          2,
          145,
          1,
          52,
          70,
          17,
          13,
          4,
          4,
          5,
          6,
          4,
          5,
          8,
          4,
          4,
          13,
          13,
          4,
          5,
          54,
          4,
          7,
          4,
          8,
          14,
          14,
          51,
          114,
          5,
          137,
          21,
          5,
          4,
          4,
          53,
          13,
          5,
          16,
          124,
          59,
          1376,
          138,
          170,
          262,
          92,
          540,
          1,
          222,
          291,
          3291
         ]
        }
       ],
       "layout": {
        "coloraxis": {
         "cmax": 200,
         "cmid": 100,
         "cmin": 0,
         "colorbar": {
          "title": {
           "text": "# Datasets"
          }
         },
         "colorscale": [
          [
           0,
           "rgb(158,1,66)"
          ],
          [
           0.1,
           "rgb(213,62,79)"
          ],
          [
           0.2,
           "rgb(244,109,67)"
          ],
          [
           0.3,
           "rgb(253,174,97)"
          ],
          [
           0.4,
           "rgb(254,224,139)"
          ],
          [
           0.5,
           "rgb(255,255,191)"
          ],
          [
           0.6,
           "rgb(230,245,152)"
          ],
          [
           0.7,
           "rgb(171,221,164)"
          ],
          [
           0.8,
           "rgb(102,194,165)"
          ],
          [
           0.9,
           "rgb(50,136,189)"
          ],
          [
           1,
           "rgb(94,79,162)"
          ]
         ]
        },
        "font": {
         "size": 14
        },
        "height": 500,
        "legend": {
         "tracegroupgap": 0
        },
        "margin": {
         "b": 10,
         "l": 10,
         "r": 10,
         "t": 10
        },
        "showlegend": true,
        "template": {
         "data": {
          "scatter": [
           {
            "type": "scatter"
           }
          ]
         }
        },
        "width": 1000
       }
      },
      "image/png": "[encoded data removed]",
      "text/html": [
       "<div>                            <div id=\"ff058b52-1144-4bdc-aea0-ba59eaa7f4a3\" class=\"plotly-graph-div\" style=\"height:500px; width:1000px;\"></div>            <script type=\"text/javascript\">                require([\"plotly\"], function(Plotly) {                    window.PLOTLYENV=window.PLOTLYENV || {};                                    if (document.getElementById(\"ff058b52-1144-4bdc-aea0-ba59eaa7f4a3\")) {                    Plotly.newPlot(                        \"ff058b52-1144-4bdc-aea0-ba59eaa7f4a3\",                        [{\"branchvalues\":\"total\",\"customdata\":[[7.0],[4.0],[24.0],[4.0],[4.0],[7.0],[7.0],[7.0],[5.0],[5.0],[4.0],[4.0],[4.0],[22.0],[9.0],[13.0],[9.0],[4.0],[4.0],[4.0],[5.0],[24.0],[4.0],[4.0],[4.0],[4.0],[4.0],[5.0],[4.0],[4.0],[4.0],[4.0],[4.0],[4.0],[4.0],[4.0],[4.0],[4.0],[5.0],[7.0],[20.0],[6.0],[8.0],[4.0],[37.0],[4.0],[7.0],[10.0],[6.0],[6.0],[7.0],[4.0],[4.0],[4.0],[8.0],[4.0],[63.0],[34.0],[9.0],[4.0],[16.0],[4.0],[4.0],[5.0],[5.0],[5.0],[7.0],[7.0],[7.0],[5.0],[4.0],[4.0],[4.0],[21.0],[268.0],[75.0],[7.0],[7.0],[11.0],[4.0],[5.0],[5.0],[50.0],[50.0],[5.0],[5.0],[4.0],[4.0],[4.0],[4.0],[5.0],[4.0],[7.0],[7.0],[36.0],[36.0],[4.0],[5.0],[8.0],[8.0],[6.0],[9.0],[24.0],[14.0],[5.0],[4.0],[5.0],[4.0],[5.0],[36.0],[6.0],[4.0],[7.0],[7.0],[7.0],[4.0],[7.0],[4.0],[4.0],[7.0],[66.0],[8.0],[7.0],[4.0],[7.0],[7.0],[4.0],[5.0],[9.0],[12.0],[13.0],[636.0],[50.0],[85.0],[81.0],[2.0],[145.0],[1.0],[52.0],[70.0],[17.0],[13.0],[4.0],[4.0],[5.0],[6.0],[4.0],[5.0],[8.0],[4.0],[4.0],[13.0],[13.0],[4.0],[5.0],[54.0],[4.0],[7.0],[4.0],[8.0],[14.0],[14.0],[51.0],[114.0],[5.0],[137.0],[21.0],[5.0],[4.0],[4.0],[53.0],[13.0],[5.0],[8.125],[32.91935483870968],[8.898305084745763],[356.25581395348837],[29.6231884057971],[60.77647058823529],[44.900763358778626],[45.369565217391305],[53.162962962962965],[1.0],[72.71171171171171],[90.52577319587628],[181.2509875417806]],\"domain\":{\"x\":[0.0,1.0],\"y\":[0.0,1.0]},\"hovertemplate\":\"labels=%{label}\\u003cbr\\u003e# Datasets_sum=%{value}\\u003cbr\\u003eparent=%{parent}\\u003cbr\\u003eid=%{id}\\u003cbr\\u003e# Datasets=%{color}\\u003cextra\\u003e\\u003c\\u002fextra\\u003e\",\"ids\":[\"Southeast Asia\\u002fIndonesia\\u002fabs\",\"Southeast Asia\\u002fPhilippines\\u002fabx\",\"Southeast Asia\\u002fIndonesia\\u002face\",\"Southeast Asia\\u002fPhilippines\\u002fagn\",\"Southeast Asia\\u002fPhilippines\\u002fagt\",\"Southeast Asia\\u002fLaos\\u002fahk\",\"Southeast Asia\\u002fMyanmar\\u002fahk\",\"Southeast Asia\\u002fThailand\\u002fahk\",\"Southeast Asia\\u002fIndonesia\\u002falp\",\"Southeast Asia\\u002fIndonesia\\u002famk\",\"Southeast Asia\\u002fMyanmar\\u002fatb\",\"Southeast Asia\\u002fPhilippines\\u002fatd\",\"Southeast Asia\\u002fPhilippines\\u002fatt\",\"Southeast Asia\\u002fIndonesia\\u002fban\",\"Southeast Asia\\u002fIndonesia\\u002fbbc\",\"Southeast Asia\\u002fPhilippines\\u002fbcl\",\"Southeast Asia\\u002fIndonesia\\u002fbew\",\"Southeast Asia\\u002fEast Timor\\u002fbfn\",\"Southeast Asia\\u002fIndonesia\\u002fbfn\",\"Southeast Asia\\u002fPhilippines\\u002fbgs\",\"Southeast Asia\\u002fIndonesia\\u002fbhp\",\"Southeast Asia\\u002fIndonesia\\u002fbjn\",\"Southeast Asia\\u002fPhilippines\\u002fbkd\",\"Southeast Asia\\u002fEast Timor\\u002fbkx\",\"Southeast Asia\\u002fLaos\\u002fblt\",\"Southeast Asia\\u002fVietnam\\u002fblt\",\"Southeast Asia\\u002fPhilippines\\u002fblw\",\"Southeast Asia\\u002fIndonesia\\u002fblz\",\"Southeast Asia\\u002fPhilippines\\u002fbpr\",\"Southeast Asia\\u002fPhilippines\\u002fbps\",\"Southeast Asia\\u002fCambodia\\u002fbrb\",\"Southeast Asia\\u002fLaos\\u002fbrb\",\"Southeast Asia\\u002fVietnam\\u002fbrb\",\"Southeast Asia\\u002fLaos\\u002fbru\",\"Southeast Asia\\u002fVietnam\\u002fbru\",\"Southeast Asia\\u002fLaos\\u002fbrv\",\"Southeast Asia\\u002fThailand\\u002fbrv\",\"Southeast Asia\\u002fPhilippines\\u002fbto\",\"Southeast Asia\\u002fIndonesia\\u002fbts\",\"Southeast Asia\\u002fIndonesia\\u002fbtx\",\"Southeast Asia\\u002fIndonesia\\u002fbug\",\"Southeast Asia\\u002fThailand\\u002fbzi\",\"Southeast Asia\\u002fPhilippines\\u002fcbk\",\"Southeast Asia\\u002fMyanmar\\u002fccp\",\"Southeast Asia\\u002fPhilippines\\u002fceb\",\"Southeast Asia\\u002fMyanmar\\u002fcfm\",\"Southeast Asia\\u002fPhilippines\\u002fcgc\",\"Southeast Asia\\u002fNon-indigenous\\u002fcmn\",\"Southeast Asia\\u002fCambodia\\u002fcmo\",\"Southeast Asia\\u002fVietnam\\u002fcmo\",\"Southeast Asia\\u002fMyanmar\\u002fcnh\",\"Southeast Asia\\u002fMyanmar\\u002fctd\",\"Southeast Asia\\u002fEast Timor\\u002fddg\",\"Southeast Asia\\u002fPhilippines\\u002fdgc\",\"Southeast Asia\\u002fMalaysia\\u002fdtp\",\"Southeast Asia\\u002fPhilippines\\u002febk\",\"Southeast Asia\\u002fNon-indigenous\\u002feng\",\"Southeast Asia\\u002fPhilippines\\u002ffil\",\"Southeast Asia\\u002fIndonesia\\u002fgor\",\"Southeast Asia\\u002fIndonesia\\u002fheg\",\"Southeast Asia\\u002fPhilippines\\u002fhil\",\"Southeast Asia\\u002fLaos\\u002fhni\",\"Southeast Asia\\u002fVietnam\\u002fhni\",\"Southeast Asia\\u002fLaos\\u002fhnj\",\"Southeast Asia\\u002fThailand\\u002fhnj\",\"Southeast Asia\\u002fVietnam\\u002fhnj\",\"Southeast Asia\\u002fBrunei\\u002fiba\",\"Southeast Asia\\u002fIndonesia\\u002fiba\",\"Southeast Asia\\u002fMalaysia\\u002fiba\",\"Southeast Asia\\u002fPhilippines\\u002fifa\",\"Southeast Asia\\u002fPhilippines\\u002fifb\",\"Southeast Asia\\u002fPhilippines\\u002fifu\",\"Southeast Asia\\u002fPhilippines\\u002fify\",\"Southeast Asia\\u002fPhilippines\\u002filo\",\"Southeast Asia\\u002fIndonesia\\u002find\",\"Southeast Asia\\u002fIndonesia\\u002fjav\",\"Southeast Asia\\u002fCambodia\\u002fjra\",\"Southeast Asia\\u002fVietnam\\u002fjra\",\"Southeast Asia\\u002fMyanmar\\u002fkac\",\"Southeast Asia\\u002fPhilippines\\u002fkak\",\"Southeast Asia\\u002fLaos\\u002fkhb\",\"Southeast Asia\\u002fMyanmar\\u002fkhb\",\"Southeast Asia\\u002fCambodia\\u002fkhm\",\"Southeast Asia\\u002fVietnam\\u002fkhm\",\"Southeast Asia\\u002fIndonesia\\u002fkje\",\"Southeast Asia\\u002fMyanmar\\u002fkkh\",\"Southeast Asia\\u002fPhilippines\\u002fkmk\",\"Southeast Asia\\u002fPhilippines\\u002fkne\",\"Southeast Asia\\u002fPhilippines\\u002fkqe\",\"Southeast Asia\\u002fMalaysia\\u002fkqr\",\"Southeast Asia\\u002fPhilippines\\u002fkrj\",\"Southeast Asia\\u002fCambodia\\u002fkrr\",\"Southeast Asia\\u002fMyanmar\\u002fksw\",\"Southeast Asia\\u002fThailand\\u002fksw\",\"Southeast Asia\\u002fCambodia\\u002flao\",\"Southeast Asia\\u002fLaos\\u002flao\",\"Southeast Asia\\u002fPhilippines\\u002flbk\",\"Southeast Asia\\u002fIndonesia\\u002flex\",\"Southeast Asia\\u002fLaos\\u002flhu\",\"Southeast Asia\\u002fMyanmar\\u002flhu\",\"Southeast Asia\\u002fMyanmar\\u002flsi\",\"Southeast Asia\\u002fMyanmar\\u002flus\",\"Southeast Asia\\u002fIndonesia\\u002fmad\",\"Southeast Asia\\u002fIndonesia\\u002fmak\",\"Southeast Asia\\u002fPhilippines\\u002fmbb\",\"Southeast Asia\\u002fPhilippines\\u002fmbs\",\"Southeast Asia\\u002fPhilippines\\u002fmbt\",\"Southeast Asia\\u002fEast Timor\\u002fmgm\",\"Southeast Asia\\u002fMyanmar\\u002fmhx\",\"Southeast Asia\\u002fIndonesia\\u002fmin\",\"Southeast Asia\\u002fIndonesia\\u002fmkn\",\"Southeast Asia\\u002fEast Timor\\u002fmkz\",\"Southeast Asia\\u002fMyanmar\\u002fmnw\",\"Southeast Asia\\u002fThailand\\u002fmnw\",\"Southeast Asia\\u002fIndonesia\\u002fmqj\",\"Southeast Asia\\u002fPhilippines\\u002fmrw\",\"Southeast Asia\\u002fPhilippines\\u002fmsb\",\"Southeast Asia\\u002fPhilippines\\u002fmsk\",\"Southeast Asia\\u002fPhilippines\\u002fmsm\",\"Southeast Asia\\u002fIndonesia\\u002fmui\",\"Southeast Asia\\u002fMyanmar\\u002fmya\",\"Southeast Asia\\u002fIndonesia\\u002fnia\",\"Southeast Asia\\u002fIndonesia\\u002fnij\",\"Southeast Asia\\u002fIndonesia\\u002fnlc\",\"Southeast Asia\\u002fLaos\\u002fnod\",\"Southeast Asia\\u002fThailand\\u002fnod\",\"Southeast Asia\\u002fEast Timor\\u002fnxa\",\"Southeast Asia\\u002fPhilippines\\u002fobo\",\"Southeast Asia\\u002fBrunei\\u002fothers\",\"Southeast Asia\\u002fCambodia\\u002fothers\",\"Southeast Asia\\u002fEast Timor\\u002fothers\",\"Southeast Asia\\u002fIndonesia\\u002fothers\",\"Southeast Asia\\u002fLaos\\u002fothers\",\"Southeast Asia\\u002fMalaysia\\u002fothers\",\"Southeast Asia\\u002fMyanmar\\u002fothers\",\"Southeast Asia\\u002fNon-indigenous\\u002fothers\",\"Southeast Asia\\u002fPhilippines\\u002fothers\",\"Southeast Asia\\u002fSingapore\\u002fothers\",\"Southeast Asia\\u002fThailand\\u002fothers\",\"Southeast Asia\\u002fVietnam\\u002fothers\",\"Southeast Asia\\u002fPhilippines\\u002fpag\",\"Southeast Asia\\u002fPhilippines\\u002fpam\",\"Southeast Asia\\u002fMyanmar\\u002fpce\",\"Southeast Asia\\u002fPhilippines\\u002fplw\",\"Southeast Asia\\u002fIndonesia\\u002fpmf\",\"Southeast Asia\\u002fNon-indigenous\\u002fpor\",\"Southeast Asia\\u002fPhilippines\\u002fprf\",\"Southeast Asia\\u002fIndonesia\\u002fptu\",\"Southeast Asia\\u002fIndonesia\\u002frej\",\"Southeast Asia\\u002fNon-indigenous\\u002fsan\",\"Southeast Asia\\u002fPhilippines\\u002fsgb\",\"Southeast Asia\\u002fMyanmar\\u002fshn\",\"Southeast Asia\\u002fThailand\\u002fshn\",\"Southeast Asia\\u002fPhilippines\\u002fsmk\",\"Southeast Asia\\u002fPhilippines\\u002fsml\",\"Southeast Asia\\u002fIndonesia\\u002fsun\",\"Southeast Asia\\u002fIndonesia\\u002fsxn\",\"Southeast Asia\\u002fNon-indigenous\\u002ftam\",\"Southeast Asia\\u002fPhilippines\\u002ftbl\",\"Southeast Asia\\u002fEast Timor\\u002ftdt\",\"Southeast Asia\\u002fEast Timor\\u002ftet\",\"Southeast Asia\\u002fIndonesia\\u002ftet\",\"Southeast Asia\\u002fPhilippines\\u002ftgl\",\"Southeast Asia\\u002fThailand\\u002ftha\",\"Southeast Asia\\u002fCambodia\\u002ftpu\",\"Southeast Asia\\u002fVietnam\\u002fvie\",\"Southeast Asia\\u002fPhilippines\\u002fwar\",\"Southeast Asia\\u002fIndonesia\\u002fwrs\",\"Southeast Asia\\u002fIndonesia\\u002fxmm\",\"Southeast Asia\\u002fIndonesia\\u002fyva\",\"Southeast Asia\\u002fMalaysia\\u002fzlm\",\"Southeast Asia\\u002fMalaysia\\u002fzsm\",\"Southeast Asia\\u002fMyanmar\\u002fzyp\",\"Southeast Asia\\u002fBrunei\",\"Southeast Asia\\u002fCambodia\",\"Southeast Asia\\u002fEast Timor\",\"Southeast Asia\\u002fIndonesia\",\"Southeast Asia\\u002fLaos\",\"Southeast Asia\\u002fMalaysia\",\"Southeast Asia\\u002fMyanmar\",\"Southeast Asia\\u002fNon-indigenous\",\"Southeast Asia\\u002fPhilippines\",\"Southeast Asia\\u002fSingapore\",\"Southeast Asia\\u002fThailand\",\"Southeast Asia\\u002fVietnam\",\"Southeast Asia\"],\"labels\":[\"abs\",\"abx\",\"ace\",\"agn\",\"agt\",\"ahk\",\"ahk\",\"ahk\",\"alp\",\"amk\",\"atb\",\"atd\",\"att\",\"ban\",\"bbc\",\"bcl\",\"bew\",\"bfn\",\"bfn\",\"bgs\",\"bhp\",\"bjn\",\"bkd\",\"bkx\",\"blt\",\"blt\",\"blw\",\"blz\",\"bpr\",\"bps\",\"brb\",\"brb\",\"brb\",\"bru\",\"bru\",\"brv\",\"brv\",\"bto\",\"bts\",\"btx\",\"bug\",\"bzi\",\"cbk\",\"ccp\",\"ceb\",\"cfm\",\"cgc\",\"cmn\",\"cmo\",\"cmo\",\"cnh\",\"ctd\",\"ddg\",\"dgc\",\"dtp\",\"ebk\",\"eng\",\"fil\",\"gor\",\"heg\",\"hil\",\"hni\",\"hni\",\"hnj\",\"hnj\",\"hnj\",\"iba\",\"iba\",\"iba\",\"ifa\",\"ifb\",\"ifu\",\"ify\",\"ilo\",\"ind\",\"jav\",\"jra\",\"jra\",\"kac\",\"kak\",\"khb\",\"khb\",\"khm\",\"khm\",\"kje\",\"kkh\",\"kmk\",\"kne\",\"kqe\",\"kqr\",\"krj\",\"krr\",\"ksw\",\"ksw\",\"lao\",\"lao\",\"lbk\",\"lex\",\"lhu\",\"lhu\",\"lsi\",\"lus\",\"mad\",\"mak\",\"mbb\",\"mbs\",\"mbt\",\"mgm\",\"mhx\",\"min\",\"mkn\",\"mkz\",\"mnw\",\"mnw\",\"mqj\",\"mrw\",\"msb\",\"msk\",\"msm\",\"mui\",\"mya\",\"nia\",\"nij\",\"nlc\",\"nod\",\"nod\",\"nxa\",\"obo\",\"others\",\"others\",\"others\",\"others\",\"others\",\"others\",\"others\",\"others\",\"others\",\"others\",\"others\",\"others\",\"pag\",\"pam\",\"pce\",\"plw\",\"pmf\",\"por\",\"prf\",\"ptu\",\"rej\",\"san\",\"sgb\",\"shn\",\"shn\",\"smk\",\"sml\",\"sun\",\"sxn\",\"tam\",\"tbl\",\"tdt\",\"tet\",\"tet\",\"tgl\",\"tha\",\"tpu\",\"vie\",\"war\",\"wrs\",\"xmm\",\"yva\",\"zlm\",\"zsm\",\"zyp\",\"Brunei\",\"Cambodia\",\"East Timor\",\"Indonesia\",\"Laos\",\"Malaysia\",\"Myanmar\",\"Non-indigenous\",\"Philippines\",\"Singapore\",\"Thailand\",\"Vietnam\",\"Southeast Asia\"],\"marker\":{\"coloraxis\":\"coloraxis\",\"colors\":[7.0,4.0,24.0,4.0,4.0,7.0,7.0,7.0,5.0,5.0,4.0,4.0,4.0,22.0,9.0,13.0,9.0,4.0,4.0,4.0,5.0,24.0,4.0,4.0,4.0,4.0,4.0,5.0,4.0,4.0,4.0,4.0,4.0,4.0,4.0,4.0,4.0,4.0,5.0,7.0,20.0,6.0,8.0,4.0,37.0,4.0,7.0,10.0,6.0,6.0,7.0,4.0,4.0,4.0,8.0,4.0,63.0,34.0,9.0,4.0,16.0,4.0,4.0,5.0,5.0,5.0,7.0,7.0,7.0,5.0,4.0,4.0,4.0,21.0,268.0,75.0,7.0,7.0,11.0,4.0,5.0,5.0,50.0,50.0,5.0,5.0,4.0,4.0,4.0,4.0,5.0,4.0,7.0,7.0,36.0,36.0,4.0,5.0,8.0,8.0,6.0,9.0,24.0,14.0,5.0,4.0,5.0,4.0,5.0,36.0,6.0,4.0,7.0,7.0,7.0,4.0,7.0,4.0,4.0,7.0,66.0,8.0,7.0,4.0,7.0,7.0,4.0,5.0,9.0,12.0,13.0,636.0,50.0,85.0,81.0,2.0,145.0,1.0,52.0,70.0,17.0,13.0,4.0,4.0,5.0,6.0,4.0,5.0,8.0,4.0,4.0,13.0,13.0,4.0,5.0,54.0,4.0,7.0,4.0,8.0,14.0,14.0,51.0,114.0,5.0,137.0,21.0,5.0,4.0,4.0,53.0,13.0,5.0,8.125,32.91935483870968,8.898305084745763,356.25581395348837,29.6231884057971,60.77647058823529,44.900763358778626,45.369565217391305,53.162962962962965,1.0,72.71171171171171,90.52577319587628,181.2509875417806],\"cornerradius\":3},\"name\":\"\",\"parents\":[\"Southeast Asia\\u002fIndonesia\",\"Southeast Asia\\u002fPhilippines\",\"Southeast Asia\\u002fIndonesia\",\"Southeast Asia\\u002fPhilippines\",\"Southeast Asia\\u002fPhilippines\",\"Southeast Asia\\u002fLaos\",\"Southeast Asia\\u002fMyanmar\",\"Southeast Asia\\u002fThailand\",\"Southeast Asia\\u002fIndonesia\",\"Southeast Asia\\u002fIndonesia\",\"Southeast Asia\\u002fMyanmar\",\"Southeast Asia\\u002fPhilippines\",\"Southeast Asia\\u002fPhilippines\",\"Southeast Asia\\u002fIndonesia\",\"Southeast Asia\\u002fIndonesia\",\"Southeast Asia\\u002fPhilippines\",\"Southeast Asia\\u002fIndonesia\",\"Southeast Asia\\u002fEast Timor\",\"Southeast Asia\\u002fIndonesia\",\"Southeast Asia\\u002fPhilippines\",\"Southeast Asia\\u002fIndonesia\",\"Southeast Asia\\u002fIndonesia\",\"Southeast Asia\\u002fPhilippines\",\"Southeast Asia\\u002fEast Timor\",\"Southeast Asia\\u002fLaos\",\"Southeast Asia\\u002fVietnam\",\"Southeast Asia\\u002fPhilippines\",\"Southeast Asia\\u002fIndonesia\",\"Southeast Asia\\u002fPhilippines\",\"Southeast Asia\\u002fPhilippines\",\"Southeast Asia\\u002fCambodia\",\"Southeast Asia\\u002fLaos\",\"Southeast Asia\\u002fVietnam\",\"Southeast Asia\\u002fLaos\",\"Southeast Asia\\u002fVietnam\",\"Southeast Asia\\u002fLaos\",\"Southeast Asia\\u002fThailand\",\"Southeast Asia\\u002fPhilippines\",\"Southeast Asia\\u002fIndonesia\",\"Southeast Asia\\u002fIndonesia\",\"Southeast Asia\\u002fIndonesia\",\"Southeast Asia\\u002fThailand\",\"Southeast Asia\\u002fPhilippines\",\"Southeast Asia\\u002fMyanmar\",\"Southeast Asia\\u002fPhilippines\",\"Southeast Asia\\u002fMyanmar\",\"Southeast Asia\\u002fPhilippines\",\"Southeast Asia\\u002fNon-indigenous\",\"Southeast Asia\\u002fCambodia\",\"Southeast Asia\\u002fVietnam\",\"Southeast Asia\\u002fMyanmar\",\"Southeast Asia\\u002fMyanmar\",\"Southeast Asia\\u002fEast Timor\",\"Southeast Asia\\u002fPhilippines\",\"Southeast Asia\\u002fMalaysia\",\"Southeast Asia\\u002fPhilippines\",\"Southeast Asia\\u002fNon-indigenous\",\"Southeast Asia\\u002fPhilippines\",\"Southeast Asia\\u002fIndonesia\",\"Southeast Asia\\u002fIndonesia\",\"Southeast Asia\\u002fPhilippines\",\"Southeast Asia\\u002fLaos\",\"Southeast Asia\\u002fVietnam\",\"Southeast Asia\\u002fLaos\",\"Southeast Asia\\u002fThailand\",\"Southeast Asia\\u002fVietnam\",\"Southeast Asia\\u002fBrunei\",\"Southeast Asia\\u002fIndonesia\",\"Southeast Asia\\u002fMalaysia\",\"Southeast Asia\\u002fPhilippines\",\"Southeast Asia\\u002fPhilippines\",\"Southeast Asia\\u002fPhilippines\",\"Southeast Asia\\u002fPhilippines\",\"Southeast Asia\\u002fPhilippines\",\"Southeast Asia\\u002fIndonesia\",\"Southeast Asia\\u002fIndonesia\",\"Southeast Asia\\u002fCambodia\",\"Southeast Asia\\u002fVietnam\",\"Southeast Asia\\u002fMyanmar\",\"Southeast Asia\\u002fPhilippines\",\"Southeast Asia\\u002fLaos\",\"Southeast Asia\\u002fMyanmar\",\"Southeast Asia\\u002fCambodia\",\"Southeast Asia\\u002fVietnam\",\"Southeast Asia\\u002fIndonesia\",\"Southeast Asia\\u002fMyanmar\",\"Southeast Asia\\u002fPhilippines\",\"Southeast Asia\\u002fPhilippines\",\"Southeast Asia\\u002fPhilippines\",\"Southeast Asia\\u002fMalaysia\",\"Southeast Asia\\u002fPhilippines\",\"Southeast Asia\\u002fCambodia\",\"Southeast Asia\\u002fMyanmar\",\"Southeast Asia\\u002fThailand\",\"Southeast Asia\\u002fCambodia\",\"Southeast Asia\\u002fLaos\",\"Southeast Asia\\u002fPhilippines\",\"Southeast Asia\\u002fIndonesia\",\"Southeast Asia\\u002fLaos\",\"Southeast Asia\\u002fMyanmar\",\"Southeast Asia\\u002fMyanmar\",\"Southeast Asia\\u002fMyanmar\",\"Southeast Asia\\u002fIndonesia\",\"Southeast Asia\\u002fIndonesia\",\"Southeast Asia\\u002fPhilippines\",\"Southeast Asia\\u002fPhilippines\",\"Southeast Asia\\u002fPhilippines\",\"Southeast Asia\\u002fEast Timor\",\"Southeast Asia\\u002fMyanmar\",\"Southeast Asia\\u002fIndonesia\",\"Southeast Asia\\u002fIndonesia\",\"Southeast Asia\\u002fEast Timor\",\"Southeast Asia\\u002fMyanmar\",\"Southeast Asia\\u002fThailand\",\"Southeast Asia\\u002fIndonesia\",\"Southeast Asia\\u002fPhilippines\",\"Southeast Asia\\u002fPhilippines\",\"Southeast Asia\\u002fPhilippines\",\"Southeast Asia\\u002fPhilippines\",\"Southeast Asia\\u002fIndonesia\",\"Southeast Asia\\u002fMyanmar\",\"Southeast Asia\\u002fIndonesia\",\"Southeast Asia\\u002fIndonesia\",\"Southeast Asia\\u002fIndonesia\",\"Southeast Asia\\u002fLaos\",\"Southeast Asia\\u002fThailand\",\"Southeast Asia\\u002fEast Timor\",\"Southeast Asia\\u002fPhilippines\",\"Southeast Asia\\u002fBrunei\",\"Southeast Asia\\u002fCambodia\",\"Southeast Asia\\u002fEast Timor\",\"Southeast Asia\\u002fIndonesia\",\"Southeast Asia\\u002fLaos\",\"Southeast Asia\\u002fMalaysia\",\"Southeast Asia\\u002fMyanmar\",\"Southeast Asia\\u002fNon-indigenous\",\"Southeast Asia\\u002fPhilippines\",\"Southeast Asia\\u002fSingapore\",\"Southeast Asia\\u002fThailand\",\"Southeast Asia\\u002fVietnam\",\"Southeast Asia\\u002fPhilippines\",\"Southeast Asia\\u002fPhilippines\",\"Southeast Asia\\u002fMyanmar\",\"Southeast Asia\\u002fPhilippines\",\"Southeast Asia\\u002fIndonesia\",\"Southeast Asia\\u002fNon-indigenous\",\"Southeast Asia\\u002fPhilippines\",\"Southeast Asia\\u002fIndonesia\",\"Southeast Asia\\u002fIndonesia\",\"Southeast Asia\\u002fNon-indigenous\",\"Southeast Asia\\u002fPhilippines\",\"Southeast Asia\\u002fMyanmar\",\"Southeast Asia\\u002fThailand\",\"Southeast Asia\\u002fPhilippines\",\"Southeast Asia\\u002fPhilippines\",\"Southeast Asia\\u002fIndonesia\",\"Southeast Asia\\u002fIndonesia\",\"Southeast Asia\\u002fNon-indigenous\",\"Southeast Asia\\u002fPhilippines\",\"Southeast Asia\\u002fEast Timor\",\"Southeast Asia\\u002fEast Timor\",\"Southeast Asia\\u002fIndonesia\",\"Southeast Asia\\u002fPhilippines\",\"Southeast Asia\\u002fThailand\",\"Southeast Asia\\u002fCambodia\",\"Southeast Asia\\u002fVietnam\",\"Southeast Asia\\u002fPhilippines\",\"Southeast Asia\\u002fIndonesia\",\"Southeast Asia\\u002fIndonesia\",\"Southeast Asia\\u002fIndonesia\",\"Southeast Asia\\u002fMalaysia\",\"Southeast Asia\\u002fMalaysia\",\"Southeast Asia\\u002fMyanmar\",\"Southeast Asia\",\"Southeast Asia\",\"Southeast Asia\",\"Southeast Asia\",\"Southeast Asia\",\"Southeast Asia\",\"Southeast Asia\",\"Southeast Asia\",\"Southeast Asia\",\"Southeast Asia\",\"Southeast Asia\",\"Southeast Asia\",\"\"],\"values\":[7,4,24,4,4,7,7,7,5,5,4,4,4,22,9,13,9,4,4,4,5,24,4,4,4,4,4,5,4,4,4,4,4,4,4,4,4,4,5,7,20,6,8,4,37,4,7,10,6,6,7,4,4,4,8,4,63,34,9,4,16,4,4,5,5,5,7,7,7,5,4,4,4,21,268,75,7,7,11,4,5,5,50,50,5,5,4,4,4,4,5,4,7,7,36,36,4,5,8,8,6,9,24,14,5,4,5,4,5,36,6,4,7,7,7,4,7,4,4,7,66,8,7,4,7,7,4,5,9,12,13,636,50,85,81,2,145,1,52,70,17,13,4,4,5,6,4,5,8,4,4,13,13,4,5,54,4,7,4,8,14,14,51,114,5,137,21,5,4,4,53,13,5,16,124,59,1376,138,170,262,92,540,1,222,291,3291],\"type\":\"treemap\",\"root\":{\"color\":\"#ffffff\"},\"textfont\":{\"size\":16}}],                        {\"template\":{\"data\":{\"scatter\":[{\"type\":\"scatter\"}]}},\"coloraxis\":{\"colorbar\":{\"title\":{\"text\":\"# Datasets\"}},\"colorscale\":[[0.0,\"rgb(158,1,66)\"],[0.1,\"rgb(213,62,79)\"],[0.2,\"rgb(244,109,67)\"],[0.3,\"rgb(253,174,97)\"],[0.4,\"rgb(254,224,139)\"],[0.5,\"rgb(255,255,191)\"],[0.6,\"rgb(230,245,152)\"],[0.7,\"rgb(171,221,164)\"],[0.8,\"rgb(102,194,165)\"],[0.9,\"rgb(50,136,189)\"],[1.0,\"rgb(94,79,162)\"]],\"cmid\":100,\"cmin\":0,\"cmax\":200},\"legend\":{\"tracegroupgap\":0},\"margin\":{\"t\":10,\"l\":10,\"r\":10,\"b\":10},\"font\":{\"size\":14},\"width\":1000,\"height\":500,\"showlegend\":true},                        {\"responsive\": true}                    ).then(function(){\n",
       "                            \n",
       "var gd = document.getElementById('ff058b52-1144-4bdc-aea0-ba59eaa7f4a3');\n",
       "var x = new MutationObserver(function (mutations, observer) {{\n",
       "        var display = window.getComputedStyle(gd).display;\n",
       "        if (!display || display === 'none') {{\n",
       "            console.log([gd, 'removed!']);\n",
       "            Plotly.purge(gd);\n",
       "            observer.disconnect();\n",
       "        }}\n",
       "}});\n",
       "\n",
       "// Listen for the removal of the full notebook cells\n",
       "var notebookContainer = gd.closest('#notebook-container');\n",
       "if (notebookContainer) {{\n",
       "    x.observe(notebookContainer, {childList: true});\n",
       "}}\n",
       "\n",
       "// Listen for the clearing of the current output cell\n",
       "var outputEl = gd.closest('.output');\n",
       "if (outputEl) {{\n",
       "    x.observe(outputEl, {childList: true});\n",
       "}}\n",
       "\n",
       "                        })                };                });            </script>        </div>"
      ]
     },
     "metadata": {},
     "output_type": "display_data"
    }
   ],
   "source": [
    "fig = px.treemap(pdf, path=[px.Constant(\"Southeast Asia\"), 'Region', 'ISO code'], values='# Datasets',\n",
    "                  color='# Datasets', range_color=[0, 200],\n",
    "                  color_continuous_scale='Spectral', color_continuous_midpoint=100)\n",
    "fig.update_traces(root_color=\"#ffffff\", textfont=dict(size=16), marker=dict(cornerradius=3))\n",
    "fig.update_layout(\n",
    "    template='none',\n",
    "    width=1000,\n",
    "    height=500,\n",
    "    margin=dict(l=10, r=10, t=10, b=10),\n",
    "    font_size = 14,\n",
    "    # uniformtext=dict(minsize=8, mode='show'),\n",
    "    showlegend = True,\n",
    ")\n",
    "fig.show()"
   ]
  },
  {
   "cell_type": "code",
   "execution_count": null,
   "id": "ed317012-c553-440d-9f14-fcb81124c88f",
   "metadata": {},
   "outputs": [],
   "source": []
  },
  {
   "cell_type": "code",
   "execution_count": null,
   "id": "024aa1d3-e3e5-419a-aecf-b37a7dd611f7",
   "metadata": {},
   "outputs": [],
   "source": []
  },
  {
   "cell_type": "code",
   "execution_count": null,
   "id": "cf67e85a-b94a-413a-b543-797042cdf771",
   "metadata": {},
   "outputs": [],
   "source": []
  },
  {
   "cell_type": "code",
   "execution_count": 252,
   "id": "3d87245c-ef39-4f5b-b0d4-fe93b232a8aa",
   "metadata": {},
   "outputs": [
    {
     "data": {
      "text/html": [
       "<div>\n",
       "<style scoped>\n",
       "    .dataframe tbody tr th:only-of-type {\n",
       "        vertical-align: middle;\n",
       "    }\n",
       "\n",
       "    .dataframe tbody tr th {\n",
       "        vertical-align: top;\n",
       "    }\n",
       "\n",
       "    .dataframe thead th {\n",
       "        text-align: right;\n",
       "    }\n",
       "</style>\n",
       "<table border=\"1\" class=\"dataframe\">\n",
       "  <thead>\n",
       "    <tr style=\"text-align: right;\">\n",
       "      <th></th>\n",
       "      <th>No</th>\n",
       "      <th>Dataset name</th>\n",
       "      <th>Exists in Subset List?</th>\n",
       "      <th>Subset(s)</th>\n",
       "      <th>Unnamed: 4</th>\n",
       "      <th>Dataset description</th>\n",
       "      <th>Dataset URL</th>\n",
       "      <th>HuggingFace URL</th>\n",
       "      <th>Dataset language(s)</th>\n",
       "      <th>Dataset collection region</th>\n",
       "      <th>...</th>\n",
       "      <th>Edit Link</th>\n",
       "      <th>Submission Date</th>\n",
       "      <th>Last Update Date</th>\n",
       "      <th>Unnamed: 50</th>\n",
       "      <th>Approval Status</th>\n",
       "      <th>Reviewer</th>\n",
       "      <th>Notes</th>\n",
       "      <th>Obtained points</th>\n",
       "      <th>Dataloader name</th>\n",
       "      <th>GitHub Issue URL</th>\n",
       "    </tr>\n",
       "  </thead>\n",
       "  <tbody>\n",
       "    <tr>\n",
       "      <th>465</th>\n",
       "      <td>466</td>\n",
       "      <td>XQuAD</td>\n",
       "      <td>XQuAD</td>\n",
       "      <td>xquad.th\\nxquad.vi</td>\n",
       "      <td>NaN</td>\n",
       "      <td>XQuAD (Cross-lingual Question Answering Datase...</td>\n",
       "      <td>https://github.com/google-deepmind/xquad</td>\n",
       "      <td>https://huggingface.co/datasets/xquad</td>\n",
       "      <td>tha\\r\\nvie</td>\n",
       "      <td>NaN</td>\n",
       "      <td>...</td>\n",
       "      <td>https://www.jotform.com/edit/5741921855254967213</td>\n",
       "      <td>2023-10-27 13:03:05</td>\n",
       "      <td>2023-10-29 19:20:57</td>\n",
       "      <td>NaN</td>\n",
       "      <td>Approved</td>\n",
       "      <td>samuel.cahyawijaya@gmail.com</td>\n",
       "      <td>NaN</td>\n",
       "      <td>2.0</td>\n",
       "      <td>xquad</td>\n",
       "      <td>https://github.com/SEACrowd/seacrowd-datahub/i...</td>\n",
       "    </tr>\n",
       "    <tr>\n",
       "      <th>466</th>\n",
       "      <td>467</td>\n",
       "      <td>XQuAD-R</td>\n",
       "      <td>NO!!!</td>\n",
       "      <td>NaN</td>\n",
       "      <td>NaN</td>\n",
       "      <td>XQuAD-R is a retrieval version of the XQuAD da...</td>\n",
       "      <td>https://github.com/google-research-datasets/la...</td>\n",
       "      <td>NaN</td>\n",
       "      <td>tha\\r\\nvie</td>\n",
       "      <td>NaN</td>\n",
       "      <td>...</td>\n",
       "      <td>https://www.jotform.com/edit/5877329672004338040</td>\n",
       "      <td>2024-04-01 06:22:47</td>\n",
       "      <td>2024-04-01 15:29:57</td>\n",
       "      <td>NaN</td>\n",
       "      <td>Approved</td>\n",
       "      <td>rahmad.mahendra@cs.ui.ac.id</td>\n",
       "      <td>update from original submission:\\ndataset anno...</td>\n",
       "      <td>2.0</td>\n",
       "      <td>xquadr</td>\n",
       "      <td>https://github.com/SEACrowd/seacrowd-datahub/i...</td>\n",
       "    </tr>\n",
       "    <tr>\n",
       "      <th>467</th>\n",
       "      <td>468</td>\n",
       "      <td>xSID</td>\n",
       "      <td>xSID</td>\n",
       "      <td>English\\nIndonesian</td>\n",
       "      <td>NaN</td>\n",
       "      <td>We introduce XSID, a new benchmark for cross-l...</td>\n",
       "      <td>https://bitbucket.org/robvanderg/xsid/src/master/</td>\n",
       "      <td>NaN</td>\n",
       "      <td>ind\\neng</td>\n",
       "      <td>NaN</td>\n",
       "      <td>...</td>\n",
       "      <td>NaN</td>\n",
       "      <td>NaN</td>\n",
       "      <td>NaN</td>\n",
       "      <td>NaN</td>\n",
       "      <td>NusaCrowd carry-over</td>\n",
       "      <td>NaN</td>\n",
       "      <td>Cannot find the speech data</td>\n",
       "      <td>NaN</td>\n",
       "      <td>xsid</td>\n",
       "      <td>NaN</td>\n",
       "    </tr>\n",
       "    <tr>\n",
       "      <th>468</th>\n",
       "      <td>469</td>\n",
       "      <td>XStoryCloze</td>\n",
       "      <td>XStoryCloze</td>\n",
       "      <td>id\\nmy</td>\n",
       "      <td>NaN</td>\n",
       "      <td>XStoryCloze consists of the professionally tra...</td>\n",
       "      <td>https://huggingface.co/datasets/juletxara/xsto...</td>\n",
       "      <td>https://huggingface.co/datasets/juletxara/xsto...</td>\n",
       "      <td>ind\\r\\nmya</td>\n",
       "      <td>NaN</td>\n",
       "      <td>...</td>\n",
       "      <td>https://www.jotform.com/edit/5758787725592903029</td>\n",
       "      <td>2023-11-16 01:32:52</td>\n",
       "      <td>2023-11-19 13:19:25</td>\n",
       "      <td>NaN</td>\n",
       "      <td>Approved</td>\n",
       "      <td>samuel.cahyawijaya@gmail.com</td>\n",
       "      <td>+1 from Burmese</td>\n",
       "      <td>3.0</td>\n",
       "      <td>xstorycloze</td>\n",
       "      <td>https://github.com/SEACrowd/seacrowd-datahub/i...</td>\n",
       "    </tr>\n",
       "    <tr>\n",
       "      <th>469</th>\n",
       "      <td>470</td>\n",
       "      <td>Yunshan-Cup-2020 Lao POS</td>\n",
       "      <td>Yunshan-Cup-2020 Lao POS</td>\n",
       "      <td>lao</td>\n",
       "      <td>NaN</td>\n",
       "      <td>Lao POS dataset containing 11,000 sentences wa...</td>\n",
       "      <td>https://github.com/GKLMIP/Yunshan-Cup-2020</td>\n",
       "      <td>NaN</td>\n",
       "      <td>lao</td>\n",
       "      <td>Laos</td>\n",
       "      <td>...</td>\n",
       "      <td>https://www.jotform.com/edit/5758634875409132496</td>\n",
       "      <td>2023-11-15 21:18:07</td>\n",
       "      <td>2023-11-19 13:54:59</td>\n",
       "      <td>NaN</td>\n",
       "      <td>Approved</td>\n",
       "      <td>holy@aisingapore.org</td>\n",
       "      <td>NaN</td>\n",
       "      <td>3.0</td>\n",
       "      <td>yunshan_cup_2020</td>\n",
       "      <td>https://github.com/SEACrowd/seacrowd-datahub/i...</td>\n",
       "    </tr>\n",
       "  </tbody>\n",
       "</table>\n",
       "<p>5 rows × 57 columns</p>\n",
       "</div>"
      ],
      "text/plain": [
       "      No              Dataset name    Exists in Subset List?  \\\n",
       "465  466                     XQuAD                     XQuAD   \n",
       "466  467                   XQuAD-R                     NO!!!   \n",
       "467  468                      xSID                      xSID   \n",
       "468  469               XStoryCloze               XStoryCloze   \n",
       "469  470  Yunshan-Cup-2020 Lao POS  Yunshan-Cup-2020 Lao POS   \n",
       "\n",
       "               Subset(s)  Unnamed: 4  \\\n",
       "465   xquad.th\\nxquad.vi         NaN   \n",
       "466                  NaN         NaN   \n",
       "467  English\\nIndonesian         NaN   \n",
       "468               id\\nmy         NaN   \n",
       "469                  lao         NaN   \n",
       "\n",
       "                                   Dataset description  \\\n",
       "465  XQuAD (Cross-lingual Question Answering Datase...   \n",
       "466  XQuAD-R is a retrieval version of the XQuAD da...   \n",
       "467  We introduce XSID, a new benchmark for cross-l...   \n",
       "468  XStoryCloze consists of the professionally tra...   \n",
       "469  Lao POS dataset containing 11,000 sentences wa...   \n",
       "\n",
       "                                           Dataset URL  \\\n",
       "465           https://github.com/google-deepmind/xquad   \n",
       "466  https://github.com/google-research-datasets/la...   \n",
       "467  https://bitbucket.org/robvanderg/xsid/src/master/   \n",
       "468  https://huggingface.co/datasets/juletxara/xsto...   \n",
       "469         https://github.com/GKLMIP/Yunshan-Cup-2020   \n",
       "\n",
       "                                       HuggingFace URL Dataset language(s)  \\\n",
       "465              https://huggingface.co/datasets/xquad          tha\\r\\nvie   \n",
       "466                                                NaN          tha\\r\\nvie   \n",
       "467                                                NaN            ind\\neng   \n",
       "468  https://huggingface.co/datasets/juletxara/xsto...          ind\\r\\nmya   \n",
       "469                                                NaN                 lao   \n",
       "\n",
       "    Dataset collection region  ...  \\\n",
       "465                       NaN  ...   \n",
       "466                       NaN  ...   \n",
       "467                       NaN  ...   \n",
       "468                       NaN  ...   \n",
       "469                      Laos  ...   \n",
       "\n",
       "                                            Edit Link      Submission Date  \\\n",
       "465  https://www.jotform.com/edit/5741921855254967213  2023-10-27 13:03:05   \n",
       "466  https://www.jotform.com/edit/5877329672004338040  2024-04-01 06:22:47   \n",
       "467                                               NaN                  NaN   \n",
       "468  https://www.jotform.com/edit/5758787725592903029  2023-11-16 01:32:52   \n",
       "469  https://www.jotform.com/edit/5758634875409132496  2023-11-15 21:18:07   \n",
       "\n",
       "        Last Update Date Unnamed: 50       Approval Status  \\\n",
       "465  2023-10-29 19:20:57         NaN              Approved   \n",
       "466  2024-04-01 15:29:57         NaN              Approved   \n",
       "467                  NaN         NaN  NusaCrowd carry-over   \n",
       "468  2023-11-19 13:19:25         NaN              Approved   \n",
       "469  2023-11-19 13:54:59         NaN              Approved   \n",
       "\n",
       "                         Reviewer  \\\n",
       "465  samuel.cahyawijaya@gmail.com   \n",
       "466   rahmad.mahendra@cs.ui.ac.id   \n",
       "467                           NaN   \n",
       "468  samuel.cahyawijaya@gmail.com   \n",
       "469          holy@aisingapore.org   \n",
       "\n",
       "                                                 Notes  Obtained points  \\\n",
       "465                                                NaN              2.0   \n",
       "466  update from original submission:\\ndataset anno...              2.0   \n",
       "467                        Cannot find the speech data              NaN   \n",
       "468                                    +1 from Burmese              3.0   \n",
       "469                                                NaN              3.0   \n",
       "\n",
       "      Dataloader name                                   GitHub Issue URL  \n",
       "465             xquad  https://github.com/SEACrowd/seacrowd-datahub/i...  \n",
       "466            xquadr  https://github.com/SEACrowd/seacrowd-datahub/i...  \n",
       "467              xsid                                                NaN  \n",
       "468       xstorycloze  https://github.com/SEACrowd/seacrowd-datahub/i...  \n",
       "469  yunshan_cup_2020  https://github.com/SEACrowd/seacrowd-datahub/i...  \n",
       "\n",
       "[5 rows x 57 columns]"
      ]
     },
     "execution_count": 252,
     "metadata": {},
     "output_type": "execute_result"
    }
   ],
   "source": [
    "all_dset_df = pd.read_csv('./utils/all_datasets.csv')\n",
    "all_dset_df.tail()"
   ]
  },
  {
   "cell_type": "code",
   "execution_count": 253,
   "id": "171f3e24-7035-465b-bd86-24075781092c",
   "metadata": {},
   "outputs": [],
   "source": [
    "def get_index_from_pair(element_1, element_2, list_1, list_2):\n",
    "    for i, (x, y) in enumerate(zip(list_1, list_2)):\n",
    "        if x == element_1 and y == element_2:\n",
    "            return i\n",
    "    return -1"
   ]
  },
  {
   "cell_type": "code",
   "execution_count": 254,
   "id": "df97671e-1e80-4415-b66d-2232f13aaebf",
   "metadata": {},
   "outputs": [],
   "source": [
    "TASK_TO_DISPLAY_NAME = {\n",
    "    \"Abstract Meaning Representation\": \"Abstract Mean.\\nRepr.\",\n",
    "    \"Abstractive Summarization\": \"Abs.\\nSummariz.\",\n",
    "    \"Abusive Language Detection\": \"Abusive Lang.\\nDet.\",\n",
    "    \"Aspect Based Sentiment Analysis\": \"ABSA\",\n",
    "    \"Automatic Essay Scoring\": \"Essay\\nScoring\",\n",
    "    \"Automatic Speech Recognition\": \"ASR\",\n",
    "    \"Chatbot\": \"Chatbot\",\n",
    "    \"Clickbait Detection\": \"Clickbait\\nDet.\",\n",
    "    \"Code-switching Identification\": \"Code-switch.\\nID\",\n",
    "    \"Commonsense Reasoning\": \"Commonsense\",\n",
    "    \"Constituency Parsing\": \"Const.\\nParsing\",\n",
    "    \"Coreference Resolution\": \"Coref.\\nRes.\",\n",
    "    \"Cross-lingual Abstractive Summarization\": \"X-Abs.\\nSummariz.\",\n",
    "    \"Cross-Lingual Abstractive Summarization\": \"X-Abs.\\nSummariz.\",\n",
    "    \"Dependency Parsing\": \"Dep.\\nParsing\",\n",
    "    \"Dialect Identification\": \"Dialect\\nID\",\n",
    "    \"Dialogue System\": \"Dialogue\\nSystem\",\n",
    "    \"Emotion Classification\": \"Emo\\nCls.\",\n",
    "    \"Emotion Recognition\": \"Emo\\nCls.\",\n",
    "    \"Entity Linking\": \"Entity\\nLink.\",\n",
    "    \"Fact Checking\": \"Fact\\nCheck.\",\n",
    "    \"Goal-oriented Generation\": \"Goal-orient.\\nGen.\",\n",
    "    \"Grammatical Error Correction\": \"Error\\nCorrect.\",\n",
    "    \"Hate Speech Detection\": \"Hate\\nSpeech\\nDet.\",\n",
    "    \"Hoax Detection\": \"Hoax\\nDet.\",\n",
    "    \"Image-to-Text Generation\": \"Img.\\nCap.\",\n",
    "    \"Instruction Tuning\": \"Instruction\\nTuning\",\n",
    "    \"Intent Classification\": \"Intent\\nCls.\",\n",
    "    \"Keyword Extraction\": \"Keyword\\nExtract.\",\n",
    "    \"Knowledge Base\": \"KB\",\n",
    "    \"Language Identification\": \"LID\",\n",
    "    \"Language Modeling\": \"Lang.\\nModel.\",\n",
    "    \"Legal Classification\": \"Legal Cls.\",\n",
    "    \"Lexical Normalization\": \"Lexical Norm.\",\n",
    "    \"Machine Translation\": \"MT\",\n",
    "    \"Morphological Inflections\": \"Morph.\\nInflect.\",\n",
    "    \"Multimodal Summarization\": \"MM.\\nSummariz.\",\n",
    "    \"Named Entity Recognition\": \"NER\",\n",
    "    \"Named Entiy Recognition\": \"NER\",\n",
    "    \"Natural Language Inference\": \"NLI\",\n",
    "    \"Next Tweet Prediction\": \"Next Tweet\\nPred.\",\n",
    "    \"Optical Character Recognition\": \"OCR\",\n",
    "    \"Paraphrasing\": \"Paraphrasing\",\n",
    "    \"Poem Generation\": \"Poem Gen.\",\n",
    "    \"POS Tagging\": \"POS Tag.\",\n",
    "    \"Question Answering\": \"QA\",\n",
    "    \"Question Generation\": \"QG\",\n",
    "    \"Readibility Assessment\": \"Read.\\nAssess.\",\n",
    "    \"Relation Extraction\": \"Relation\\nExtract.\",\n",
    "    \"Rhetoric Mode\": \"Rhetoric\\nMode Cls.\",\n",
    "    \"Semantic Role Labeling\": \"SRL\",\n",
    "    \"Semantic Textual Similarity\": \"Sem.\\nText Sim.\",\n",
    "    \"Sentiment Analysis\": \"Senti.\\nAnalysis\",\n",
    "    \"Short Answer Grading\": \"Answer Grading\",\n",
    "    \"Sign Language Recognition\": \"Sign Lang.\\nRecog.\",\n",
    "    \"Slot Filling\": \"Slot Filling\",\n",
    "    \"Speech Emotion Recognition\": \"SER\",\n",
    "    \"Speech-to-Speech Translation\": \"S2S\\nTrans.\",\n",
    "    \"Speech-to-Text Translation\": \"S2T\\nTrans.\",\n",
    "    \"Spoken Language Identification\": \"S-LID\",\n",
    "    \"Spoken Language Understanding\": \"SLU\",\n",
    "    \"Stance Detection\": \"Stance\\nDet.\",\n",
    "    \"Statement Tagging\": \"Statement Tag.\",\n",
    "    \"Style Transfer\": \"Style Transfer\",\n",
    "    \"Summarization\": \"Summari-\\nzation\",\n",
    "    \"Text Classification\": \"Text Cls.\",\n",
    "    \"Text Retrieval\": \"Text Retriev.\",\n",
    "    \"Text-to-Image Generation\": \"Text-to-image Gen.\",\n",
    "    \"Text-To-Speech Synthesis\": \"TTS\",\n",
    "    \"Text-to-SQL\": \"Text-to-SQL\",\n",
    "    \"Token-level language identification\": \"Token LID\",\n",
    "    \"Topic Classification\": \"Topic Cls.\",\n",
    "    \"Topic Modeling\": \"Topic Modeling\",\n",
    "    \"Toxic Wordlist\": \"Wordlist\",\n",
    "    \"Tweet Ordering\": \"Tweet Order.\",\n",
    "    \"Video Captioning\": \"Video Cap.\",\n",
    "    \"Video-to-Text Retrieval\": \"Video-to-text Retriev.\",\n",
    "    \"Visual Question Answering\": \"VQA\",\n",
    "    \"Visual Storytelling\": \"Visual Storytell.\",\n",
    "    \"VL Modeling\": \"VL Modeling\",\n",
    "    \"Word Analogy\": \"Word Analogy\",\n",
    "    \"Word lists\": \"Wordlist\",\n",
    "    \"Word Sense Disambiguation\": \"WSD\",\n",
    "    \"Word-level Translation\": \"Word Translation\",\n",
    "    \"Wordnet\": \"Wordnet\",\n",
    "}"
   ]
  },
  {
   "cell_type": "code",
   "execution_count": 255,
   "id": "3abbcda8-8216-4f82-99cf-00cfaaf31257",
   "metadata": {},
   "outputs": [
    {
     "data": {
      "text/html": [
       "<div>\n",
       "<style scoped>\n",
       "    .dataframe tbody tr th:only-of-type {\n",
       "        vertical-align: middle;\n",
       "    }\n",
       "\n",
       "    .dataframe tbody tr th {\n",
       "        vertical-align: top;\n",
       "    }\n",
       "\n",
       "    .dataframe thead th {\n",
       "        text-align: right;\n",
       "    }\n",
       "</style>\n",
       "<table border=\"1\" class=\"dataframe\">\n",
       "  <thead>\n",
       "    <tr style=\"text-align: right;\">\n",
       "      <th></th>\n",
       "      <th>region</th>\n",
       "      <th>task</th>\n",
       "      <th>n_dataset</th>\n",
       "    </tr>\n",
       "  </thead>\n",
       "  <tbody>\n",
       "    <tr>\n",
       "      <th>354</th>\n",
       "      <td>Malaysia</td>\n",
       "      <td>Text-to-image\\nGen.</td>\n",
       "      <td>1</td>\n",
       "    </tr>\n",
       "    <tr>\n",
       "      <th>355</th>\n",
       "      <td>Vietnam</td>\n",
       "      <td>Text-to-image\\nGen.</td>\n",
       "      <td>1</td>\n",
       "    </tr>\n",
       "    <tr>\n",
       "      <th>356</th>\n",
       "      <td>Thailand</td>\n",
       "      <td>Text-to-image\\nGen.</td>\n",
       "      <td>1</td>\n",
       "    </tr>\n",
       "    <tr>\n",
       "      <th>357</th>\n",
       "      <td>Myanmar</td>\n",
       "      <td>Text-to-image\\nGen.</td>\n",
       "      <td>1</td>\n",
       "    </tr>\n",
       "    <tr>\n",
       "      <th>358</th>\n",
       "      <td>Indonesia</td>\n",
       "      <td>Fact\\nCheck.</td>\n",
       "      <td>1</td>\n",
       "    </tr>\n",
       "    <tr>\n",
       "      <th>359</th>\n",
       "      <td>Thailand</td>\n",
       "      <td>Commonsense</td>\n",
       "      <td>1</td>\n",
       "    </tr>\n",
       "    <tr>\n",
       "      <th>360</th>\n",
       "      <td>Thailand</td>\n",
       "      <td>NLI</td>\n",
       "      <td>1</td>\n",
       "    </tr>\n",
       "    <tr>\n",
       "      <th>361</th>\n",
       "      <td>Non-indigenous</td>\n",
       "      <td>SLU</td>\n",
       "      <td>1</td>\n",
       "    </tr>\n",
       "    <tr>\n",
       "      <th>362</th>\n",
       "      <td>Indonesia</td>\n",
       "      <td>SLU</td>\n",
       "      <td>1</td>\n",
       "    </tr>\n",
       "    <tr>\n",
       "      <th>363</th>\n",
       "      <td>Myanmar</td>\n",
       "      <td>Commonsense</td>\n",
       "      <td>1</td>\n",
       "    </tr>\n",
       "  </tbody>\n",
       "</table>\n",
       "</div>"
      ],
      "text/plain": [
       "             region                 task  n_dataset\n",
       "354        Malaysia  Text-to-image\\nGen.          1\n",
       "355         Vietnam  Text-to-image\\nGen.          1\n",
       "356        Thailand  Text-to-image\\nGen.          1\n",
       "357         Myanmar  Text-to-image\\nGen.          1\n",
       "358       Indonesia         Fact\\nCheck.          1\n",
       "359        Thailand          Commonsense          1\n",
       "360        Thailand                  NLI          1\n",
       "361  Non-indigenous                  SLU          1\n",
       "362       Indonesia                  SLU          1\n",
       "363         Myanmar          Commonsense          1"
      ]
     },
     "execution_count": 255,
     "metadata": {},
     "output_type": "execute_result"
    }
   ],
   "source": [
    "region_tasks_df = {'region': [], 'task': [], 'n_dataset': []}\n",
    "\n",
    "for i in range(len(all_dset_df)):\n",
    "    langs = all_dset_df['Dataset language(s)'][i].split(\"\\n\")\n",
    "    langs = [lang.strip() for lang in langs]\n",
    "    tasks = all_dset_df['Dataset task(s)'][i].split(\"\\n\")\n",
    "\n",
    "    regions = list(set(df[(df['ISO code'].isin(langs))]['Region'].tolist()))\n",
    "    tasks = [TASK_TO_DISPLAY_NAME[task.strip()] for task in tasks]\n",
    "    tasks = list(set(tasks))\n",
    "    \n",
    "    for region in regions:\n",
    "        for task in tasks:\n",
    "            task = task.strip()\n",
    "            index = get_index_from_pair(region, task, region_tasks_df['region'], region_tasks_df['task'])\n",
    "            if index != -1:\n",
    "                region_tasks_df['n_dataset'][index] += 1\n",
    "            else:\n",
    "                region_tasks_df['task'].append(task)\n",
    "                region_tasks_df['n_dataset'].append(1)\n",
    "                region_tasks_df['region'].append(region)\n",
    "\n",
    "region_tasks_df = pd.DataFrame.from_dict(region_tasks_df)\n",
    "region_tasks_df = region_tasks_df.replace(r'\\s+', '\\n', regex=True)\n",
    "region_tasks_df.tail(10)"
   ]
  },
  {
   "cell_type": "code",
   "execution_count": 256,
   "id": "b0c4460e-ab88-449c-ae1f-87f72eaf9a50",
   "metadata": {},
   "outputs": [
    {
     "data": {
      "text/html": [
       "<div>\n",
       "<style scoped>\n",
       "    .dataframe tbody tr th:only-of-type {\n",
       "        vertical-align: middle;\n",
       "    }\n",
       "\n",
       "    .dataframe tbody tr th {\n",
       "        vertical-align: top;\n",
       "    }\n",
       "\n",
       "    .dataframe thead th {\n",
       "        text-align: right;\n",
       "    }\n",
       "</style>\n",
       "<table border=\"1\" class=\"dataframe\">\n",
       "  <thead>\n",
       "    <tr style=\"text-align: right;\">\n",
       "      <th></th>\n",
       "      <th>region</th>\n",
       "      <th>task</th>\n",
       "      <th>n_dataset</th>\n",
       "    </tr>\n",
       "  </thead>\n",
       "  <tbody>\n",
       "    <tr>\n",
       "      <th>0</th>\n",
       "      <td>Indonesia</td>\n",
       "      <td>QA</td>\n",
       "      <td>14</td>\n",
       "    </tr>\n",
       "    <tr>\n",
       "      <th>1</th>\n",
       "      <td>Thailand</td>\n",
       "      <td>ASR</td>\n",
       "      <td>11</td>\n",
       "    </tr>\n",
       "    <tr>\n",
       "      <th>2</th>\n",
       "      <td>Thailand</td>\n",
       "      <td>OCR</td>\n",
       "      <td>5</td>\n",
       "    </tr>\n",
       "    <tr>\n",
       "      <th>3</th>\n",
       "      <td>Philippines</td>\n",
       "      <td>ASR</td>\n",
       "      <td>6</td>\n",
       "    </tr>\n",
       "    <tr>\n",
       "      <th>4</th>\n",
       "      <td>Vietnam</td>\n",
       "      <td>ASR</td>\n",
       "      <td>13</td>\n",
       "    </tr>\n",
       "    <tr>\n",
       "      <th>5</th>\n",
       "      <td>Indonesia</td>\n",
       "      <td>ASR</td>\n",
       "      <td>28</td>\n",
       "    </tr>\n",
       "    <tr>\n",
       "      <th>6</th>\n",
       "      <td>Indonesia</td>\n",
       "      <td>Lang.\\nModel.</td>\n",
       "      <td>32</td>\n",
       "    </tr>\n",
       "    <tr>\n",
       "      <th>7</th>\n",
       "      <td>Indonesia</td>\n",
       "      <td>WSD</td>\n",
       "      <td>5</td>\n",
       "    </tr>\n",
       "    <tr>\n",
       "      <th>8</th>\n",
       "      <td>Malaysia</td>\n",
       "      <td>MT</td>\n",
       "      <td>17</td>\n",
       "    </tr>\n",
       "    <tr>\n",
       "      <th>9</th>\n",
       "      <td>Vietnam</td>\n",
       "      <td>MT</td>\n",
       "      <td>22</td>\n",
       "    </tr>\n",
       "  </tbody>\n",
       "</table>\n",
       "</div>"
      ],
      "text/plain": [
       "        region           task  n_dataset\n",
       "0    Indonesia             QA         14\n",
       "1     Thailand            ASR         11\n",
       "2     Thailand            OCR          5\n",
       "3  Philippines            ASR          6\n",
       "4      Vietnam            ASR         13\n",
       "5    Indonesia            ASR         28\n",
       "6    Indonesia  Lang.\\nModel.         32\n",
       "7    Indonesia            WSD          5\n",
       "8     Malaysia             MT         17\n",
       "9      Vietnam             MT         22"
      ]
     },
     "execution_count": 256,
     "metadata": {},
     "output_type": "execute_result"
    }
   ],
   "source": [
    "others_cutoff_point = 3\n",
    "pdf = region_tasks_df[region_tasks_df[\"n_dataset\"] > others_cutoff_point]\n",
    "\n",
    "others_df = region_tasks_df[region_tasks_df[\"n_dataset\"] <= others_cutoff_point]\n",
    "others_df = others_df.groupby([\"region\"]).sum([\"n_dataset\"]).reset_index()\n",
    "if \"task\" not in others_df.columns:\n",
    "    others_df[\"task\"] = [\"Others\" for i in range(len(others_df))]\n",
    "\n",
    "pdf = pd.concat([pdf, others_df]).reset_index()\n",
    "pdf = pdf.loc[:, ~pdf.columns.str.contains('^index')]\n",
    "pdf.head(10)"
   ]
  },
  {
   "cell_type": "code",
   "execution_count": 362,
   "id": "724b948d-83e2-47ea-94b8-6cf60078eb14",
   "metadata": {},
   "outputs": [
    {
     "data": {
      "application/vnd.plotly.v1+json": {
       "config": {
        "plotlyServerURL": "https://plot.ly"
       },
       "data": [
        {
         "branchvalues": "total",
         "customdata": [
          [
           "ASR"
          ],
          [
           "ASR"
          ],
          [
           "ASR"
          ],
          [
           "ASR"
          ],
          [
           "Others"
          ],
          [
           "Others"
          ],
          [
           "NLI"
          ],
          [
           "NER"
          ],
          [
           "Img.\nCap."
          ],
          [
           "Others"
          ],
          [
           "Text\nCls."
          ],
          [
           "Others"
          ],
          [
           "Others"
          ],
          [
           "Others"
          ],
          [
           "Others"
          ],
          [
           "QA"
          ],
          [
           "Lang.\nModel."
          ],
          [
           "MT"
          ],
          [
           "MT"
          ],
          [
           "MT"
          ],
          [
           "LID"
          ],
          [
           "LID"
          ],
          [
           "LID"
          ],
          [
           "LID"
          ],
          [
           "LID"
          ],
          [
           "LID"
          ],
          [
           "QA"
          ],
          [
           "QA"
          ],
          [
           "Senti.\nAnalysis"
          ],
          [
           "Senti.\nAnalysis"
          ],
          [
           "Summari-\nzation"
          ],
          [
           "Summari-\nzation"
          ],
          [
           "TTS"
          ],
          [
           "TTS"
          ],
          [
           "TTS"
          ],
          [
           "MT"
          ],
          [
           "Morph.\nInflect."
          ],
          [
           "MT"
          ],
          [
           "MT"
          ],
          [
           "MT"
          ],
          [
           "NER"
          ],
          [
           "NER"
          ],
          [
           "NER"
          ],
          [
           "ASR"
          ],
          [
           "OCR"
          ],
          [
           "Commonsense"
          ],
          [
           "Const.\nParsing"
          ],
          [
           "Others"
          ],
          [
           "Emo\nCls."
          ],
          [
           "Dialogue\nSystem"
          ],
          [
           "Dep.\nParsing"
          ],
          [
           "Commonsense"
          ],
          [
           "ASR"
          ],
          [
           "Hate\nSpeech\nDet."
          ],
          [
           "Senti.\nAnalysis"
          ],
          [
           "Others"
          ],
          [
           "POS\nTag."
          ],
          [
           "POS\nTag."
          ],
          [
           "MT"
          ],
          [
           "Relation\nExtract."
          ],
          [
           "ASR"
          ],
          [
           "Wordlist"
          ],
          [
           "Wordlist"
          ],
          [
           "Wordlist"
          ],
          [
           "Wordlist"
          ],
          [
           "Wordlist"
          ],
          [
           "WSD"
          ],
          [
           "Wordlist"
          ],
          [
           "Text-to-image\nGen."
          ],
          [
           "Text\nCls."
          ],
          [
           "Text\nCls."
          ],
          [
           "Wordlist"
          ],
          [
           "Wordlist"
          ],
          [
           "POS\nTag."
          ],
          [
           "QA"
          ],
          [
           "Others"
          ],
          [
           "ASR"
          ],
          [
           "MT"
          ],
          [
           "Lang.\nModel."
          ],
          [
           "Lang.\nModel."
          ],
          [
           "Lang.\nModel."
          ],
          [
           "Text\nCls."
          ],
          [
           "Text\nCls."
          ],
          [
           "Others"
          ],
          [
           "Others"
          ],
          [
           "Lang.\nModel."
          ],
          [
           "Lang.\nModel."
          ],
          [
           "Img.\nCap."
          ],
          [
           "Img.\nCap."
          ],
          [
           "Img.\nCap."
          ],
          [
           "Lang.\nModel."
          ],
          [
           "Lang.\nModel."
          ],
          [
           "LID"
          ],
          [
           "Lang.\nModel."
          ],
          [
           "Lang.\nModel."
          ],
          [
           "Senti.\nAnalysis"
          ],
          [
           "ASR"
          ],
          [
           "Instruction\nTuning"
          ],
          [
           "LID"
          ],
          [
           "Instruction\nTuning"
          ],
          [
           "Instruction\nTuning"
          ],
          [
           "Instruction\nTuning"
          ],
          [
           "Instruction\nTuning"
          ],
          [
           "LID"
          ],
          [
           "Instruction\nTuning"
          ],
          [
           "Others"
          ],
          [
           "(?)"
          ],
          [
           "(?)"
          ],
          [
           "(?)"
          ],
          [
           "(?)"
          ],
          [
           "(?)"
          ],
          [
           "(?)"
          ],
          [
           "(?)"
          ],
          [
           "(?)"
          ],
          [
           "Others"
          ],
          [
           "(?)"
          ],
          [
           "(?)"
          ]
         ],
         "domain": {
          "x": [
           0,
           1
          ],
          "y": [
           0,
           1
          ]
         },
         "hovertemplate": "labels=%{label}<br>n_dataset=%{value}<br>parent=%{parent}<br>id=%{id}<br>task=%{customdata[0]}<extra></extra>",
         "ids": [
          "Indonesia/ASR",
          "Malaysia/ASR",
          "Myanmar/ASR",
          "Non-indigenous/ASR",
          "Laos/Others",
          "Indonesia/Others",
          "Indonesia/NLI",
          "Vietnam/NER",
          "Philippines/Img.\nCap.",
          "Non-indigenous/Others",
          "Myanmar/Text\nCls.",
          "East\nTimor/Others",
          "Myanmar/Others",
          "Philippines/Others",
          "Singapore/Others",
          "Thailand/QA",
          "Vietnam/Lang.\nModel.",
          "Laos/MT",
          "Malaysia/MT",
          "Myanmar/MT",
          "Thailand/LID",
          "Indonesia/LID",
          "Laos/LID",
          "Malaysia/LID",
          "Myanmar/LID",
          "Philippines/LID",
          "Malaysia/QA",
          "Vietnam/QA",
          "Philippines/Senti.\nAnalysis",
          "Vietnam/Senti.\nAnalysis",
          "Indonesia/Summari-\nzation",
          "Vietnam/Summari-\nzation",
          "Malaysia/TTS",
          "Indonesia/TTS",
          "Thailand/TTS",
          "Thailand/MT",
          "Indonesia/Morph.\nInflect.",
          "Vietnam/MT",
          "Philippines/MT",
          "Non-indigenous/MT",
          "Thailand/NER",
          "Indonesia/NER",
          "Philippines/NER",
          "Philippines/ASR",
          "Thailand/OCR",
          "Vietnam/Commonsense",
          "Indonesia/Const.\nParsing",
          "Brunei/Others",
          "Indonesia/Emo\nCls.",
          "Indonesia/Dialogue\nSystem",
          "Indonesia/Dep.\nParsing",
          "Indonesia/Commonsense",
          "Vietnam/ASR",
          "Indonesia/Hate\nSpeech\nDet.",
          "Non-indigenous/Senti.\nAnalysis",
          "Cambodia/Others",
          "Indonesia/POS\nTag.",
          "Vietnam/POS\nTag.",
          "Indonesia/MT",
          "Vietnam/Relation\nExtract.",
          "Laos/ASR",
          "Non-indigenous/Wordlist",
          "Myanmar/Wordlist",
          "Malaysia/Wordlist",
          "Laos/Wordlist",
          "Indonesia/Wordlist",
          "Indonesia/WSD",
          "Philippines/Wordlist",
          "Indonesia/Text-to-image\nGen.",
          "Vietnam/Text\nCls.",
          "Thailand/Text\nCls.",
          "Vietnam/Wordlist",
          "Thailand/Wordlist",
          "Cambodia/POS\nTag.",
          "Indonesia/QA",
          "Thailand/Others",
          "Cambodia/ASR",
          "Cambodia/MT",
          "Cambodia/Lang.\nModel.",
          "Myanmar/Lang.\nModel.",
          "East\nTimor/Lang.\nModel.",
          "Philippines/Text\nCls.",
          "Indonesia/Text\nCls.",
          "Vietnam/Others",
          "Malaysia/Others",
          "Indonesia/Lang.\nModel.",
          "Thailand/Lang.\nModel.",
          "Indonesia/Img.\nCap.",
          "Thailand/Img.\nCap.",
          "Vietnam/Img.\nCap.",
          "Laos/Lang.\nModel.",
          "Malaysia/Lang.\nModel.",
          "Vietnam/LID",
          "Philippines/Lang.\nModel.",
          "Non-indigenous/Lang.\nModel.",
          "Indonesia/Senti.\nAnalysis",
          "Thailand/ASR",
          "Vietnam/Instruction\nTuning",
          "East\nTimor/LID",
          "Philippines/Instruction\nTuning",
          "Myanmar/Instruction\nTuning",
          "Malaysia/Instruction\nTuning",
          "Indonesia/Instruction\nTuning",
          "Cambodia/LID",
          "Thailand/Instruction\nTuning",
          "Brunei",
          "Cambodia",
          "East\nTimor",
          "Indonesia",
          "Laos",
          "Malaysia",
          "Myanmar",
          "Non-indigenous",
          "Philippines",
          "Singapore",
          "Thailand",
          "Vietnam"
         ],
         "labels": [
          "ASR",
          "ASR",
          "ASR",
          "ASR",
          "Others",
          "Others",
          "NLI",
          "NER",
          "Img.\nCap.",
          "Others",
          "Text\nCls.",
          "Others",
          "Others",
          "Others",
          "Others",
          "QA",
          "Lang.\nModel.",
          "MT",
          "MT",
          "MT",
          "LID",
          "LID",
          "LID",
          "LID",
          "LID",
          "LID",
          "QA",
          "QA",
          "Senti.\nAnalysis",
          "Senti.\nAnalysis",
          "Summari-\nzation",
          "Summari-\nzation",
          "TTS",
          "TTS",
          "TTS",
          "MT",
          "Morph.\nInflect.",
          "MT",
          "MT",
          "MT",
          "NER",
          "NER",
          "NER",
          "ASR",
          "OCR",
          "Commonsense",
          "Const.\nParsing",
          "Others",
          "Emo\nCls.",
          "Dialogue\nSystem",
          "Dep.\nParsing",
          "Commonsense",
          "ASR",
          "Hate\nSpeech\nDet.",
          "Senti.\nAnalysis",
          "Others",
          "POS\nTag.",
          "POS\nTag.",
          "MT",
          "Relation\nExtract.",
          "ASR",
          "Wordlist",
          "Wordlist",
          "Wordlist",
          "Wordlist",
          "Wordlist",
          "WSD",
          "Wordlist",
          "Text-to-image\nGen.",
          "Text\nCls.",
          "Text\nCls.",
          "Wordlist",
          "Wordlist",
          "POS\nTag.",
          "QA",
          "Others",
          "ASR",
          "MT",
          "Lang.\nModel.",
          "Lang.\nModel.",
          "Lang.\nModel.",
          "Text\nCls.",
          "Text\nCls.",
          "Others",
          "Others",
          "Lang.\nModel.",
          "Lang.\nModel.",
          "Img.\nCap.",
          "Img.\nCap.",
          "Img.\nCap.",
          "Lang.\nModel.",
          "Lang.\nModel.",
          "LID",
          "Lang.\nModel.",
          "Lang.\nModel.",
          "Senti.\nAnalysis",
          "ASR",
          "Instruction\nTuning",
          "LID",
          "Instruction\nTuning",
          "Instruction\nTuning",
          "Instruction\nTuning",
          "Instruction\nTuning",
          "LID",
          "Instruction\nTuning",
          "Brunei",
          "Cambodia",
          "East\nTimor",
          "Indonesia",
          "Laos",
          "Malaysia",
          "Myanmar",
          "Non-indigenous",
          "Philippines",
          "Singapore",
          "Thailand",
          "Vietnam"
         ],
         "marker": {
          "colors": [
           "rgb(243, 231, 155)",
           "rgb(243, 231, 155)",
           "rgb(243, 231, 155)",
           "rgb(243, 231, 155)",
           "rgb(250, 196, 132)",
           "rgb(250, 196, 132)",
           "rgb(248, 160, 126)",
           "rgb(235, 127, 134)",
           "rgb(206, 102, 147)",
           "rgb(250, 196, 132)",
           "rgb(160, 89, 160)",
           "rgb(250, 196, 132)",
           "rgb(250, 196, 132)",
           "rgb(250, 196, 132)",
           "rgb(250, 196, 132)",
           "rgb(92, 83, 165)",
           "rgb(243, 231, 155)",
           "rgb(250, 196, 132)",
           "rgb(250, 196, 132)",
           "rgb(250, 196, 132)",
           "rgb(248, 160, 126)",
           "rgb(248, 160, 126)",
           "rgb(248, 160, 126)",
           "rgb(248, 160, 126)",
           "rgb(248, 160, 126)",
           "rgb(248, 160, 126)",
           "rgb(92, 83, 165)",
           "rgb(92, 83, 165)",
           "rgb(235, 127, 134)",
           "rgb(235, 127, 134)",
           "rgb(206, 102, 147)",
           "rgb(206, 102, 147)",
           "rgb(160, 89, 160)",
           "rgb(160, 89, 160)",
           "rgb(160, 89, 160)",
           "rgb(250, 196, 132)",
           "rgb(92, 83, 165)",
           "rgb(250, 196, 132)",
           "rgb(250, 196, 132)",
           "rgb(250, 196, 132)",
           "rgb(235, 127, 134)",
           "rgb(235, 127, 134)",
           "rgb(235, 127, 134)",
           "rgb(243, 231, 155)",
           "rgb(243, 231, 155)",
           "rgb(250, 196, 132)",
           "rgb(248, 160, 126)",
           "rgb(250, 196, 132)",
           "rgb(235, 127, 134)",
           "rgb(206, 102, 147)",
           "rgb(160, 89, 160)",
           "rgb(250, 196, 132)",
           "rgb(243, 231, 155)",
           "rgb(92, 83, 165)",
           "rgb(235, 127, 134)",
           "rgb(250, 196, 132)",
           "rgb(243, 231, 155)",
           "rgb(243, 231, 155)",
           "rgb(250, 196, 132)",
           "rgb(250, 196, 132)",
           "rgb(243, 231, 155)",
           "rgb(248, 160, 126)",
           "rgb(248, 160, 126)",
           "rgb(248, 160, 126)",
           "rgb(248, 160, 126)",
           "rgb(248, 160, 126)",
           "rgb(235, 127, 134)",
           "rgb(248, 160, 126)",
           "rgb(206, 102, 147)",
           "rgb(160, 89, 160)",
           "rgb(160, 89, 160)",
           "rgb(248, 160, 126)",
           "rgb(248, 160, 126)",
           "rgb(243, 231, 155)",
           "rgb(92, 83, 165)",
           "rgb(250, 196, 132)",
           "rgb(243, 231, 155)",
           "rgb(250, 196, 132)",
           "rgb(243, 231, 155)",
           "rgb(243, 231, 155)",
           "rgb(243, 231, 155)",
           "rgb(160, 89, 160)",
           "rgb(160, 89, 160)",
           "rgb(250, 196, 132)",
           "rgb(250, 196, 132)",
           "rgb(243, 231, 155)",
           "rgb(243, 231, 155)",
           "rgb(206, 102, 147)",
           "rgb(206, 102, 147)",
           "rgb(206, 102, 147)",
           "rgb(243, 231, 155)",
           "rgb(243, 231, 155)",
           "rgb(248, 160, 126)",
           "rgb(243, 231, 155)",
           "rgb(243, 231, 155)",
           "rgb(235, 127, 134)",
           "rgb(243, 231, 155)",
           "rgb(160, 89, 160)",
           "rgb(248, 160, 126)",
           "rgb(160, 89, 160)",
           "rgb(160, 89, 160)",
           "rgb(160, 89, 160)",
           "rgb(160, 89, 160)",
           "rgb(248, 160, 126)",
           "rgb(160, 89, 160)",
           "rgb(250, 196, 132)",
           "rgb(92, 83, 165)",
           "rgb(92, 83, 165)",
           "rgb(92, 83, 165)",
           "rgb(92, 83, 165)",
           "rgb(92, 83, 165)",
           "rgb(92, 83, 165)",
           "rgb(92, 83, 165)",
           "rgb(92, 83, 165)",
           "rgb(250, 196, 132)",
           "rgb(92, 83, 165)",
           "rgb(92, 83, 165)"
          ],
          "cornerradius": 3
         },
         "name": "",
         "parents": [
          "Indonesia",
          "Malaysia",
          "Myanmar",
          "Non-indigenous",
          "Laos",
          "Indonesia",
          "Indonesia",
          "Vietnam",
          "Philippines",
          "Non-indigenous",
          "Myanmar",
          "East\nTimor",
          "Myanmar",
          "Philippines",
          "Singapore",
          "Thailand",
          "Vietnam",
          "Laos",
          "Malaysia",
          "Myanmar",
          "Thailand",
          "Indonesia",
          "Laos",
          "Malaysia",
          "Myanmar",
          "Philippines",
          "Malaysia",
          "Vietnam",
          "Philippines",
          "Vietnam",
          "Indonesia",
          "Vietnam",
          "Malaysia",
          "Indonesia",
          "Thailand",
          "Thailand",
          "Indonesia",
          "Vietnam",
          "Philippines",
          "Non-indigenous",
          "Thailand",
          "Indonesia",
          "Philippines",
          "Philippines",
          "Thailand",
          "Vietnam",
          "Indonesia",
          "Brunei",
          "Indonesia",
          "Indonesia",
          "Indonesia",
          "Indonesia",
          "Vietnam",
          "Indonesia",
          "Non-indigenous",
          "Cambodia",
          "Indonesia",
          "Vietnam",
          "Indonesia",
          "Vietnam",
          "Laos",
          "Non-indigenous",
          "Myanmar",
          "Malaysia",
          "Laos",
          "Indonesia",
          "Indonesia",
          "Philippines",
          "Indonesia",
          "Vietnam",
          "Thailand",
          "Vietnam",
          "Thailand",
          "Cambodia",
          "Indonesia",
          "Thailand",
          "Cambodia",
          "Cambodia",
          "Cambodia",
          "Myanmar",
          "East\nTimor",
          "Philippines",
          "Indonesia",
          "Vietnam",
          "Malaysia",
          "Indonesia",
          "Thailand",
          "Indonesia",
          "Thailand",
          "Vietnam",
          "Laos",
          "Malaysia",
          "Vietnam",
          "Philippines",
          "Non-indigenous",
          "Indonesia",
          "Thailand",
          "Vietnam",
          "East\nTimor",
          "Philippines",
          "Myanmar",
          "Malaysia",
          "Indonesia",
          "Cambodia",
          "Thailand",
          "",
          "",
          "",
          "",
          "",
          "",
          "",
          "",
          "",
          "",
          "",
          ""
         ],
         "root": {
          "color": "#ffffff"
         },
         "textfont": {
          "size": 16
         },
         "type": "treemap",
         "values": [
          28,
          7,
          8,
          6,
          21,
          81,
          7,
          5,
          6,
          43,
          4,
          13,
          37,
          40,
          1,
          7,
          21,
          9,
          17,
          16,
          7,
          6,
          5,
          5,
          5,
          5,
          4,
          18,
          4,
          4,
          4,
          4,
          6,
          8,
          4,
          19,
          5,
          22,
          16,
          26,
          6,
          18,
          5,
          6,
          5,
          5,
          4,
          14,
          10,
          6,
          5,
          8,
          13,
          5,
          4,
          33,
          8,
          4,
          46,
          4,
          4,
          6,
          4,
          4,
          4,
          10,
          5,
          4,
          4,
          6,
          7,
          7,
          8,
          4,
          14,
          46,
          7,
          11,
          13,
          16,
          7,
          8,
          6,
          51,
          30,
          32,
          23,
          12,
          5,
          6,
          13,
          20,
          5,
          20,
          10,
          19,
          11,
          4,
          4,
          4,
          4,
          4,
          4,
          5,
          4,
          14,
          73,
          24,
          355,
          56,
          97,
          94,
          95,
          118,
          1,
          152,
          179
         ]
        }
       ],
       "layout": {
        "height": 500,
        "legend": {
         "tracegroupgap": 0
        },
        "margin": {
         "b": 10,
         "l": 10,
         "r": 10,
         "t": 10
        },
        "showlegend": true,
        "template": {
         "data": {
          "scatter": [
           {
            "type": "scatter"
           }
          ]
         }
        },
        "treemapcolorway": [
         "rgb(243, 231, 155)",
         "rgb(250, 196, 132)",
         "rgb(248, 160, 126)",
         "rgb(235, 127, 134)",
         "rgb(206, 102, 147)",
         "rgb(160, 89, 160)",
         "rgb(92, 83, 165)"
        ],
        "width": 1000
       }
      },
      "image/png": "[encoded data removed]",
      "text/html": [
       "<div>                            <div id=\"1c090253-1009-4b73-bb9e-ef55072d5e11\" class=\"plotly-graph-div\" style=\"height:500px; width:1000px;\"></div>            <script type=\"text/javascript\">                require([\"plotly\"], function(Plotly) {                    window.PLOTLYENV=window.PLOTLYENV || {};                                    if (document.getElementById(\"1c090253-1009-4b73-bb9e-ef55072d5e11\")) {                    Plotly.newPlot(                        \"1c090253-1009-4b73-bb9e-ef55072d5e11\",                        [{\"branchvalues\":\"total\",\"customdata\":[[\"ASR\"],[\"ASR\"],[\"ASR\"],[\"ASR\"],[\"Others\"],[\"Others\"],[\"NLI\"],[\"NER\"],[\"Img.\\nCap.\"],[\"Others\"],[\"Text\\nCls.\"],[\"Others\"],[\"Others\"],[\"Others\"],[\"Others\"],[\"QA\"],[\"Lang.\\nModel.\"],[\"MT\"],[\"MT\"],[\"MT\"],[\"LID\"],[\"LID\"],[\"LID\"],[\"LID\"],[\"LID\"],[\"LID\"],[\"QA\"],[\"QA\"],[\"Senti.\\nAnalysis\"],[\"Senti.\\nAnalysis\"],[\"Summari-\\nzation\"],[\"Summari-\\nzation\"],[\"TTS\"],[\"TTS\"],[\"TTS\"],[\"MT\"],[\"Morph.\\nInflect.\"],[\"MT\"],[\"MT\"],[\"MT\"],[\"NER\"],[\"NER\"],[\"NER\"],[\"ASR\"],[\"OCR\"],[\"Commonsense\"],[\"Const.\\nParsing\"],[\"Others\"],[\"Emo\\nCls.\"],[\"Dialogue\\nSystem\"],[\"Dep.\\nParsing\"],[\"Commonsense\"],[\"ASR\"],[\"Hate\\nSpeech\\nDet.\"],[\"Senti.\\nAnalysis\"],[\"Others\"],[\"POS\\nTag.\"],[\"POS\\nTag.\"],[\"MT\"],[\"Relation\\nExtract.\"],[\"ASR\"],[\"Wordlist\"],[\"Wordlist\"],[\"Wordlist\"],[\"Wordlist\"],[\"Wordlist\"],[\"WSD\"],[\"Wordlist\"],[\"Text-to-image\\nGen.\"],[\"Text\\nCls.\"],[\"Text\\nCls.\"],[\"Wordlist\"],[\"Wordlist\"],[\"POS\\nTag.\"],[\"QA\"],[\"Others\"],[\"ASR\"],[\"MT\"],[\"Lang.\\nModel.\"],[\"Lang.\\nModel.\"],[\"Lang.\\nModel.\"],[\"Text\\nCls.\"],[\"Text\\nCls.\"],[\"Others\"],[\"Others\"],[\"Lang.\\nModel.\"],[\"Lang.\\nModel.\"],[\"Img.\\nCap.\"],[\"Img.\\nCap.\"],[\"Img.\\nCap.\"],[\"Lang.\\nModel.\"],[\"Lang.\\nModel.\"],[\"LID\"],[\"Lang.\\nModel.\"],[\"Lang.\\nModel.\"],[\"Senti.\\nAnalysis\"],[\"ASR\"],[\"Instruction\\nTuning\"],[\"LID\"],[\"Instruction\\nTuning\"],[\"Instruction\\nTuning\"],[\"Instruction\\nTuning\"],[\"Instruction\\nTuning\"],[\"LID\"],[\"Instruction\\nTuning\"],[\"Others\"],[\"(?)\"],[\"(?)\"],[\"(?)\"],[\"(?)\"],[\"(?)\"],[\"(?)\"],[\"(?)\"],[\"(?)\"],[\"Others\"],[\"(?)\"],[\"(?)\"]],\"domain\":{\"x\":[0.0,1.0],\"y\":[0.0,1.0]},\"hovertemplate\":\"labels=%{label}\\u003cbr\\u003en_dataset=%{value}\\u003cbr\\u003eparent=%{parent}\\u003cbr\\u003eid=%{id}\\u003cbr\\u003etask=%{customdata[0]}\\u003cextra\\u003e\\u003c\\u002fextra\\u003e\",\"ids\":[\"Indonesia\\u002fASR\",\"Malaysia\\u002fASR\",\"Myanmar\\u002fASR\",\"Non-indigenous\\u002fASR\",\"Laos\\u002fOthers\",\"Indonesia\\u002fOthers\",\"Indonesia\\u002fNLI\",\"Vietnam\\u002fNER\",\"Philippines\\u002fImg.\\nCap.\",\"Non-indigenous\\u002fOthers\",\"Myanmar\\u002fText\\nCls.\",\"East\\nTimor\\u002fOthers\",\"Myanmar\\u002fOthers\",\"Philippines\\u002fOthers\",\"Singapore\\u002fOthers\",\"Thailand\\u002fQA\",\"Vietnam\\u002fLang.\\nModel.\",\"Laos\\u002fMT\",\"Malaysia\\u002fMT\",\"Myanmar\\u002fMT\",\"Thailand\\u002fLID\",\"Indonesia\\u002fLID\",\"Laos\\u002fLID\",\"Malaysia\\u002fLID\",\"Myanmar\\u002fLID\",\"Philippines\\u002fLID\",\"Malaysia\\u002fQA\",\"Vietnam\\u002fQA\",\"Philippines\\u002fSenti.\\nAnalysis\",\"Vietnam\\u002fSenti.\\nAnalysis\",\"Indonesia\\u002fSummari-\\nzation\",\"Vietnam\\u002fSummari-\\nzation\",\"Malaysia\\u002fTTS\",\"Indonesia\\u002fTTS\",\"Thailand\\u002fTTS\",\"Thailand\\u002fMT\",\"Indonesia\\u002fMorph.\\nInflect.\",\"Vietnam\\u002fMT\",\"Philippines\\u002fMT\",\"Non-indigenous\\u002fMT\",\"Thailand\\u002fNER\",\"Indonesia\\u002fNER\",\"Philippines\\u002fNER\",\"Philippines\\u002fASR\",\"Thailand\\u002fOCR\",\"Vietnam\\u002fCommonsense\",\"Indonesia\\u002fConst.\\nParsing\",\"Brunei\\u002fOthers\",\"Indonesia\\u002fEmo\\nCls.\",\"Indonesia\\u002fDialogue\\nSystem\",\"Indonesia\\u002fDep.\\nParsing\",\"Indonesia\\u002fCommonsense\",\"Vietnam\\u002fASR\",\"Indonesia\\u002fHate\\nSpeech\\nDet.\",\"Non-indigenous\\u002fSenti.\\nAnalysis\",\"Cambodia\\u002fOthers\",\"Indonesia\\u002fPOS\\nTag.\",\"Vietnam\\u002fPOS\\nTag.\",\"Indonesia\\u002fMT\",\"Vietnam\\u002fRelation\\nExtract.\",\"Laos\\u002fASR\",\"Non-indigenous\\u002fWordlist\",\"Myanmar\\u002fWordlist\",\"Malaysia\\u002fWordlist\",\"Laos\\u002fWordlist\",\"Indonesia\\u002fWordlist\",\"Indonesia\\u002fWSD\",\"Philippines\\u002fWordlist\",\"Indonesia\\u002fText-to-image\\nGen.\",\"Vietnam\\u002fText\\nCls.\",\"Thailand\\u002fText\\nCls.\",\"Vietnam\\u002fWordlist\",\"Thailand\\u002fWordlist\",\"Cambodia\\u002fPOS\\nTag.\",\"Indonesia\\u002fQA\",\"Thailand\\u002fOthers\",\"Cambodia\\u002fASR\",\"Cambodia\\u002fMT\",\"Cambodia\\u002fLang.\\nModel.\",\"Myanmar\\u002fLang.\\nModel.\",\"East\\nTimor\\u002fLang.\\nModel.\",\"Philippines\\u002fText\\nCls.\",\"Indonesia\\u002fText\\nCls.\",\"Vietnam\\u002fOthers\",\"Malaysia\\u002fOthers\",\"Indonesia\\u002fLang.\\nModel.\",\"Thailand\\u002fLang.\\nModel.\",\"Indonesia\\u002fImg.\\nCap.\",\"Thailand\\u002fImg.\\nCap.\",\"Vietnam\\u002fImg.\\nCap.\",\"Laos\\u002fLang.\\nModel.\",\"Malaysia\\u002fLang.\\nModel.\",\"Vietnam\\u002fLID\",\"Philippines\\u002fLang.\\nModel.\",\"Non-indigenous\\u002fLang.\\nModel.\",\"Indonesia\\u002fSenti.\\nAnalysis\",\"Thailand\\u002fASR\",\"Vietnam\\u002fInstruction\\nTuning\",\"East\\nTimor\\u002fLID\",\"Philippines\\u002fInstruction\\nTuning\",\"Myanmar\\u002fInstruction\\nTuning\",\"Malaysia\\u002fInstruction\\nTuning\",\"Indonesia\\u002fInstruction\\nTuning\",\"Cambodia\\u002fLID\",\"Thailand\\u002fInstruction\\nTuning\",\"Brunei\",\"Cambodia\",\"East\\nTimor\",\"Indonesia\",\"Laos\",\"Malaysia\",\"Myanmar\",\"Non-indigenous\",\"Philippines\",\"Singapore\",\"Thailand\",\"Vietnam\"],\"labels\":[\"ASR\",\"ASR\",\"ASR\",\"ASR\",\"Others\",\"Others\",\"NLI\",\"NER\",\"Img.\\nCap.\",\"Others\",\"Text\\nCls.\",\"Others\",\"Others\",\"Others\",\"Others\",\"QA\",\"Lang.\\nModel.\",\"MT\",\"MT\",\"MT\",\"LID\",\"LID\",\"LID\",\"LID\",\"LID\",\"LID\",\"QA\",\"QA\",\"Senti.\\nAnalysis\",\"Senti.\\nAnalysis\",\"Summari-\\nzation\",\"Summari-\\nzation\",\"TTS\",\"TTS\",\"TTS\",\"MT\",\"Morph.\\nInflect.\",\"MT\",\"MT\",\"MT\",\"NER\",\"NER\",\"NER\",\"ASR\",\"OCR\",\"Commonsense\",\"Const.\\nParsing\",\"Others\",\"Emo\\nCls.\",\"Dialogue\\nSystem\",\"Dep.\\nParsing\",\"Commonsense\",\"ASR\",\"Hate\\nSpeech\\nDet.\",\"Senti.\\nAnalysis\",\"Others\",\"POS\\nTag.\",\"POS\\nTag.\",\"MT\",\"Relation\\nExtract.\",\"ASR\",\"Wordlist\",\"Wordlist\",\"Wordlist\",\"Wordlist\",\"Wordlist\",\"WSD\",\"Wordlist\",\"Text-to-image\\nGen.\",\"Text\\nCls.\",\"Text\\nCls.\",\"Wordlist\",\"Wordlist\",\"POS\\nTag.\",\"QA\",\"Others\",\"ASR\",\"MT\",\"Lang.\\nModel.\",\"Lang.\\nModel.\",\"Lang.\\nModel.\",\"Text\\nCls.\",\"Text\\nCls.\",\"Others\",\"Others\",\"Lang.\\nModel.\",\"Lang.\\nModel.\",\"Img.\\nCap.\",\"Img.\\nCap.\",\"Img.\\nCap.\",\"Lang.\\nModel.\",\"Lang.\\nModel.\",\"LID\",\"Lang.\\nModel.\",\"Lang.\\nModel.\",\"Senti.\\nAnalysis\",\"ASR\",\"Instruction\\nTuning\",\"LID\",\"Instruction\\nTuning\",\"Instruction\\nTuning\",\"Instruction\\nTuning\",\"Instruction\\nTuning\",\"LID\",\"Instruction\\nTuning\",\"Brunei\",\"Cambodia\",\"East\\nTimor\",\"Indonesia\",\"Laos\",\"Malaysia\",\"Myanmar\",\"Non-indigenous\",\"Philippines\",\"Singapore\",\"Thailand\",\"Vietnam\"],\"marker\":{\"colors\":[\"rgb(243, 231, 155)\",\"rgb(243, 231, 155)\",\"rgb(243, 231, 155)\",\"rgb(243, 231, 155)\",\"rgb(250, 196, 132)\",\"rgb(250, 196, 132)\",\"rgb(248, 160, 126)\",\"rgb(235, 127, 134)\",\"rgb(206, 102, 147)\",\"rgb(250, 196, 132)\",\"rgb(160, 89, 160)\",\"rgb(250, 196, 132)\",\"rgb(250, 196, 132)\",\"rgb(250, 196, 132)\",\"rgb(250, 196, 132)\",\"rgb(92, 83, 165)\",\"rgb(243, 231, 155)\",\"rgb(250, 196, 132)\",\"rgb(250, 196, 132)\",\"rgb(250, 196, 132)\",\"rgb(248, 160, 126)\",\"rgb(248, 160, 126)\",\"rgb(248, 160, 126)\",\"rgb(248, 160, 126)\",\"rgb(248, 160, 126)\",\"rgb(248, 160, 126)\",\"rgb(92, 83, 165)\",\"rgb(92, 83, 165)\",\"rgb(235, 127, 134)\",\"rgb(235, 127, 134)\",\"rgb(206, 102, 147)\",\"rgb(206, 102, 147)\",\"rgb(160, 89, 160)\",\"rgb(160, 89, 160)\",\"rgb(160, 89, 160)\",\"rgb(250, 196, 132)\",\"rgb(92, 83, 165)\",\"rgb(250, 196, 132)\",\"rgb(250, 196, 132)\",\"rgb(250, 196, 132)\",\"rgb(235, 127, 134)\",\"rgb(235, 127, 134)\",\"rgb(235, 127, 134)\",\"rgb(243, 231, 155)\",\"rgb(243, 231, 155)\",\"rgb(250, 196, 132)\",\"rgb(248, 160, 126)\",\"rgb(250, 196, 132)\",\"rgb(235, 127, 134)\",\"rgb(206, 102, 147)\",\"rgb(160, 89, 160)\",\"rgb(250, 196, 132)\",\"rgb(243, 231, 155)\",\"rgb(92, 83, 165)\",\"rgb(235, 127, 134)\",\"rgb(250, 196, 132)\",\"rgb(243, 231, 155)\",\"rgb(243, 231, 155)\",\"rgb(250, 196, 132)\",\"rgb(250, 196, 132)\",\"rgb(243, 231, 155)\",\"rgb(248, 160, 126)\",\"rgb(248, 160, 126)\",\"rgb(248, 160, 126)\",\"rgb(248, 160, 126)\",\"rgb(248, 160, 126)\",\"rgb(235, 127, 134)\",\"rgb(248, 160, 126)\",\"rgb(206, 102, 147)\",\"rgb(160, 89, 160)\",\"rgb(160, 89, 160)\",\"rgb(248, 160, 126)\",\"rgb(248, 160, 126)\",\"rgb(243, 231, 155)\",\"rgb(92, 83, 165)\",\"rgb(250, 196, 132)\",\"rgb(243, 231, 155)\",\"rgb(250, 196, 132)\",\"rgb(243, 231, 155)\",\"rgb(243, 231, 155)\",\"rgb(243, 231, 155)\",\"rgb(160, 89, 160)\",\"rgb(160, 89, 160)\",\"rgb(250, 196, 132)\",\"rgb(250, 196, 132)\",\"rgb(243, 231, 155)\",\"rgb(243, 231, 155)\",\"rgb(206, 102, 147)\",\"rgb(206, 102, 147)\",\"rgb(206, 102, 147)\",\"rgb(243, 231, 155)\",\"rgb(243, 231, 155)\",\"rgb(248, 160, 126)\",\"rgb(243, 231, 155)\",\"rgb(243, 231, 155)\",\"rgb(235, 127, 134)\",\"rgb(243, 231, 155)\",\"rgb(160, 89, 160)\",\"rgb(248, 160, 126)\",\"rgb(160, 89, 160)\",\"rgb(160, 89, 160)\",\"rgb(160, 89, 160)\",\"rgb(160, 89, 160)\",\"rgb(248, 160, 126)\",\"rgb(160, 89, 160)\",\"rgb(250, 196, 132)\",\"rgb(92, 83, 165)\",\"rgb(92, 83, 165)\",\"rgb(92, 83, 165)\",\"rgb(92, 83, 165)\",\"rgb(92, 83, 165)\",\"rgb(92, 83, 165)\",\"rgb(92, 83, 165)\",\"rgb(92, 83, 165)\",\"rgb(250, 196, 132)\",\"rgb(92, 83, 165)\",\"rgb(92, 83, 165)\"],\"cornerradius\":3},\"name\":\"\",\"parents\":[\"Indonesia\",\"Malaysia\",\"Myanmar\",\"Non-indigenous\",\"Laos\",\"Indonesia\",\"Indonesia\",\"Vietnam\",\"Philippines\",\"Non-indigenous\",\"Myanmar\",\"East\\nTimor\",\"Myanmar\",\"Philippines\",\"Singapore\",\"Thailand\",\"Vietnam\",\"Laos\",\"Malaysia\",\"Myanmar\",\"Thailand\",\"Indonesia\",\"Laos\",\"Malaysia\",\"Myanmar\",\"Philippines\",\"Malaysia\",\"Vietnam\",\"Philippines\",\"Vietnam\",\"Indonesia\",\"Vietnam\",\"Malaysia\",\"Indonesia\",\"Thailand\",\"Thailand\",\"Indonesia\",\"Vietnam\",\"Philippines\",\"Non-indigenous\",\"Thailand\",\"Indonesia\",\"Philippines\",\"Philippines\",\"Thailand\",\"Vietnam\",\"Indonesia\",\"Brunei\",\"Indonesia\",\"Indonesia\",\"Indonesia\",\"Indonesia\",\"Vietnam\",\"Indonesia\",\"Non-indigenous\",\"Cambodia\",\"Indonesia\",\"Vietnam\",\"Indonesia\",\"Vietnam\",\"Laos\",\"Non-indigenous\",\"Myanmar\",\"Malaysia\",\"Laos\",\"Indonesia\",\"Indonesia\",\"Philippines\",\"Indonesia\",\"Vietnam\",\"Thailand\",\"Vietnam\",\"Thailand\",\"Cambodia\",\"Indonesia\",\"Thailand\",\"Cambodia\",\"Cambodia\",\"Cambodia\",\"Myanmar\",\"East\\nTimor\",\"Philippines\",\"Indonesia\",\"Vietnam\",\"Malaysia\",\"Indonesia\",\"Thailand\",\"Indonesia\",\"Thailand\",\"Vietnam\",\"Laos\",\"Malaysia\",\"Vietnam\",\"Philippines\",\"Non-indigenous\",\"Indonesia\",\"Thailand\",\"Vietnam\",\"East\\nTimor\",\"Philippines\",\"Myanmar\",\"Malaysia\",\"Indonesia\",\"Cambodia\",\"Thailand\",\"\",\"\",\"\",\"\",\"\",\"\",\"\",\"\",\"\",\"\",\"\",\"\"],\"values\":[28,7,8,6,21,81,7,5,6,43,4,13,37,40,1,7,21,9,17,16,7,6,5,5,5,5,4,18,4,4,4,4,6,8,4,19,5,22,16,26,6,18,5,6,5,5,4,14,10,6,5,8,13,5,4,33,8,4,46,4,4,6,4,4,4,10,5,4,4,6,7,7,8,4,14,46,7,11,13,16,7,8,6,51,30,32,23,12,5,6,13,20,5,20,10,19,11,4,4,4,4,4,4,5,4,14,73,24,355,56,97,94,95,118,1,152,179],\"type\":\"treemap\",\"root\":{\"color\":\"#ffffff\"},\"textfont\":{\"size\":16}}],                        {\"template\":{\"data\":{\"scatter\":[{\"type\":\"scatter\"}]}},\"legend\":{\"tracegroupgap\":0},\"margin\":{\"t\":10,\"l\":10,\"r\":10,\"b\":10},\"treemapcolorway\":[\"rgb(243, 231, 155)\",\"rgb(250, 196, 132)\",\"rgb(248, 160, 126)\",\"rgb(235, 127, 134)\",\"rgb(206, 102, 147)\",\"rgb(160, 89, 160)\",\"rgb(92, 83, 165)\"],\"width\":1000,\"height\":500,\"showlegend\":true},                        {\"responsive\": true}                    ).then(function(){\n",
       "                            \n",
       "var gd = document.getElementById('1c090253-1009-4b73-bb9e-ef55072d5e11');\n",
       "var x = new MutationObserver(function (mutations, observer) {{\n",
       "        var display = window.getComputedStyle(gd).display;\n",
       "        if (!display || display === 'none') {{\n",
       "            console.log([gd, 'removed!']);\n",
       "            Plotly.purge(gd);\n",
       "            observer.disconnect();\n",
       "        }}\n",
       "}});\n",
       "\n",
       "// Listen for the removal of the full notebook cells\n",
       "var notebookContainer = gd.closest('#notebook-container');\n",
       "if (notebookContainer) {{\n",
       "    x.observe(notebookContainer, {childList: true});\n",
       "}}\n",
       "\n",
       "// Listen for the clearing of the current output cell\n",
       "var outputEl = gd.closest('.output');\n",
       "if (outputEl) {{\n",
       "    x.observe(outputEl, {childList: true});\n",
       "}}\n",
       "\n",
       "                        })                };                });            </script>        </div>"
      ]
     },
     "metadata": {},
     "output_type": "display_data"
    }
   ],
   "source": [
    "fig = px.treemap(pdf, path=['region', 'task'], values='n_dataset',\n",
    "                  color='task', labels='task',\n",
    "                  # range_color=[0, 40],\n",
    "                  # color_continuous_scale='Viridis',\n",
    "                  color_discrete_sequence=px.colors.sequential.Sunset[:],\n",
    "                  # color_discrete_sequence=px.colors.sequential.Viridis[1:],\n",
    "                )\n",
    "\n",
    "fig.update_traces(root_color=\"#ffffff\", textfont=dict(size=16), marker=dict(cornerradius=3))\n",
    "fig.update_layout(\n",
    "    template='none',\n",
    "    width=1000,\n",
    "    height=500,\n",
    "    margin=dict(l=10, r=10, t=10, b=10),\n",
    "    # uniformtext=dict(minsize=8, mode='show'),\n",
    "    showlegend = True,\n",
    ")\n",
    "fig.show()"
   ]
  },
  {
   "cell_type": "code",
   "execution_count": null,
   "id": "e5c0790f-9b9e-4715-a67a-2bda392bfe83",
   "metadata": {},
   "outputs": [],
   "source": []
  },
  {
   "cell_type": "code",
   "execution_count": null,
   "id": "2a232cb7-9666-4c2a-a020-431f36b2ef25",
   "metadata": {},
   "outputs": [],
   "source": []
  }
 ],
 "metadata": {
  "kernelspec": {
   "display_name": "Python 3 (ipykernel)",
   "language": "python",
   "name": "python3"
  },
  "language_info": {
   "codemirror_mode": {
    "name": "ipython",
    "version": 3
   },
   "file_extension": ".py",
   "mimetype": "text/x-python",
   "name": "python",
   "nbconvert_exporter": "python",
   "pygments_lexer": "ipython3",
   "version": "3.12.3"
  }
 },
 "nbformat": 4,
 "nbformat_minor": 5
}
