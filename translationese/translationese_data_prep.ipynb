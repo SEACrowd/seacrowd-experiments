{
 "cells": [
  {
   "cell_type": "code",
   "execution_count": 1,
   "id": "b6616fe8-5dce-4dfc-8fc1-ea0987ce43fd",
   "metadata": {},
   "outputs": [],
   "source": [
    "import numpy as np\n",
    "import pandas as pd\n",
    "import datasets\n",
    "from seacrowd import SEACrowdConfigHelper, Tasks\n",
    "\n",
    "from itertools import chain\n",
    "import json\n",
    "from collections import Counter"
   ]
  },
  {
   "cell_type": "code",
   "execution_count": 2,
   "id": "f77563fd-db21-4771-bbab-f0e8186fff95",
   "metadata": {},
   "outputs": [],
   "source": [
    "dset_df = pd.read_csv('dataset_list.csv')"
   ]
  },
  {
   "cell_type": "code",
   "execution_count": 3,
   "id": "4cd620ec-6892-429d-8377-5b501c404bcd",
   "metadata": {},
   "outputs": [
    {
     "name": "stderr",
     "output_type": "stream",
     "text": [
      " 74%|██████████████████████████████████████████████████████████████████████████████████████████████████████▉                                     | 250/340 [00:03<00:01, 70.63it/s]/home/samuel/anaconda2/envs/env_embedding/lib/python3.10/site-packages/datasets/load.py:1486: FutureWarning: The repository for gem contains custom code which must be executed to correctly load the dataset. You can inspect the repository content at https://hf.co/datasets/gem\n",
      "You can avoid this message in future by passing the argument `trust_remote_code=True`.\n",
      "Passing `trust_remote_code=True` will be mandatory to load this dataset from the next major release of `datasets`.\n",
      "  warnings.warn(\n",
      "100%|████████████████████████████████████████████████████████████████████████████████████████████████████████████████████████████████████████████| 340/340 [00:35<00:00,  9.68it/s]\n"
     ]
    }
   ],
   "source": [
    "sc_conhelp = SEACrowdConfigHelper()"
   ]
  },
  {
   "cell_type": "markdown",
   "id": "2519fb76-8bea-43b2-bc03-7ad4444e4693",
   "metadata": {
    "tags": []
   },
   "source": [
    "# SEACrowd Dataset"
   ]
  },
  {
   "cell_type": "code",
   "execution_count": 4,
   "id": "1aa75ad1-876f-45df-aa36-4edc7a70773b",
   "metadata": {},
   "outputs": [],
   "source": [
    "def retrieve_text(dset, config_name):\n",
    "    if 'paracotta_id' in config_name:\n",
    "        return dset['train']['text_1'] + dset['train']['text_2']\n",
    "\n",
    "    if 'aya_dataset' in config_name:\n",
    "        return dset['train']['text_1'] + dset['train']['text_2']\n",
    "\n",
    "    if 'codeswitch_reddit' in config_name:\n",
    "        return dset['train']['text']\n",
    "\n",
    "    if 'mkqa' in config_name:\n",
    "        return dset['train']['question']\n",
    "\n",
    "    if 'yunshan_cup_2020' in config_name:\n",
    "        return list(map(lambda x: ' '.join(x['tokens']), dset['train'])) + list(map(lambda x: ' '.join(x['tokens']), dset['validation']))\n",
    "\n",
    "    if 'mozilla_pontoon' in config_name:\n",
    "        return dset['train']['text_2']\n",
    "\n",
    "    if 'ntrex_128' in config_name:\n",
    "        return dset['test']['text_1']\n",
    "\n",
    "    if 'nusax_mt' in config_name:\n",
    "        return dset['train']['text_1']\n",
    "\n",
    "    if 'tatoeba' in config_name:\n",
    "        return dset['validation']['text_1']\n",
    "\n",
    "    if 'xcopa' in config_name:\n",
    "        return dset['validation']['context'] + dset['validation']['context'] + list(chain.from_iterable(list(dset['validation']['choices'])))\n",
    "\n",
    "    if 'bactrian_x' in config_name:\n",
    "        return dset['train']['text_1'] + dset['train']['text_2']\n",
    "\n",
    "    if 'ara_close' in config_name:\n",
    "        return dset['train']['text']\n",
    "\n",
    "    if 'cosem' in config_name:\n",
    "        return dset['train']['text']\n",
    "\n",
    "    if 'nusaparagraph_rhetoric' in config_name:\n",
    "        return dset['test']['text']\n",
    "\n",
    "    if 'emotes_3k' in config_name and 'seacrowd_text' in config_name:\n",
    "        return dset['test']['text']\n",
    "\n",
    "    if 'emotes_3k' in config_name and 'seacrowd_t2t' in config_name:\n",
    "        return dset['test']['text_1'] + dset['test']['text_2']\n",
    "\n",
    "    if 'sea_bench' in config_name:\n",
    "        return dset['train']['text_1'] + dset['train']['text_2']\n",
    "\n",
    "    if 'seaeval_cross_mmlu' in config_name:\n",
    "        return dset['test']['question'] + list(map(lambda x: x[0], dset['test']['answer']))\n",
    "\n",
    "    if 'seaeval_cross_logiqa' in config_name:\n",
    "        return dset['test']['question'] + list(map(lambda x: x[0], dset['test']['answer'])) + list(chain.from_iterable(list(dset['test']['choices'])))\n",
    "\n",
    "    if 'belebele' in config_name:\n",
    "        return dset['test']['question'] + dset['test']['context'] + list(chain.from_iterable(list(dset['test']['choices'])))\n",
    "\n",
    "    if 'khmer_alt_pos' in config_name:\n",
    "        return list(map(lambda x: ' '.join(x['tokens']), dset['train']))\n",
    "\n",
    "    if 'korpus_nusantara' in config_name:\n",
    "        return dset['train']['text_1']\n",
    "\n",
    "    if 'nusatranslation_mt' in config_name:\n",
    "        return dset['test']['text_1']\n",
    "\n",
    "    if 'parallel_asian_treebank' in config_name:\n",
    "        return dset['test']['text_1']\n",
    "\n",
    "    raise ValueError(f'Unknown Config Name `{config_name}`')"
   ]
  },
  {
   "cell_type": "code",
   "execution_count": 91,
   "id": "d8b4ad1a-6ae4-4797-bf6c-dc7caebbbac6",
   "metadata": {},
   "outputs": [],
   "source": [
    "valid_config_names = {}\n",
    "for split in ['Train', 'Test']:\n",
    "    valid_config_names[split] = {}\n",
    "    for label_type in ['Machine-translated', 'Natural', 'Human-translated']:\n",
    "        valid_config_names[split][label_type] = []\n",
    "        sc_dset_names = dset_df.loc[(dset_df['split'] == split) & (dset_df['type'] == label_type), 'dataloader_name'].tolist()\n",
    "        for con in sc_conhelp.filtered(\n",
    "            lambda x: (x.dataset_name in sc_dset_names) and ('_source' not in x.config.name)\n",
    "        ):\n",
    "            if 'cc3m_35l' in con.dataset_name:\n",
    "                continue\n",
    "\n",
    "            lang_list = dset_df.loc[dset_df['dataloader_name'] == con.dataset_name, 'lang'].values[0].split(',')\n",
    "            if 'zsm' in lang_list:\n",
    "                lang_list.append('zlm')\n",
    "\n",
    "            if len(lang_list) > 1:\n",
    "                if 'bactrian_x' in con.dataset_name:\n",
    "                    # Bactrian config name use ISO639-2 instead of ISO639-3, so just force it in\n",
    "                    valid_config_names[split][label_type].append(con.config.name)\n",
    "                else:\n",
    "                    for lang in lang_list:\n",
    "                        if Tasks.MACHINE_TRANSLATION in list(con.tasks):\n",
    "                            # Skip Redundant MT Config\n",
    "                            if ('ntrex' in con.config.name and 'eng-US_seacrowd' not in con.config.name) or \\\n",
    "                                ('nusax_mt' in con.config.name and 'ind_seacrowd' not in con.config.name) or \\\n",
    "                                ('parallel_asian_treebank' in con.config.name and 'eng_seacrowd' not in con.config.name) or \\\n",
    "                                ('korpus_nusantara' in con.config.name and 'ind_seacrowd' not in con.config.name) or \\\n",
    "                                ('nusatranslation_mt_' in con.config.name and 'ind_seacrowd' not in con.config.name):\n",
    "                                continue\n",
    "                            if lang in con.config.name:\n",
    "                                valid_config_names[split][label_type].append(con.config.name)\n",
    "                        else:\n",
    "                            if lang in con.config.name:\n",
    "                                valid_config_names[split][label_type].append(con.config.name)\n",
    "            else:\n",
    "                if 'emotes' in con.config.name:                    \n",
    "                    if 'tgl' in con.config.name and label_type == 'Natural':\n",
    "                        valid_config_names[split][label_type].append(con.config.name)\n",
    "                    elif 'eng' in con.config.name and label_type == 'Human-translated':\n",
    "                        valid_config_names[split][label_type].append(con.config.name)\n",
    "                elif 'ara_close' in con.config.name:\n",
    "                    if lang_list[0] in con.config.name:\n",
    "                        valid_config_names[split][label_type].append(con.config.name)\n",
    "                elif Tasks.MACHINE_TRANSLATION in list(con.tasks):\n",
    "                    # Skip Redundant MT Config\n",
    "                    if ('ntrex' in con.config.name and 'eng-US_seacrowd' not in con.config.name) or \\\n",
    "                        ('nusax_mt' in con.config.name and 'ind_seacrowd' not in con.config.name) or \\\n",
    "                        ('parallel_asian_treebank' in con.config.name and 'eng_seacrowd' not in con.config.name) or \\\n",
    "                        ('korpus_nusantara' in con.config.name and 'ind_seacrowd' not in con.config.name):\n",
    "                        continue\n",
    "                    valid_config_names[split][label_type].append(con.config.name)\n",
    "                else:\n",
    "                    valid_config_names[split][label_type].append(con.config.name)"
   ]
  },
  {
   "cell_type": "code",
   "execution_count": 92,
   "id": "0ba5c4c9-6167-4915-82f0-f8fcfce2a966",
   "metadata": {},
   "outputs": [
    {
     "data": {
      "text/plain": [
       "{'Train': {'Machine-translated': ['paracotta_id_seacrowd_t2t'],\n",
       "  'Natural': ['aya_dataset_ceb_seacrowd_t2t',\n",
       "   'aya_dataset_ind_seacrowd_t2t',\n",
       "   'aya_dataset_jav_seacrowd_t2t',\n",
       "   'aya_dataset_mya_seacrowd_t2t',\n",
       "   'aya_dataset_sun_seacrowd_t2t',\n",
       "   'aya_dataset_tha_seacrowd_t2t',\n",
       "   'aya_dataset_vie_seacrowd_t2t',\n",
       "   'aya_dataset_zsm_seacrowd_t2t',\n",
       "   'codeswitch_reddit_eng_monolingual_seacrowd_ssp',\n",
       "   'mkqa_khm_seacrowd_qa',\n",
       "   'mkqa_zsm_seacrowd_qa',\n",
       "   'mkqa_tha_seacrowd_qa',\n",
       "   'mkqa_vie_seacrowd_qa',\n",
       "   'yunshan_cup_2020_seacrowd_seq_label'],\n",
       "  'Human-translated': ['mozilla_pontoon_eng_mya_seacrowd_t2t',\n",
       "   'mozilla_pontoon_eng_ceb_seacrowd_t2t',\n",
       "   'mozilla_pontoon_eng_ind_seacrowd_t2t',\n",
       "   'mozilla_pontoon_eng_jav_seacrowd_t2t',\n",
       "   'mozilla_pontoon_eng_khm_seacrowd_t2t',\n",
       "   'mozilla_pontoon_eng_lao_seacrowd_t2t',\n",
       "   'mozilla_pontoon_eng_zsm_seacrowd_t2t',\n",
       "   'mozilla_pontoon_eng_tgl_seacrowd_t2t',\n",
       "   'mozilla_pontoon_eng_tha_seacrowd_t2t',\n",
       "   'mozilla_pontoon_eng_vie_seacrowd_t2t',\n",
       "   'ntrex_128_ind_eng-US_seacrowd_t2t',\n",
       "   'ntrex_128_khm_eng-US_seacrowd_t2t',\n",
       "   'ntrex_128_lao_eng-US_seacrowd_t2t',\n",
       "   'ntrex_128_zsm_eng-US_seacrowd_t2t',\n",
       "   'ntrex_128_mya_eng-US_seacrowd_t2t',\n",
       "   'ntrex_128_tha_eng-US_seacrowd_t2t',\n",
       "   'ntrex_128_vie_eng-US_seacrowd_t2t',\n",
       "   'nusax_mt_jav_ind_seacrowd_t2t',\n",
       "   'nusax_mt_sun_ind_seacrowd_t2t',\n",
       "   'tatoeba_ind_seacrowd_t2t',\n",
       "   'tatoeba_jav_seacrowd_t2t',\n",
       "   'tatoeba_tgl_seacrowd_t2t',\n",
       "   'tatoeba_tha_seacrowd_t2t',\n",
       "   'tatoeba_vie_seacrowd_t2t',\n",
       "   'xcopa_ind_seacrowd_qa',\n",
       "   'xcopa_tha_seacrowd_qa',\n",
       "   'xcopa_vie_seacrowd_qa']},\n",
       " 'Test': {'Machine-translated': ['bactrian_x_my_seacrowd_t2t',\n",
       "   'bactrian_x_tl_seacrowd_t2t',\n",
       "   'bactrian_x_id_seacrowd_t2t',\n",
       "   'bactrian_x_km_seacrowd_t2t',\n",
       "   'bactrian_x_th_seacrowd_t2t',\n",
       "   'bactrian_x_vi_seacrowd_t2t'],\n",
       "  'Natural': ['ara_close_ceb_seacrowd_text',\n",
       "   'cosem_seacrowd_ssp',\n",
       "   'emotes_3k_tgl_seacrowd_text',\n",
       "   'emotes_3k_tgl_seacrowd_t2t',\n",
       "   'nusaparagraph_rhetoric_jav_seacrowd_text',\n",
       "   'nusaparagraph_rhetoric_sun_seacrowd_text',\n",
       "   'sea_bench_tgl_seacrowd_t2t',\n",
       "   'sea_bench_khm_seacrowd_t2t',\n",
       "   'sea_bench_vie_seacrowd_t2t',\n",
       "   'sea_bench_tha_seacrowd_t2t',\n",
       "   'sea_bench_lao_seacrowd_t2t',\n",
       "   'sea_bench_mya_seacrowd_t2t',\n",
       "   'sea_bench_ind_seacrowd_t2t',\n",
       "   'sea_bench_zsm_seacrowd_t2t',\n",
       "   'seaeval_cross_mmlu_ind_seacrowd_qa',\n",
       "   'seaeval_cross_mmlu_vie_seacrowd_qa',\n",
       "   'seaeval_cross_mmlu_zsm_seacrowd_qa',\n",
       "   'seaeval_cross_logiqa_ind_seacrowd_qa',\n",
       "   'seaeval_cross_logiqa_vie_seacrowd_qa',\n",
       "   'seaeval_cross_logiqa_zsm_seacrowd_qa'],\n",
       "  'Human-translated': ['belebele_ceb_latn_seacrowd_qa',\n",
       "   'belebele_ind_latn_seacrowd_qa',\n",
       "   'belebele_jav_latn_seacrowd_qa',\n",
       "   'belebele_khm_khmr_seacrowd_qa',\n",
       "   'belebele_lao_laoo_seacrowd_qa',\n",
       "   'belebele_mya_mymr_seacrowd_qa',\n",
       "   'belebele_sun_latn_seacrowd_qa',\n",
       "   'belebele_tgl_latn_seacrowd_qa',\n",
       "   'belebele_tha_thai_seacrowd_qa',\n",
       "   'belebele_vie_latn_seacrowd_qa',\n",
       "   'belebele_zsm_latn_seacrowd_qa',\n",
       "   'emotes_3k_eng_seacrowd_text',\n",
       "   'emotes_3k_eng_seacrowd_t2t',\n",
       "   'khmer_alt_pos_seacrowd_seq_label',\n",
       "   'korpus_nusantara_jav_ind_seacrowd_t2t',\n",
       "   'korpus_nusantara_sun_ind_seacrowd_t2t',\n",
       "   'nusatranslation_mt_jav_ind_seacrowd_t2t',\n",
       "   'nusatranslation_mt_sun_ind_seacrowd_t2t',\n",
       "   'parallel_asian_treebank_khm_eng_seacrowd_t2t',\n",
       "   'parallel_asian_treebank_lao_eng_seacrowd_t2t',\n",
       "   'parallel_asian_treebank_mya_eng_seacrowd_t2t',\n",
       "   'parallel_asian_treebank_ind_eng_seacrowd_t2t',\n",
       "   'parallel_asian_treebank_zsm_eng_seacrowd_t2t',\n",
       "   'parallel_asian_treebank_tha_eng_seacrowd_t2t',\n",
       "   'parallel_asian_treebank_vie_eng_seacrowd_t2t']}}"
      ]
     },
     "execution_count": 92,
     "metadata": {},
     "output_type": "execute_result"
    }
   ],
   "source": [
    "valid_config_names"
   ]
  },
  {
   "cell_type": "code",
   "execution_count": 7,
   "id": "aa370a86-277a-4f72-af27-843a333f974e",
   "metadata": {},
   "outputs": [
    {
     "data": {
      "application/vnd.jupyter.widget-view+json": {
       "model_id": "aaa062dfa6ae418da49c1371955653c5",
       "version_major": 2,
       "version_minor": 0
      },
      "text/plain": [
       "Generating train split: 0 examples [00:00, ? examples/s]"
      ]
     },
     "metadata": {},
     "output_type": "display_data"
    },
    {
     "data": {
      "application/vnd.jupyter.widget-view+json": {
       "model_id": "8ba75d55fc894e0fbc907e734b5ab8da",
       "version_major": 2,
       "version_minor": 0
      },
      "text/plain": [
       "Generating train split: 0 examples [00:00, ? examples/s]"
      ]
     },
     "metadata": {},
     "output_type": "display_data"
    },
    {
     "data": {
      "application/vnd.jupyter.widget-view+json": {
       "model_id": "67f2b1b1d7314e2580fd339207ab89ff",
       "version_major": 2,
       "version_minor": 0
      },
      "text/plain": [
       "Generating train split: 0 examples [00:00, ? examples/s]"
      ]
     },
     "metadata": {},
     "output_type": "display_data"
    },
    {
     "data": {
      "application/vnd.jupyter.widget-view+json": {
       "model_id": "253f3c7ec203400e809b813b3a2e1e75",
       "version_major": 2,
       "version_minor": 0
      },
      "text/plain": [
       "Generating train split: 0 examples [00:00, ? examples/s]"
      ]
     },
     "metadata": {},
     "output_type": "display_data"
    },
    {
     "name": "stdout",
     "output_type": "stream",
     "text": [
      "Index(['id', 'ind_text', 'tgt_text'], dtype='object')\n"
     ]
    },
    {
     "data": {
      "application/vnd.jupyter.widget-view+json": {
       "model_id": "8c2c499886ed4401b83d9db359199507",
       "version_major": 2,
       "version_minor": 0
      },
      "text/plain": [
       "Generating validation split: 0 examples [00:00, ? examples/s]"
      ]
     },
     "metadata": {},
     "output_type": "display_data"
    },
    {
     "name": "stdout",
     "output_type": "stream",
     "text": [
      "Index(['id', 'ind_text', 'tgt_text'], dtype='object')\n"
     ]
    },
    {
     "data": {
      "application/vnd.jupyter.widget-view+json": {
       "model_id": "0b6fbcd4e25c467997ba258c6d25584e",
       "version_major": 2,
       "version_minor": 0
      },
      "text/plain": [
       "Generating test split: 0 examples [00:00, ? examples/s]"
      ]
     },
     "metadata": {},
     "output_type": "display_data"
    },
    {
     "name": "stdout",
     "output_type": "stream",
     "text": [
      "Index(['id', 'ind_text', 'tgt_text'], dtype='object')\n"
     ]
    },
    {
     "data": {
      "application/vnd.jupyter.widget-view+json": {
       "model_id": "4e754f0df8324205af080e3af659ee4a",
       "version_major": 2,
       "version_minor": 0
      },
      "text/plain": [
       "Generating train split: 0 examples [00:00, ? examples/s]"
      ]
     },
     "metadata": {},
     "output_type": "display_data"
    },
    {
     "data": {
      "application/vnd.jupyter.widget-view+json": {
       "model_id": "340b60fa7d974a8a99a0ff742e0e31f5",
       "version_major": 2,
       "version_minor": 0
      },
      "text/plain": [
       "Generating test split: 0 examples [00:00, ? examples/s]"
      ]
     },
     "metadata": {},
     "output_type": "display_data"
    },
    {
     "data": {
      "application/vnd.jupyter.widget-view+json": {
       "model_id": "71dfa3e30ee64f2cba332f53266a0ead",
       "version_major": 2,
       "version_minor": 0
      },
      "text/plain": [
       "Generating validation split: 0 examples [00:00, ? examples/s]"
      ]
     },
     "metadata": {},
     "output_type": "display_data"
    },
    {
     "data": {
      "application/vnd.jupyter.widget-view+json": {
       "model_id": "b207bb7016fd4580afc0ae5810ee0e6c",
       "version_major": 2,
       "version_minor": 0
      },
      "text/plain": [
       "Generating train split: 0 examples [00:00, ? examples/s]"
      ]
     },
     "metadata": {},
     "output_type": "display_data"
    },
    {
     "data": {
      "application/vnd.jupyter.widget-view+json": {
       "model_id": "fc8886aac3ec4a049a8953d95aa13a55",
       "version_major": 2,
       "version_minor": 0
      },
      "text/plain": [
       "Generating test split: 0 examples [00:00, ? examples/s]"
      ]
     },
     "metadata": {},
     "output_type": "display_data"
    },
    {
     "data": {
      "application/vnd.jupyter.widget-view+json": {
       "model_id": "45ec081f23fc4979b7df542abf12a8c5",
       "version_major": 2,
       "version_minor": 0
      },
      "text/plain": [
       "Generating validation split: 0 examples [00:00, ? examples/s]"
      ]
     },
     "metadata": {},
     "output_type": "display_data"
    },
    {
     "data": {
      "application/vnd.jupyter.widget-view+json": {
       "model_id": "3cda9770b11740dbb65c714924a3070f",
       "version_major": 2,
       "version_minor": 0
      },
      "text/plain": [
       "Generating train split: 0 examples [00:00, ? examples/s]"
      ]
     },
     "metadata": {},
     "output_type": "display_data"
    },
    {
     "data": {
      "application/vnd.jupyter.widget-view+json": {
       "model_id": "75fb52e714844290b596537e0822c301",
       "version_major": 2,
       "version_minor": 0
      },
      "text/plain": [
       "Generating test split: 0 examples [00:00, ? examples/s]"
      ]
     },
     "metadata": {},
     "output_type": "display_data"
    },
    {
     "data": {
      "application/vnd.jupyter.widget-view+json": {
       "model_id": "9376822a9cfc469294d8a03753e564e2",
       "version_major": 2,
       "version_minor": 0
      },
      "text/plain": [
       "Generating validation split: 0 examples [00:00, ? examples/s]"
      ]
     },
     "metadata": {},
     "output_type": "display_data"
    },
    {
     "data": {
      "application/vnd.jupyter.widget-view+json": {
       "model_id": "c88fd37e2cd34f2b989386e0c6f37ac3",
       "version_major": 2,
       "version_minor": 0
      },
      "text/plain": [
       "Generating train split: 0 examples [00:00, ? examples/s]"
      ]
     },
     "metadata": {},
     "output_type": "display_data"
    },
    {
     "data": {
      "application/vnd.jupyter.widget-view+json": {
       "model_id": "b4c8e3761c28452eb918513a52718c9e",
       "version_major": 2,
       "version_minor": 0
      },
      "text/plain": [
       "Generating test split: 0 examples [00:00, ? examples/s]"
      ]
     },
     "metadata": {},
     "output_type": "display_data"
    },
    {
     "data": {
      "application/vnd.jupyter.widget-view+json": {
       "model_id": "53de8086b1654dd6b3f3caf3221f5569",
       "version_major": 2,
       "version_minor": 0
      },
      "text/plain": [
       "Generating validation split: 0 examples [00:00, ? examples/s]"
      ]
     },
     "metadata": {},
     "output_type": "display_data"
    },
    {
     "data": {
      "application/vnd.jupyter.widget-view+json": {
       "model_id": "6b49633a87da4db8b302e740849f2a13",
       "version_major": 2,
       "version_minor": 0
      },
      "text/plain": [
       "Generating train split: 0 examples [00:00, ? examples/s]"
      ]
     },
     "metadata": {},
     "output_type": "display_data"
    },
    {
     "data": {
      "application/vnd.jupyter.widget-view+json": {
       "model_id": "b633bd79f80e4f5f9e1c40d3a6b9f6a4",
       "version_major": 2,
       "version_minor": 0
      },
      "text/plain": [
       "Generating test split: 0 examples [00:00, ? examples/s]"
      ]
     },
     "metadata": {},
     "output_type": "display_data"
    },
    {
     "data": {
      "application/vnd.jupyter.widget-view+json": {
       "model_id": "59401fa7fa874f669901f3cf3b1f4693",
       "version_major": 2,
       "version_minor": 0
      },
      "text/plain": [
       "Generating validation split: 0 examples [00:00, ? examples/s]"
      ]
     },
     "metadata": {},
     "output_type": "display_data"
    },
    {
     "name": "stdout",
     "output_type": "stream",
     "text": [
      "CPU times: user 1min 11s, sys: 2.29 s, total: 1min 13s\n",
      "Wall time: 1min 12s\n"
     ]
    },
    {
     "data": {
      "text/plain": [
       "{'paracotta_id_seacrowd_t2t': 12000000,\n",
       " 'aya_dataset_ceb_seacrowd_t2t': 1454,\n",
       " 'aya_dataset_ind_seacrowd_t2t': 1572,\n",
       " 'aya_dataset_jav_seacrowd_t2t': 494,\n",
       " 'aya_dataset_mya_seacrowd_t2t': 944,\n",
       " 'aya_dataset_sun_seacrowd_t2t': 388,\n",
       " 'aya_dataset_tha_seacrowd_t2t': 1448,\n",
       " 'aya_dataset_vie_seacrowd_t2t': 17352,\n",
       " 'aya_dataset_zsm_seacrowd_t2t': 20146,\n",
       " 'codeswitch_reddit_eng_monolingual_seacrowd_ssp': 190250,\n",
       " 'mkqa_khm_seacrowd_qa': 10000,\n",
       " 'mkqa_zsm_seacrowd_qa': 10000,\n",
       " 'mkqa_tha_seacrowd_qa': 10000,\n",
       " 'mkqa_vie_seacrowd_qa': 10000,\n",
       " 'yunshan_cup_2020_seacrowd_seq_label': 8000,\n",
       " 'mozilla_pontoon_eng_mya_seacrowd_t2t': 13699,\n",
       " 'mozilla_pontoon_eng_ceb_seacrowd_t2t': 470,\n",
       " 'mozilla_pontoon_eng_ind_seacrowd_t2t': 43789,\n",
       " 'mozilla_pontoon_eng_jav_seacrowd_t2t': 685,\n",
       " 'mozilla_pontoon_eng_khm_seacrowd_t2t': 14481,\n",
       " 'mozilla_pontoon_eng_lao_seacrowd_t2t': 15302,\n",
       " 'mozilla_pontoon_eng_tgl_seacrowd_t2t': 12252,\n",
       " 'mozilla_pontoon_eng_tha_seacrowd_t2t': 37691,\n",
       " 'mozilla_pontoon_eng_vie_seacrowd_t2t': 43542,\n",
       " 'ntrex_128_ind_eng-US_seacrowd_t2t': 1997,\n",
       " 'ntrex_128_khm_eng-US_seacrowd_t2t': 1997,\n",
       " 'ntrex_128_lao_eng-US_seacrowd_t2t': 1997,\n",
       " 'ntrex_128_mya_eng-US_seacrowd_t2t': 1997,\n",
       " 'ntrex_128_tha_eng-US_seacrowd_t2t': 1997,\n",
       " 'ntrex_128_vie_eng-US_seacrowd_t2t': 1997,\n",
       " 'nusax_mt_jav_ind_seacrowd_t2t': 500,\n",
       " 'nusax_mt_sun_ind_seacrowd_t2t': 500,\n",
       " 'tatoeba_ind_seacrowd_t2t': 1000,\n",
       " 'tatoeba_jav_seacrowd_t2t': 205,\n",
       " 'tatoeba_tgl_seacrowd_t2t': 1000,\n",
       " 'tatoeba_tha_seacrowd_t2t': 548,\n",
       " 'tatoeba_vie_seacrowd_t2t': 1000,\n",
       " 'xcopa_ind_seacrowd_qa': 400,\n",
       " 'xcopa_tha_seacrowd_qa': 400,\n",
       " 'xcopa_vie_seacrowd_qa': 400,\n",
       " 'bactrian_x_my_seacrowd_t2t': 134034,\n",
       " 'bactrian_x_tl_seacrowd_t2t': 134034,\n",
       " 'bactrian_x_id_seacrowd_t2t': 134034,\n",
       " 'bactrian_x_km_seacrowd_t2t': 134034,\n",
       " 'bactrian_x_th_seacrowd_t2t': 134034,\n",
       " 'bactrian_x_vi_seacrowd_t2t': 134034,\n",
       " 'ara_close_bcl_seacrowd_text': 150,\n",
       " 'ara_close_ceb_seacrowd_text': 349,\n",
       " 'cosem_seacrowd_ssp': 1400937,\n",
       " 'emotes_3k_tgl_seacrowd_text': 2905,\n",
       " 'emotes_3k_tgl_seacrowd_t2t': 5810,\n",
       " 'nusaparagraph_rhetoric_jav_seacrowd_text': 2000,\n",
       " 'nusaparagraph_rhetoric_sun_seacrowd_text': 2000,\n",
       " 'sea_bench_tgl_seacrowd_t2t': 160,\n",
       " 'sea_bench_khm_seacrowd_t2t': 160,\n",
       " 'sea_bench_vie_seacrowd_t2t': 200,\n",
       " 'sea_bench_tha_seacrowd_t2t': 200,\n",
       " 'sea_bench_lao_seacrowd_t2t': 160,\n",
       " 'sea_bench_mya_seacrowd_t2t': 160,\n",
       " 'sea_bench_ind_seacrowd_t2t': 200,\n",
       " 'seaeval_cross_mmlu_ind_seacrowd_qa': 300,\n",
       " 'seaeval_cross_mmlu_vie_seacrowd_qa': 300,\n",
       " 'seaeval_cross_logiqa_ind_seacrowd_qa': 1056,\n",
       " 'seaeval_cross_logiqa_vie_seacrowd_qa': 1056,\n",
       " 'belebele_ceb_latn_seacrowd_qa': 5400,\n",
       " 'belebele_ind_latn_seacrowd_qa': 5400,\n",
       " 'belebele_jav_latn_seacrowd_qa': 5400,\n",
       " 'belebele_khm_khmr_seacrowd_qa': 5400,\n",
       " 'belebele_lao_laoo_seacrowd_qa': 5400,\n",
       " 'belebele_mya_mymr_seacrowd_qa': 5400,\n",
       " 'belebele_sun_latn_seacrowd_qa': 5400,\n",
       " 'belebele_tgl_latn_seacrowd_qa': 5400,\n",
       " 'belebele_tha_thai_seacrowd_qa': 5400,\n",
       " 'belebele_vie_latn_seacrowd_qa': 5400,\n",
       " 'belebele_zsm_latn_seacrowd_qa': 5400,\n",
       " 'khmer_alt_pos_seacrowd_seq_label': 20106,\n",
       " 'korpus_nusantara_ind_jav_seacrowd_t2t': 12059,\n",
       " 'korpus_nusantara_ind_sun_seacrowd_t2t': 1699,\n",
       " 'korpus_nusantara_jav_ind_seacrowd_t2t': 12059,\n",
       " 'korpus_nusantara_sun_ind_seacrowd_t2t': 1699,\n",
       " 'nusatranslation_mt_jav_ind_seacrowd_t2t': 2000,\n",
       " 'nusatranslation_mt_sun_ind_seacrowd_t2t': 2000,\n",
       " 'parallel_asian_treebank_khm_eng_seacrowd_t2t': 97,\n",
       " 'parallel_asian_treebank_lao_eng_seacrowd_t2t': 97,\n",
       " 'parallel_asian_treebank_mya_eng_seacrowd_t2t': 97,\n",
       " 'parallel_asian_treebank_ind_eng_seacrowd_t2t': 97,\n",
       " 'parallel_asian_treebank_tha_eng_seacrowd_t2t': 97,\n",
       " 'parallel_asian_treebank_vie_eng_seacrowd_t2t': 97}"
      ]
     },
     "execution_count": 7,
     "metadata": {},
     "output_type": "execute_result"
    }
   ],
   "source": [
    "%%time\n",
    "config_stats = {}\n",
    "train_data = {'text': [], 'label': [], 'config': []}\n",
    "test_data = {'text': [], 'label': [], 'config': []}\n",
    "\n",
    "data = {'Train': train_data, 'Test': test_data}\n",
    "for split in valid_config_names.keys():\n",
    "    for label_type in valid_config_names[split].keys():\n",
    "        for config_name in valid_config_names[split][label_type]:\n",
    "            texts = retrieve_text(sc_conhelp.for_config_name(config_name).load_dataset(), config_name)\n",
    "            labels = [label_type for _ in range(len(texts))]\n",
    "            configs = [config_name for _ in range(len(texts))]\n",
    "            \n",
    "            config_stats[config_name] = len(texts)\n",
    "            data[split]['text'] += texts\n",
    "            data[split]['label'] += labels\n",
    "            data[split]['config'] += configs\n",
    "config_stats"
   ]
  },
  {
   "cell_type": "markdown",
   "id": "488294d1-2187-47d5-ad56-35978ee52bf8",
   "metadata": {},
   "source": [
    "# Custom Data \n",
    "- Aya Collection\n",
    "- Aya Evaluation Suite\n",
    "- CC3M-35L"
   ]
  },
  {
   "cell_type": "code",
   "execution_count": 8,
   "id": "5124bce4-52c1-439b-8db8-7c365ff4f02f",
   "metadata": {},
   "outputs": [],
   "source": [
    "aya_col_dset = datasets.load_dataset('CohereForAI/aya_collection', name='translated_dolly')\n",
    "aya_col_dset = aya_col_dset.filter(lambda x: x['language'] in ['ceb','tha','mya','zsm','jav','ind','vie','sun','khm','lao','eng'])\n",
    "texts = aya_col_dset['train']['inputs'] + aya_col_dset['train']['targets']\n",
    "labels = ['Machine-translated' for _ in range(len(texts))]\n",
    "configs = list(map(lambda lang: 'aya_collection_'+lang+'_seacrowd_t2t', aya_col_dset['train']['language'])) * 2\n",
    "\n",
    "train_data['text'] += texts\n",
    "train_data['label'] += labels\n",
    "train_data['config'] += configs"
   ]
  },
  {
   "cell_type": "code",
   "execution_count": 9,
   "id": "7fb13ff0-5797-4ed7-a87e-4bc5291cf0cb",
   "metadata": {},
   "outputs": [],
   "source": [
    "aya_eval_dset = datasets.load_dataset('CohereForAI/aya_evaluation_suite', name='dolly_machine_translated')\n",
    "aya_eval_dset = aya_eval_dset.filter(lambda x: x['language'] in ['ceb','tha','mya','zsm','jav','ind','vie','sun','khm','lao','eng'])\n",
    "texts = aya_eval_dset['test']['inputs'] + aya_eval_dset['test']['targets']\n",
    "labels = ['Machine-translated' for _ in range(len(texts))]\n",
    "configs = list(map(lambda lang: 'aya_evaluation_suite_'+lang+'_seacrowd_t2t', aya_eval_dset['test']['language'])) * 2\n",
    "\n",
    "test_data['text'] += texts\n",
    "test_data['label'] += labels\n",
    "test_data['config'] += configs"
   ]
  },
  {
   "cell_type": "code",
   "execution_count": 10,
   "id": "a4f64611-3b9a-4cbc-b26f-95f6f8a6784f",
   "metadata": {},
   "outputs": [
    {
     "name": "stdout",
     "output_type": "stream",
     "text": [
      "CPU times: user 9min 15s, sys: 16 s, total: 9min 31s\n",
      "Wall time: 9min 30s\n"
     ]
    }
   ],
   "source": [
    "%%time\n",
    "texts, labels, configs = [], [], []\n",
    "lang_map = {'id': 'ind', 'th': 'tha', 'fil': 'tgl', 'vi': 'vie'}\n",
    "with open('./cc3m_mt_train.jsonl') as f:\n",
    "    for line in f:\n",
    "        row = json.loads(line)\n",
    "        if row['trg_lang'] in ['fil', 'tgl', 'ind', 'tha', 'vie', 'tl','id','th','vi']:\n",
    "            texts.append(row['translation_tokenized'])\n",
    "            labels.append('Machine-translated')\n",
    "            configs.append('cc3m_mt_' + lang_map[row['trg_lang']] + '_seacrowd_imtext')\n",
    "\n",
    "train_data['text'] += texts\n",
    "train_data['label'] += labels\n",
    "train_data['config'] += configs"
   ]
  },
  {
   "cell_type": "code",
   "execution_count": 11,
   "id": "610f0b17-b07b-4a15-8e90-459ce0ce2355",
   "metadata": {},
   "outputs": [
    {
     "name": "stdout",
     "output_type": "stream",
     "text": [
      "Train:  26081150 26081150 26081150\n",
      "Test:  2347026 2347026 2347026\n"
     ]
    }
   ],
   "source": [
    "# Sanity Check\n",
    "print('Train: ', len(train_data['text']), len(train_data['label']), len(train_data['config']))\n",
    "print('Test: ', len(test_data['text']), len(test_data['label']), len(test_data['config']))"
   ]
  },
  {
   "cell_type": "code",
   "execution_count": 12,
   "id": "d58977c1-87c3-4adc-ba30-23c3fc0715c4",
   "metadata": {},
   "outputs": [],
   "source": [
    "import datasets\n",
    "train_dset = datasets.Dataset.from_dict(train_data)\n",
    "test_dset = datasets.Dataset.from_dict(test_data)"
   ]
  },
  {
   "cell_type": "code",
   "execution_count": 14,
   "id": "bd44f3dd-428a-4c67-9af7-69e726361549",
   "metadata": {},
   "outputs": [
    {
     "data": {
      "application/vnd.jupyter.widget-view+json": {
       "model_id": "61716c49d5444daab1d2736a57cd586c",
       "version_major": 2,
       "version_minor": 0
      },
      "text/plain": [
       "Uploading the dataset shards:   0%|          | 0/8 [00:00<?, ?it/s]"
      ]
     },
     "metadata": {},
     "output_type": "display_data"
    },
    {
     "data": {
      "application/vnd.jupyter.widget-view+json": {
       "model_id": "e577054a74294a09b3c12e4f519e93e0",
       "version_major": 2,
       "version_minor": 0
      },
      "text/plain": [
       "Creating parquet from Arrow format:   0%|          | 0/3261 [00:00<?, ?ba/s]"
      ]
     },
     "metadata": {},
     "output_type": "display_data"
    },
    {
     "data": {
      "application/vnd.jupyter.widget-view+json": {
       "model_id": "45316d8abed94871b59708d175925325",
       "version_major": 2,
       "version_minor": 0
      },
      "text/plain": [
       "Creating parquet from Arrow format:   0%|          | 0/3261 [00:00<?, ?ba/s]"
      ]
     },
     "metadata": {},
     "output_type": "display_data"
    },
    {
     "data": {
      "application/vnd.jupyter.widget-view+json": {
       "model_id": "f3d440e16a34418db96b6c1279e30274",
       "version_major": 2,
       "version_minor": 0
      },
      "text/plain": [
       "Creating parquet from Arrow format:   0%|          | 0/3261 [00:00<?, ?ba/s]"
      ]
     },
     "metadata": {},
     "output_type": "display_data"
    },
    {
     "data": {
      "application/vnd.jupyter.widget-view+json": {
       "model_id": "9ade3112db064e67b62744d6a6f5eb9d",
       "version_major": 2,
       "version_minor": 0
      },
      "text/plain": [
       "Creating parquet from Arrow format:   0%|          | 0/3261 [00:00<?, ?ba/s]"
      ]
     },
     "metadata": {},
     "output_type": "display_data"
    },
    {
     "data": {
      "application/vnd.jupyter.widget-view+json": {
       "model_id": "0f1b75c1abe94916a0d4029b9bb9ff1b",
       "version_major": 2,
       "version_minor": 0
      },
      "text/plain": [
       "Creating parquet from Arrow format:   0%|          | 0/3261 [00:00<?, ?ba/s]"
      ]
     },
     "metadata": {},
     "output_type": "display_data"
    },
    {
     "data": {
      "application/vnd.jupyter.widget-view+json": {
       "model_id": "e4cb6585590c4698aded0f15e917e18f",
       "version_major": 2,
       "version_minor": 0
      },
      "text/plain": [
       "Creating parquet from Arrow format:   0%|          | 0/3261 [00:00<?, ?ba/s]"
      ]
     },
     "metadata": {},
     "output_type": "display_data"
    },
    {
     "data": {
      "application/vnd.jupyter.widget-view+json": {
       "model_id": "246264d34eda4e7d86c93e9aac2536ff",
       "version_major": 2,
       "version_minor": 0
      },
      "text/plain": [
       "Creating parquet from Arrow format:   0%|          | 0/3261 [00:00<?, ?ba/s]"
      ]
     },
     "metadata": {},
     "output_type": "display_data"
    },
    {
     "data": {
      "application/vnd.jupyter.widget-view+json": {
       "model_id": "4960a0a418c1434e9a2627a0bfdb7525",
       "version_major": 2,
       "version_minor": 0
      },
      "text/plain": [
       "Creating parquet from Arrow format:   0%|          | 0/3261 [00:00<?, ?ba/s]"
      ]
     },
     "metadata": {},
     "output_type": "display_data"
    },
    {
     "data": {
      "application/vnd.jupyter.widget-view+json": {
       "model_id": "32f538664fcf4d91bee3894219129199",
       "version_major": 2,
       "version_minor": 0
      },
      "text/plain": [
       "Uploading the dataset shards:   0%|          | 0/2 [00:00<?, ?it/s]"
      ]
     },
     "metadata": {},
     "output_type": "display_data"
    },
    {
     "data": {
      "application/vnd.jupyter.widget-view+json": {
       "model_id": "649bd76f519c47fda29e0ab112bdbbca",
       "version_major": 2,
       "version_minor": 0
      },
      "text/plain": [
       "Creating parquet from Arrow format:   0%|          | 0/1174 [00:00<?, ?ba/s]"
      ]
     },
     "metadata": {},
     "output_type": "display_data"
    },
    {
     "data": {
      "application/vnd.jupyter.widget-view+json": {
       "model_id": "f387843c09774a0fadb54d059608fa2e",
       "version_major": 2,
       "version_minor": 0
      },
      "text/plain": [
       "Creating parquet from Arrow format:   0%|          | 0/1174 [00:00<?, ?ba/s]"
      ]
     },
     "metadata": {},
     "output_type": "display_data"
    },
    {
     "data": {
      "text/plain": [
       "CommitInfo(commit_url='https://huggingface.co/datasets/SEACrowd/sea_translationese/commit/e45353d000385c2621edcfd44a0c993314d0b11c', commit_message='Upload dataset', commit_description='', oid='e45353d000385c2621edcfd44a0c993314d0b11c', pr_url=None, pr_revision=None, pr_num=None)"
      ]
     },
     "execution_count": 14,
     "metadata": {},
     "output_type": "execute_result"
    }
   ],
   "source": [
    "datasets.DatasetDict({\n",
    "    'train': train_dset,\n",
    "    'test': test_dset\n",
    "}).push_to_hub(\"SEACrowd/sea_translationese\")"
   ]
  },
  {
   "cell_type": "code",
   "execution_count": 23,
   "id": "e0addc89-faa9-46f1-bbbd-5072b2c0b78e",
   "metadata": {},
   "outputs": [],
   "source": [
    "config2lang = {\n",
    "\t'aya_collection_ceb_seacrowd_t2t': 'ceb',\n",
    "\t'aya_collection_eng_seacrowd_t2t': 'eng',\n",
    "\t'aya_collection_ind_seacrowd_t2t': 'ind',\n",
    "\t'aya_collection_jav_seacrowd_t2t': 'jav',\n",
    "\t'aya_collection_khm_seacrowd_t2t': 'khm',\n",
    "\t'aya_collection_lao_seacrowd_t2t': 'lao',\n",
    "\t'aya_collection_mya_seacrowd_t2t': 'mya',\n",
    "\t'aya_collection_sun_seacrowd_t2t': 'sun',\n",
    "\t'aya_collection_tha_seacrowd_t2t': 'tha',\n",
    "\t'aya_collection_vie_seacrowd_t2t': 'vie',\n",
    "\t'aya_collection_zsm_seacrowd_t2t': 'zsm',\n",
    "\t'aya_dataset_ceb_seacrowd_t2t': 'ceb',\n",
    "\t'aya_dataset_ind_seacrowd_t2t': 'ind',\n",
    "\t'aya_dataset_jav_seacrowd_t2t': 'jav',\n",
    "\t'aya_dataset_mya_seacrowd_t2t': 'mya',\n",
    "\t'aya_dataset_sun_seacrowd_t2t': 'sun',\n",
    "\t'aya_dataset_tha_seacrowd_t2t': 'tha',\n",
    "\t'aya_dataset_vie_seacrowd_t2t': 'vie',\n",
    "\t'aya_dataset_zsm_seacrowd_t2t': 'zsm',\n",
    "\t'cc3m_mt_ind_seacrowd_imtext': 'ind',\n",
    "\t'cc3m_mt_tgl_seacrowd_imtext': 'tgl',\n",
    "\t'cc3m_mt_tha_seacrowd_imtext': 'tha',\n",
    "\t'cc3m_mt_vie_seacrowd_imtext': 'vie',\n",
    "\t'codeswitch_reddit_eng_monolingual_seacrowd_ssp': 'eng',\n",
    "\t'mkqa_khm_seacrowd_qa': 'khm',\n",
    "\t'mkqa_tha_seacrowd_qa': 'tha',\n",
    "\t'mkqa_vie_seacrowd_qa': 'vie',\n",
    "\t'mkqa_zsm_seacrowd_qa': 'zsm',\n",
    "\t'mozilla_pontoon_eng_ceb_seacrowd_t2t': 'ceb',\n",
    "\t'mozilla_pontoon_eng_ind_seacrowd_t2t': 'ind',\n",
    "\t'mozilla_pontoon_eng_jav_seacrowd_t2t': 'jav',\n",
    "\t'mozilla_pontoon_eng_khm_seacrowd_t2t': 'khm',\n",
    "\t'mozilla_pontoon_eng_lao_seacrowd_t2t': 'lao',\n",
    "\t'mozilla_pontoon_eng_mya_seacrowd_t2t': 'mya',\n",
    "\t'mozilla_pontoon_eng_tgl_seacrowd_t2t': 'tgl',\n",
    "\t'mozilla_pontoon_eng_tha_seacrowd_t2t': 'tha',\n",
    "\t'mozilla_pontoon_eng_vie_seacrowd_t2t': 'via',\n",
    "\t'ntrex_128_ind_eng-US_seacrowd_t2t': 'ind',\n",
    "\t'ntrex_128_khm_eng-US_seacrowd_t2t': 'khm',\n",
    "\t'ntrex_128_lao_eng-US_seacrowd_t2t': 'lao',\n",
    "\t'ntrex_128_mya_eng-US_seacrowd_t2t': 'mya',\n",
    "\t'ntrex_128_tha_eng-US_seacrowd_t2t': 'tha',\n",
    "\t'ntrex_128_vie_eng-US_seacrowd_t2t': 'vie',\n",
    "\t'nusax_mt_jav_ind_seacrowd_t2t': 'jav',\n",
    "\t'nusax_mt_sun_ind_seacrowd_t2t': 'sun',\n",
    "\t'paracotta_id_seacrowd_t2t': 'ind',\n",
    "\t'tatoeba_ind_seacrowd_t2t': 'ind',\n",
    "\t'tatoeba_jav_seacrowd_t2t': 'jav',\n",
    "\t'tatoeba_tgl_seacrowd_t2t': 'tgl',\n",
    "\t'tatoeba_tha_seacrowd_t2t': 'tha',\n",
    "\t'tatoeba_vie_seacrowd_t2t': 'vie',\n",
    "\t'xcopa_ind_seacrowd_qa': 'ind',\n",
    "\t'xcopa_tha_seacrowd_qa': 'tha',\n",
    "\t'xcopa_vie_seacrowd_qa': 'vie',\n",
    "\t'yunshan_cup_2020_seacrowd_seq_label': 'lao',\n",
    "\t'ara_close_bcl_seacrowd_text' : 'bcl',\n",
    "\t'ara_close_ceb_seacrowd_text' : 'ceb',\n",
    "\t'aya_evaluation_suite_ceb_seacrowd_t2t' : 'ceb',\n",
    "\t'aya_evaluation_suite_eng_seacrowd_t2t' : 'eng',\n",
    "\t'aya_evaluation_suite_ind_seacrowd_t2t' : 'ind',\n",
    "\t'aya_evaluation_suite_jav_seacrowd_t2t' : 'jav',\n",
    "\t'aya_evaluation_suite_khm_seacrowd_t2t' : 'khm',\n",
    "\t'aya_evaluation_suite_lao_seacrowd_t2t' : 'lao',\n",
    "\t'aya_evaluation_suite_mya_seacrowd_t2t' : 'mya',\n",
    "\t'aya_evaluation_suite_sun_seacrowd_t2t' : 'sun',\n",
    "\t'aya_evaluation_suite_tha_seacrowd_t2t' : 'tha',\n",
    "\t'aya_evaluation_suite_vie_seacrowd_t2t' : 'vie',\n",
    "\t'aya_evaluation_suite_zsm_seacrowd_t2t' : 'zsm',\n",
    "\t'bactrian_x_id_seacrowd_t2t' : 'ind',\n",
    "\t'bactrian_x_km_seacrowd_t2t' : 'khm',\n",
    "\t'bactrian_x_my_seacrowd_t2t' : 'mya',\n",
    "\t'bactrian_x_th_seacrowd_t2t' : 'tha',\n",
    "\t'bactrian_x_tl_seacrowd_t2t' : 'tgl',\n",
    "\t'bactrian_x_vi_seacrowd_t2t' : 'vie',\n",
    "\t'belebele_ceb_latn_seacrowd_qa' : 'ceb',\n",
    "\t'belebele_ind_latn_seacrowd_qa' : 'ind',\n",
    "\t'belebele_jav_latn_seacrowd_qa' : 'jav',\n",
    "\t'belebele_khm_khmr_seacrowd_qa' : 'khm',\n",
    "\t'belebele_lao_laoo_seacrowd_qa' : 'lao',\n",
    "\t'belebele_mya_mymr_seacrowd_qa' : 'mya',\n",
    "\t'belebele_sun_latn_seacrowd_qa' : 'sun',\n",
    "\t'belebele_tgl_latn_seacrowd_qa' : 'tgl',\n",
    "\t'belebele_tha_thai_seacrowd_qa' : 'tha',\n",
    "\t'belebele_vie_latn_seacrowd_qa' : 'vie',\n",
    "\t'belebele_zsm_latn_seacrowd_qa' : 'zsm',\n",
    "\t'cosem_seacrowd_ssp' : 'eng',\n",
    "\t'emotes_3k_tgl_seacrowd_t2t' : 'tgl',\n",
    "\t'emotes_3k_tgl_seacrowd_text' : 'tgl',\n",
    "\t'khmer_alt_pos_seacrowd_seq_label' : 'khm',\n",
    "\t'korpus_nusantara_jav_ind_seacrowd_t2t' : 'jav',\n",
    "\t'korpus_nusantara_sun_ind_seacrowd_t2t' : 'sun',\n",
    "\t'nusaparagraph_rhetoric_jav_seacrowd_text' : 'jav',\n",
    "\t'nusaparagraph_rhetoric_sun_seacrowd_text' : 'sun',\n",
    "\t'nusatranslation_mt_jav_ind_seacrowd_t2t' : 'jav',\n",
    "\t'nusatranslation_mt_sun_ind_seacrowd_t2t' : 'sun',\n",
    "\t'parallel_asian_treebank_ind_eng_seacrowd_t2t' : 'ind',\n",
    "\t'parallel_asian_treebank_khm_eng_seacrowd_t2t' : 'khm',\n",
    "\t'parallel_asian_treebank_lao_eng_seacrowd_t2t' : 'lao',\n",
    "\t'parallel_asian_treebank_mya_eng_seacrowd_t2t' : 'mya',\n",
    "\t'parallel_asian_treebank_tha_eng_seacrowd_t2t' : 'tha',\n",
    "\t'parallel_asian_treebank_vie_eng_seacrowd_t2t' : 'vie',\n",
    "\t'sea_bench_ind_seacrowd_t2t' : 'ind',\n",
    "\t'sea_bench_khm_seacrowd_t2t' : 'khm',\n",
    "\t'sea_bench_lao_seacrowd_t2t' : 'lao',\n",
    "\t'sea_bench_mya_seacrowd_t2t' : 'mya',\n",
    "\t'sea_bench_tgl_seacrowd_t2t' : 'tgl',\n",
    "\t'sea_bench_tha_seacrowd_t2t' : 'tha',\n",
    "\t'sea_bench_vie_seacrowd_t2t' : 'vie',\n",
    "\t'seaeval_cross_logiqa_ind_seacrowd_qa' : 'ind',\n",
    "\t'seaeval_cross_logiqa_vie_seacrowd_qa' : 'vie',\n",
    "\t'seaeval_cross_mmlu_ind_seacrowd_qa' : 'ind',\n",
    "\t'seaeval_cross_mmlu_vie_seacrowd_qa' : 'vie',\n",
    "}"
   ]
  },
  {
   "cell_type": "code",
   "execution_count": 32,
   "id": "42e7f5ba-476c-4cad-847e-14780d181317",
   "metadata": {},
   "outputs": [],
   "source": [
    "train_df = train_dset.to_pandas()\n",
    "test_df = test_dset.to_pandas()"
   ]
  },
  {
   "cell_type": "code",
   "execution_count": 33,
   "id": "6f88e2e0-f3dc-4ebf-8876-5b6ae6ab8270",
   "metadata": {},
   "outputs": [],
   "source": [
    "test_df = test_df.loc[~test_df['config'].isin(['korpus_nusantara_ind_jav_seacrowd_t2t','korpus_nusantara_ind_sun_seacrowd_t2t'])]"
   ]
  },
  {
   "cell_type": "code",
   "execution_count": 34,
   "id": "f45e53e9-a567-4dbc-b0d7-dfd1adf877ef",
   "metadata": {},
   "outputs": [],
   "source": [
    "train_df['lang'] = train_df['config'].apply(lambda x: config2lang[x])\n",
    "test_df['lang'] = test_df['config'].apply(lambda x: config2lang[x])"
   ]
  },
  {
   "cell_type": "code",
   "execution_count": 16,
   "id": "fa649314-9f13-427a-be94-aee8a92c6afd",
   "metadata": {},
   "outputs": [
    {
     "data": {
      "text/plain": [
       "label\n",
       "Human-translated        199846\n",
       "Machine-translated    25599256\n",
       "Natural                 282048\n",
       "dtype: int64"
      ]
     },
     "execution_count": 16,
     "metadata": {},
     "output_type": "execute_result"
    }
   ],
   "source": [
    "train_df.groupby('label').size()"
   ]
  },
  {
   "cell_type": "code",
   "execution_count": 35,
   "id": "8a8653d8-6455-4f0c-b8b0-1fc8f66396bb",
   "metadata": {},
   "outputs": [
    {
     "data": {
      "text/plain": [
       "lang\n",
       "ceb       31540\n",
       "eng      219866\n",
       "ind    15396744\n",
       "jav       31500\n",
       "khm       56094\n",
       "lao       54915\n",
       "mya       46256\n",
       "sun       30504\n",
       "tgl     3331622\n",
       "tha     3400070\n",
       "via       43542\n",
       "vie     3378735\n",
       "zsm       59762\n",
       "dtype: int64"
      ]
     },
     "execution_count": 35,
     "metadata": {},
     "output_type": "execute_result"
    }
   ],
   "source": [
    "train_df.groupby('lang').size()"
   ]
  },
  {
   "cell_type": "code",
   "execution_count": 36,
   "id": "330d7071-afa8-4fc3-abe7-a294f3b340d0",
   "metadata": {},
   "outputs": [
    {
     "data": {
      "text/plain": [
       "config\n",
       "aya_collection_ceb_seacrowd_t2t                      29616\n",
       "aya_collection_eng_seacrowd_t2t                      29616\n",
       "aya_collection_ind_seacrowd_t2t                      29616\n",
       "aya_collection_jav_seacrowd_t2t                      29616\n",
       "aya_collection_khm_seacrowd_t2t                      29616\n",
       "aya_collection_lao_seacrowd_t2t                      29616\n",
       "aya_collection_mya_seacrowd_t2t                      29616\n",
       "aya_collection_sun_seacrowd_t2t                      29616\n",
       "aya_collection_tha_seacrowd_t2t                      29616\n",
       "aya_collection_vie_seacrowd_t2t                      29616\n",
       "aya_collection_zsm_seacrowd_t2t                      29616\n",
       "aya_dataset_ceb_seacrowd_t2t                          1454\n",
       "aya_dataset_ind_seacrowd_t2t                          1572\n",
       "aya_dataset_jav_seacrowd_t2t                           494\n",
       "aya_dataset_mya_seacrowd_t2t                           944\n",
       "aya_dataset_sun_seacrowd_t2t                           388\n",
       "aya_dataset_tha_seacrowd_t2t                          1448\n",
       "aya_dataset_vie_seacrowd_t2t                         17352\n",
       "aya_dataset_zsm_seacrowd_t2t                         20146\n",
       "cc3m_mt_ind_seacrowd_imtext                        3318370\n",
       "cc3m_mt_tgl_seacrowd_imtext                        3318370\n",
       "cc3m_mt_tha_seacrowd_imtext                        3318370\n",
       "cc3m_mt_vie_seacrowd_imtext                        3318370\n",
       "codeswitch_reddit_eng_monolingual_seacrowd_ssp      190250\n",
       "mkqa_khm_seacrowd_qa                                 10000\n",
       "mkqa_tha_seacrowd_qa                                 10000\n",
       "mkqa_vie_seacrowd_qa                                 10000\n",
       "mkqa_zsm_seacrowd_qa                                 10000\n",
       "mozilla_pontoon_eng_ceb_seacrowd_t2t                   470\n",
       "mozilla_pontoon_eng_ind_seacrowd_t2t                 43789\n",
       "mozilla_pontoon_eng_jav_seacrowd_t2t                   685\n",
       "mozilla_pontoon_eng_khm_seacrowd_t2t                 14481\n",
       "mozilla_pontoon_eng_lao_seacrowd_t2t                 15302\n",
       "mozilla_pontoon_eng_mya_seacrowd_t2t                 13699\n",
       "mozilla_pontoon_eng_tgl_seacrowd_t2t                 12252\n",
       "mozilla_pontoon_eng_tha_seacrowd_t2t                 37691\n",
       "mozilla_pontoon_eng_vie_seacrowd_t2t                 43542\n",
       "ntrex_128_ind_eng-US_seacrowd_t2t                     1997\n",
       "ntrex_128_khm_eng-US_seacrowd_t2t                     1997\n",
       "ntrex_128_lao_eng-US_seacrowd_t2t                     1997\n",
       "ntrex_128_mya_eng-US_seacrowd_t2t                     1997\n",
       "ntrex_128_tha_eng-US_seacrowd_t2t                     1997\n",
       "ntrex_128_vie_eng-US_seacrowd_t2t                     1997\n",
       "nusax_mt_jav_ind_seacrowd_t2t                          500\n",
       "nusax_mt_sun_ind_seacrowd_t2t                          500\n",
       "paracotta_id_seacrowd_t2t                         12000000\n",
       "tatoeba_ind_seacrowd_t2t                              1000\n",
       "tatoeba_jav_seacrowd_t2t                               205\n",
       "tatoeba_tgl_seacrowd_t2t                              1000\n",
       "tatoeba_tha_seacrowd_t2t                               548\n",
       "tatoeba_vie_seacrowd_t2t                              1000\n",
       "xcopa_ind_seacrowd_qa                                  400\n",
       "xcopa_tha_seacrowd_qa                                  400\n",
       "xcopa_vie_seacrowd_qa                                  400\n",
       "yunshan_cup_2020_seacrowd_seq_label                   8000\n",
       "dtype: int64"
      ]
     },
     "execution_count": 36,
     "metadata": {},
     "output_type": "execute_result"
    }
   ],
   "source": [
    "train_df.groupby('config').size()"
   ]
  },
  {
   "cell_type": "code",
   "execution_count": 41,
   "id": "d76a3a66-6edf-411f-8fb3-e5ac97a4db97",
   "metadata": {},
   "outputs": [
    {
     "data": {
      "text/plain": [
       "label               lang\n",
       "Human-translated    ceb          470\n",
       "                    ind        47186\n",
       "                    jav         1390\n",
       "                    khm        16478\n",
       "                    lao        17299\n",
       "                    mya        15696\n",
       "                    sun          500\n",
       "                    tgl        13252\n",
       "                    tha        40636\n",
       "                    via        43542\n",
       "                    vie         3397\n",
       "Machine-translated  ceb        29616\n",
       "                    eng        29616\n",
       "                    ind     15347986\n",
       "                    jav        29616\n",
       "                    khm        29616\n",
       "                    lao        29616\n",
       "                    mya        29616\n",
       "                    sun        29616\n",
       "                    tgl      3318370\n",
       "                    tha      3347986\n",
       "                    vie      3347986\n",
       "                    zsm        29616\n",
       "Natural             ceb         1454\n",
       "                    eng       190250\n",
       "                    ind         1572\n",
       "                    jav          494\n",
       "                    khm        10000\n",
       "                    lao         8000\n",
       "                    mya          944\n",
       "                    sun          388\n",
       "                    tha        11448\n",
       "                    vie        27352\n",
       "                    zsm        30146\n",
       "dtype: int64"
      ]
     },
     "execution_count": 41,
     "metadata": {},
     "output_type": "execute_result"
    }
   ],
   "source": [
    "train_df.groupby(['label','lang']).size()"
   ]
  },
  {
   "cell_type": "code",
   "execution_count": 57,
   "id": "cc7d9830-a24b-449d-b358-276415f44de8",
   "metadata": {},
   "outputs": [
    {
     "data": {
      "text/plain": [
       "{'Human-translated': array(['ceb', 'ind', 'jav', 'khm', 'lao', 'mya', 'sun', 'tgl', 'tha',\n",
       "        'via', 'vie'], dtype=object),\n",
       " 'Machine-translated': array(['ceb', 'eng', 'ind', 'jav', 'khm', 'lao', 'mya', 'sun', 'tgl',\n",
       "        'tha', 'vie', 'zsm'], dtype=object),\n",
       " 'Natural': array(['ceb', 'eng', 'ind', 'jav', 'khm', 'lao', 'mya', 'sun', 'tha',\n",
       "        'vie', 'zsm'], dtype=object)}"
      ]
     },
     "execution_count": 57,
     "metadata": {},
     "output_type": "execute_result"
    }
   ],
   "source": [
    "train_df.sort_values('lang').groupby(['label'])['lang'].unique().to_dict()"
   ]
  },
  {
   "cell_type": "code",
   "execution_count": 58,
   "id": "5d1ff0c2-7142-4265-9fc6-5b1986c4c800",
   "metadata": {},
   "outputs": [
    {
     "data": {
      "text/plain": [
       "{'Human-translated': array(['ceb', 'ind', 'jav', 'khm', 'lao', 'mya', 'sun', 'tgl', 'tha',\n",
       "        'vie', 'zsm'], dtype=object),\n",
       " 'Machine-translated': array(['ceb', 'eng', 'ind', 'jav', 'khm', 'lao', 'mya', 'sun', 'tgl',\n",
       "        'tha', 'vie', 'zsm'], dtype=object),\n",
       " 'Natural': array(['bcl', 'ceb', 'eng', 'ind', 'jav', 'khm', 'lao', 'mya', 'sun',\n",
       "        'tgl', 'tha', 'vie'], dtype=object)}"
      ]
     },
     "execution_count": 58,
     "metadata": {},
     "output_type": "execute_result"
    }
   ],
   "source": [
    "test_df.sort_values('lang').groupby(['label'])['lang'].unique().to_dict()"
   ]
  },
  {
   "cell_type": "code",
   "execution_count": 59,
   "id": "ab356b98-8192-4fdb-b20b-afb1c04f658a",
   "metadata": {},
   "outputs": [
    {
     "data": {
      "text/html": [
       "<div>\n",
       "<style scoped>\n",
       "    .dataframe tbody tr th:only-of-type {\n",
       "        vertical-align: middle;\n",
       "    }\n",
       "\n",
       "    .dataframe tbody tr th {\n",
       "        vertical-align: top;\n",
       "    }\n",
       "\n",
       "    .dataframe thead th {\n",
       "        text-align: right;\n",
       "    }\n",
       "</style>\n",
       "<table border=\"1\" class=\"dataframe\">\n",
       "  <thead>\n",
       "    <tr style=\"text-align: right;\">\n",
       "      <th></th>\n",
       "      <th>text</th>\n",
       "      <th>label</th>\n",
       "      <th>config</th>\n",
       "      <th>lang</th>\n",
       "    </tr>\n",
       "  </thead>\n",
       "  <tbody>\n",
       "    <tr>\n",
       "      <th>804204</th>\n",
       "      <td>Aaloo-Maaloo-Kaaloo Sa pinaka-inot na beses, n...</td>\n",
       "      <td>Natural</td>\n",
       "      <td>ara_close_bcl_seacrowd_text</td>\n",
       "      <td>bcl</td>\n",
       "    </tr>\n",
       "    <tr>\n",
       "      <th>804205</th>\n",
       "      <td>Ang Ladybird Ang ladybird ay sarong klase nin ...</td>\n",
       "      <td>Natural</td>\n",
       "      <td>ara_close_bcl_seacrowd_text</td>\n",
       "      <td>bcl</td>\n",
       "    </tr>\n",
       "    <tr>\n",
       "      <th>804206</th>\n",
       "      <td>Ang Pag-arog ni Toto sa saiyang Lolo Komar Rie...</td>\n",
       "      <td>Natural</td>\n",
       "      <td>ara_close_bcl_seacrowd_text</td>\n",
       "      <td>bcl</td>\n",
       "    </tr>\n",
       "    <tr>\n",
       "      <th>804207</th>\n",
       "      <td>Ang Samuyang Baka na Si Pedro Sya si Naldo. Mu...</td>\n",
       "      <td>Natural</td>\n",
       "      <td>ara_close_bcl_seacrowd_text</td>\n",
       "      <td>bcl</td>\n",
       "    </tr>\n",
       "    <tr>\n",
       "      <th>804208</th>\n",
       "      <td>Ano ang makangangalas na ginibo ni Ameena? Si ...</td>\n",
       "      <td>Natural</td>\n",
       "      <td>ara_close_bcl_seacrowd_text</td>\n",
       "      <td>bcl</td>\n",
       "    </tr>\n",
       "    <tr>\n",
       "      <th>...</th>\n",
       "      <td>...</td>\n",
       "      <td>...</td>\n",
       "      <td>...</td>\n",
       "      <td>...</td>\n",
       "    </tr>\n",
       "    <tr>\n",
       "      <th>804349</th>\n",
       "      <td>Si Mimay asin an Saiyang Lalong Nagpuon na ang...</td>\n",
       "      <td>Natural</td>\n",
       "      <td>ara_close_bcl_seacrowd_text</td>\n",
       "      <td>bcl</td>\n",
       "    </tr>\n",
       "    <tr>\n",
       "      <th>804350</th>\n",
       "      <td>Talsot na Ikos si Moli Susie Elliott Joni Moce...</td>\n",
       "      <td>Natural</td>\n",
       "      <td>ara_close_bcl_seacrowd_text</td>\n",
       "      <td>bcl</td>\n",
       "    </tr>\n",
       "    <tr>\n",
       "      <th>804351</th>\n",
       "      <td>The Factory Worker Nagdakula si Zarchi Win na ...</td>\n",
       "      <td>Natural</td>\n",
       "      <td>ara_close_bcl_seacrowd_text</td>\n",
       "      <td>bcl</td>\n",
       "    </tr>\n",
       "    <tr>\n",
       "      <th>804352</th>\n",
       "      <td>Tugang na Kulang an Ngipon Nagtataas an tubig!...</td>\n",
       "      <td>Natural</td>\n",
       "      <td>ara_close_bcl_seacrowd_text</td>\n",
       "      <td>bcl</td>\n",
       "    </tr>\n",
       "    <tr>\n",
       "      <th>804353</th>\n",
       "      <td>Tulod Tulod Dali Dali Hijra AlSawi Hiba Wasef ...</td>\n",
       "      <td>Natural</td>\n",
       "      <td>ara_close_bcl_seacrowd_text</td>\n",
       "      <td>bcl</td>\n",
       "    </tr>\n",
       "  </tbody>\n",
       "</table>\n",
       "<p>150 rows × 4 columns</p>\n",
       "</div>"
      ],
      "text/plain": [
       "                                                     text    label  \\\n",
       "804204  Aaloo-Maaloo-Kaaloo Sa pinaka-inot na beses, n...  Natural   \n",
       "804205  Ang Ladybird Ang ladybird ay sarong klase nin ...  Natural   \n",
       "804206  Ang Pag-arog ni Toto sa saiyang Lolo Komar Rie...  Natural   \n",
       "804207  Ang Samuyang Baka na Si Pedro Sya si Naldo. Mu...  Natural   \n",
       "804208  Ano ang makangangalas na ginibo ni Ameena? Si ...  Natural   \n",
       "...                                                   ...      ...   \n",
       "804349  Si Mimay asin an Saiyang Lalong Nagpuon na ang...  Natural   \n",
       "804350  Talsot na Ikos si Moli Susie Elliott Joni Moce...  Natural   \n",
       "804351  The Factory Worker Nagdakula si Zarchi Win na ...  Natural   \n",
       "804352  Tugang na Kulang an Ngipon Nagtataas an tubig!...  Natural   \n",
       "804353  Tulod Tulod Dali Dali Hijra AlSawi Hiba Wasef ...  Natural   \n",
       "\n",
       "                             config lang  \n",
       "804204  ara_close_bcl_seacrowd_text  bcl  \n",
       "804205  ara_close_bcl_seacrowd_text  bcl  \n",
       "804206  ara_close_bcl_seacrowd_text  bcl  \n",
       "804207  ara_close_bcl_seacrowd_text  bcl  \n",
       "804208  ara_close_bcl_seacrowd_text  bcl  \n",
       "...                             ...  ...  \n",
       "804349  ara_close_bcl_seacrowd_text  bcl  \n",
       "804350  ara_close_bcl_seacrowd_text  bcl  \n",
       "804351  ara_close_bcl_seacrowd_text  bcl  \n",
       "804352  ara_close_bcl_seacrowd_text  bcl  \n",
       "804353  ara_close_bcl_seacrowd_text  bcl  \n",
       "\n",
       "[150 rows x 4 columns]"
      ]
     },
     "execution_count": 59,
     "metadata": {},
     "output_type": "execute_result"
    }
   ],
   "source": [
    "test_df.loc[test_df['lang'] == 'bcl']"
   ]
  },
  {
   "cell_type": "code",
   "execution_count": null,
   "id": "6f7f7b8c-dcbc-44bc-a6ef-b038ea621583",
   "metadata": {},
   "outputs": [],
   "source": []
  },
  {
   "cell_type": "code",
   "execution_count": 37,
   "id": "e3d103a8-98a4-453f-8ac6-6656975c8768",
   "metadata": {},
   "outputs": [
    {
     "data": {
      "text/plain": [
       "label\n",
       "Human-translated       106561\n",
       "Machine-translated     808604\n",
       "Natural               1418103\n",
       "dtype: int64"
      ]
     },
     "execution_count": 37,
     "metadata": {},
     "output_type": "execute_result"
    }
   ],
   "source": [
    "test_df.groupby('label').size()"
   ]
  },
  {
   "cell_type": "code",
   "execution_count": 38,
   "id": "3ac87437-9bff-4ec9-a4db-ceb6d012e42c",
   "metadata": {},
   "outputs": [
    {
     "data": {
      "text/plain": [
       "lang\n",
       "bcl        150\n",
       "ceb       6149\n",
       "eng    1401337\n",
       "ind     141487\n",
       "jav      21859\n",
       "khm     160197\n",
       "lao       6057\n",
       "mya     140091\n",
       "sun      11499\n",
       "tgl     157024\n",
       "tha     140131\n",
       "vie     141487\n",
       "zsm       5800\n",
       "dtype: int64"
      ]
     },
     "execution_count": 38,
     "metadata": {},
     "output_type": "execute_result"
    }
   ],
   "source": [
    "test_df.groupby('lang').size()"
   ]
  },
  {
   "cell_type": "code",
   "execution_count": 39,
   "id": "7e132db3-838e-4f9a-94a7-f02d08a7099d",
   "metadata": {},
   "outputs": [
    {
     "data": {
      "text/plain": [
       "config\n",
       "ara_close_bcl_seacrowd_text                         150\n",
       "ara_close_ceb_seacrowd_text                         349\n",
       "aya_evaluation_suite_ceb_seacrowd_t2t               400\n",
       "aya_evaluation_suite_eng_seacrowd_t2t               400\n",
       "aya_evaluation_suite_ind_seacrowd_t2t               400\n",
       "aya_evaluation_suite_jav_seacrowd_t2t               400\n",
       "aya_evaluation_suite_khm_seacrowd_t2t               400\n",
       "aya_evaluation_suite_lao_seacrowd_t2t               400\n",
       "aya_evaluation_suite_mya_seacrowd_t2t               400\n",
       "aya_evaluation_suite_sun_seacrowd_t2t               400\n",
       "aya_evaluation_suite_tha_seacrowd_t2t               400\n",
       "aya_evaluation_suite_vie_seacrowd_t2t               400\n",
       "aya_evaluation_suite_zsm_seacrowd_t2t               400\n",
       "bactrian_x_id_seacrowd_t2t                       134034\n",
       "bactrian_x_km_seacrowd_t2t                       134034\n",
       "bactrian_x_my_seacrowd_t2t                       134034\n",
       "bactrian_x_th_seacrowd_t2t                       134034\n",
       "bactrian_x_tl_seacrowd_t2t                       134034\n",
       "bactrian_x_vi_seacrowd_t2t                       134034\n",
       "belebele_ceb_latn_seacrowd_qa                      5400\n",
       "belebele_ind_latn_seacrowd_qa                      5400\n",
       "belebele_jav_latn_seacrowd_qa                      5400\n",
       "belebele_khm_khmr_seacrowd_qa                      5400\n",
       "belebele_lao_laoo_seacrowd_qa                      5400\n",
       "belebele_mya_mymr_seacrowd_qa                      5400\n",
       "belebele_sun_latn_seacrowd_qa                      5400\n",
       "belebele_tgl_latn_seacrowd_qa                      5400\n",
       "belebele_tha_thai_seacrowd_qa                      5400\n",
       "belebele_vie_latn_seacrowd_qa                      5400\n",
       "belebele_zsm_latn_seacrowd_qa                      5400\n",
       "cosem_seacrowd_ssp                              1400937\n",
       "emotes_3k_tgl_seacrowd_t2t                        11620\n",
       "emotes_3k_tgl_seacrowd_text                        5810\n",
       "khmer_alt_pos_seacrowd_seq_label                  20106\n",
       "korpus_nusantara_jav_ind_seacrowd_t2t             12059\n",
       "korpus_nusantara_sun_ind_seacrowd_t2t              1699\n",
       "nusaparagraph_rhetoric_jav_seacrowd_text           2000\n",
       "nusaparagraph_rhetoric_sun_seacrowd_text           2000\n",
       "nusatranslation_mt_jav_ind_seacrowd_t2t            2000\n",
       "nusatranslation_mt_sun_ind_seacrowd_t2t            2000\n",
       "parallel_asian_treebank_ind_eng_seacrowd_t2t         97\n",
       "parallel_asian_treebank_khm_eng_seacrowd_t2t         97\n",
       "parallel_asian_treebank_lao_eng_seacrowd_t2t         97\n",
       "parallel_asian_treebank_mya_eng_seacrowd_t2t         97\n",
       "parallel_asian_treebank_tha_eng_seacrowd_t2t         97\n",
       "parallel_asian_treebank_vie_eng_seacrowd_t2t         97\n",
       "sea_bench_ind_seacrowd_t2t                          200\n",
       "sea_bench_khm_seacrowd_t2t                          160\n",
       "sea_bench_lao_seacrowd_t2t                          160\n",
       "sea_bench_mya_seacrowd_t2t                          160\n",
       "sea_bench_tgl_seacrowd_t2t                          160\n",
       "sea_bench_tha_seacrowd_t2t                          200\n",
       "sea_bench_vie_seacrowd_t2t                          200\n",
       "seaeval_cross_logiqa_ind_seacrowd_qa               1056\n",
       "seaeval_cross_logiqa_vie_seacrowd_qa               1056\n",
       "seaeval_cross_mmlu_ind_seacrowd_qa                  300\n",
       "seaeval_cross_mmlu_vie_seacrowd_qa                  300\n",
       "dtype: int64"
      ]
     },
     "execution_count": 39,
     "metadata": {},
     "output_type": "execute_result"
    }
   ],
   "source": [
    "test_df.groupby('config').size()"
   ]
  },
  {
   "cell_type": "code",
   "execution_count": 40,
   "id": "65f94e94-33e2-40aa-9f3b-df580641a152",
   "metadata": {},
   "outputs": [
    {
     "data": {
      "text/plain": [
       "label               lang\n",
       "Human-translated    ceb        5400\n",
       "                    ind        5497\n",
       "                    jav       19459\n",
       "                    khm       25603\n",
       "                    lao        5497\n",
       "                    mya        5497\n",
       "                    sun        9099\n",
       "                    tgl       14115\n",
       "                    tha        5497\n",
       "                    vie        5497\n",
       "                    zsm        5400\n",
       "Machine-translated  ceb         400\n",
       "                    eng         400\n",
       "                    ind      134434\n",
       "                    jav         400\n",
       "                    khm      134434\n",
       "                    lao         400\n",
       "                    mya      134434\n",
       "                    sun         400\n",
       "                    tgl      134034\n",
       "                    tha      134434\n",
       "                    vie      134434\n",
       "                    zsm         400\n",
       "Natural             bcl         150\n",
       "                    ceb         349\n",
       "                    eng     1400937\n",
       "                    ind        1556\n",
       "                    jav        2000\n",
       "                    khm         160\n",
       "                    lao         160\n",
       "                    mya         160\n",
       "                    sun        2000\n",
       "                    tgl        8875\n",
       "                    tha         200\n",
       "                    vie        1556\n",
       "dtype: int64"
      ]
     },
     "execution_count": 40,
     "metadata": {},
     "output_type": "execute_result"
    }
   ],
   "source": [
    "test_df.groupby(['label','lang']).size()"
   ]
  },
  {
   "cell_type": "code",
   "execution_count": 48,
   "id": "ff6c71ee-7f14-4a3e-9631-c373474f843f",
   "metadata": {},
   "outputs": [],
   "source": [
    "train_df.groupby(['label', 'lang', 'config']).size().to_frame('count').reset_index().to_csv('train_translationese.csv', index=False)\n",
    "test_df.groupby(['label', 'lang', 'config']).size().to_frame('count').reset_index().to_csv('test_translationese.csv', index=False)"
   ]
  },
  {
   "cell_type": "code",
   "execution_count": null,
   "id": "23e9c181-1246-4391-a814-56031a93adc7",
   "metadata": {},
   "outputs": [],
   "source": []
  },
  {
   "cell_type": "markdown",
   "id": "440f1d8d-3ab1-4b37-ab5e-1c0fab344c55",
   "metadata": {
    "tags": []
   },
   "source": [
    "# Sandbox"
   ]
  },
  {
   "cell_type": "code",
   "execution_count": null,
   "id": "942042ec-c4e0-4fb6-ae0f-da00c2b7d2ac",
   "metadata": {},
   "outputs": [],
   "source": [
    "dset = sc_conhelp.for_config_name('paracotta_id_seacrowd_t2t').load_dataset()\n",
    "# dset['train']['text_1'] + dset['train']['text_2']"
   ]
  },
  {
   "cell_type": "code",
   "execution_count": null,
   "id": "9a9030a1-ec69-4f65-844b-1327d04ac8e1",
   "metadata": {},
   "outputs": [],
   "source": [
    "dset = sc_conhelp.for_config_name('aya_dataset_ceb_seacrowd_t2t').load_dataset()\n",
    "# dset['train']['text_1'] + dset['train']['text_2']"
   ]
  },
  {
   "cell_type": "code",
   "execution_count": 219,
   "id": "836be43a-2e73-46ad-90ae-bbe3f3c8b5a0",
   "metadata": {},
   "outputs": [],
   "source": [
    "dset = sc_conhelp.for_config_name('codeswitch_reddit_eng_monolingual_seacrowd_ssp').load_dataset()\n",
    "# dset['train']['text']"
   ]
  },
  {
   "cell_type": "code",
   "execution_count": 220,
   "id": "f7f04997-0279-4f27-beb8-13600647b40a",
   "metadata": {},
   "outputs": [],
   "source": [
    "dset = sc_conhelp.for_config_name('mkqa_khm_seacrowd_qa').load_dataset()\n",
    "# dset['train']['question']"
   ]
  },
  {
   "cell_type": "code",
   "execution_count": 221,
   "id": "875fee65-7dbd-4486-9433-730af36476d8",
   "metadata": {},
   "outputs": [],
   "source": [
    "dset = sc_conhelp.for_config_name('yunshan_cup_2020_seacrowd_seq_label').load_dataset()\n",
    "# list(map(lambda x: ' '.join(x['tokens']), dset['train'])) + list(map(lambda x: ' '.join(x['tokens']), dset['validation']))"
   ]
  },
  {
   "cell_type": "code",
   "execution_count": 222,
   "id": "b3b7f216-5261-4486-b805-9b84e467e46c",
   "metadata": {
    "tags": []
   },
   "outputs": [],
   "source": [
    "dset = sc_conhelp.for_config_name('mozilla_pontoon_eng_lao_seacrowd_t2t').load_dataset()\n",
    "# dset['train']['text_2']"
   ]
  },
  {
   "cell_type": "code",
   "execution_count": 223,
   "id": "43706bdb-a7ae-41cd-a60d-1c30575701db",
   "metadata": {
    "tags": []
   },
   "outputs": [],
   "source": [
    "dset = sc_conhelp.for_config_name('ntrex_128_lao_eng-US_seacrowd_t2t').load_dataset()\n",
    "# dset['train']['text_1']"
   ]
  },
  {
   "cell_type": "code",
   "execution_count": 224,
   "id": "cc17e125-94a9-489b-946f-9994c53558b3",
   "metadata": {
    "tags": []
   },
   "outputs": [],
   "source": [
    "dset = sc_conhelp.for_config_name('nusax_mt_jav_ind_seacrowd_t2t').load_dataset()\n",
    "# dset['train']['text_1']"
   ]
  },
  {
   "cell_type": "code",
   "execution_count": 225,
   "id": "8e462847-c728-4b9c-a4df-be461ef3c830",
   "metadata": {
    "tags": []
   },
   "outputs": [],
   "source": [
    "dset = sc_conhelp.for_config_name('tatoeba_ind_seacrowd_t2t').load_dataset()\n",
    "# dset['validation']['text_1']"
   ]
  },
  {
   "cell_type": "code",
   "execution_count": 226,
   "id": "1e4b2142-52c1-4aaa-b686-e401ec866ee0",
   "metadata": {
    "tags": []
   },
   "outputs": [],
   "source": [
    "dset = sc_conhelp.for_config_name('xcopa_vie_seacrowd_qa').load_dataset()\n",
    "# dset['validation']['context'] + dset['validation']['context'] + list(chain.from_iterable(list(dset['validation']['choices'])))"
   ]
  },
  {
   "cell_type": "code",
   "execution_count": 227,
   "id": "5c7c3ed3-1e82-4df7-86df-10a0f839c469",
   "metadata": {
    "tags": []
   },
   "outputs": [],
   "source": [
    "dset = sc_conhelp.for_config_name('bactrian_x_my_seacrowd_t2t').load_dataset()\n",
    "# dset['train']['text_1'] + dset['train']['text_2']"
   ]
  },
  {
   "cell_type": "code",
   "execution_count": 228,
   "id": "0ff22e60-e80f-4dbe-9515-0a44a7354e74",
   "metadata": {},
   "outputs": [],
   "source": [
    "dset = sc_conhelp.for_config_name('ara_close_bcl_seacrowd_text').load_dataset()\n",
    "# dset['train']['text']"
   ]
  },
  {
   "cell_type": "code",
   "execution_count": 229,
   "id": "87b0a627-d7fc-49a4-bc2b-89b91f26f77e",
   "metadata": {},
   "outputs": [],
   "source": [
    "dset = sc_conhelp.for_config_name('cosem_seacrowd_ssp').load_dataset()\n",
    "# dset['train']['text']"
   ]
  },
  {
   "cell_type": "code",
   "execution_count": 230,
   "id": "5686561d-bda9-4349-b2ba-b76eaf570796",
   "metadata": {},
   "outputs": [],
   "source": [
    "dset = sc_conhelp.for_config_name('nusaparagraph_rhetoric_jav_seacrowd_text').load_dataset()\n",
    "# dset['test']['text']"
   ]
  },
  {
   "cell_type": "code",
   "execution_count": 231,
   "id": "889d3fc6-eef4-4c41-aa00-5398cc2abc5d",
   "metadata": {},
   "outputs": [],
   "source": [
    "dset = sc_conhelp.for_config_name('emotes_3k_eng_seacrowd_text').load_dataset()\n",
    "# dset['test']['text']"
   ]
  },
  {
   "cell_type": "code",
   "execution_count": 232,
   "id": "9ab05bfe-9382-425b-99eb-0f92247e10b9",
   "metadata": {
    "tags": []
   },
   "outputs": [],
   "source": [
    "dset = sc_conhelp.for_config_name('emotes_3k_eng_seacrowd_t2t').load_dataset()\n",
    "# dset['test']['text_1'] + dset['test']['text_2']"
   ]
  },
  {
   "cell_type": "code",
   "execution_count": 233,
   "id": "5097bf3d-88b5-449d-aec7-6e4bb2deab27",
   "metadata": {
    "tags": []
   },
   "outputs": [],
   "source": [
    "dset = sc_conhelp.for_config_name('sea_bench_tgl_seacrowd_t2t').load_dataset()\n",
    "# dset['train']['text_1'] + dset['train']['text_2']"
   ]
  },
  {
   "cell_type": "code",
   "execution_count": 235,
   "id": "2b8e6020-f06e-42f0-b4be-7f5a860656bf",
   "metadata": {
    "tags": []
   },
   "outputs": [],
   "source": [
    "dset = sc_conhelp.for_config_name('seaeval_cross_mmlu_ind_seacrowd_qa').load_dataset()\n",
    "# dset['test']['question'] + list(map(lambda x: x[0], dset['test']['answer']))"
   ]
  },
  {
   "cell_type": "code",
   "execution_count": 236,
   "id": "e3269cac-7c62-49ff-918a-90b1e9821337",
   "metadata": {},
   "outputs": [],
   "source": [
    "dset = sc_conhelp.for_config_name('seaeval_cross_logiqa_ind_seacrowd_qa').load_dataset()\n",
    "# dset['test']['question'] + list(map(lambda x: x[0], dset['test']['answer'])) + list(chain.from_iterable(list(dset['test']['choices'])))"
   ]
  },
  {
   "cell_type": "code",
   "execution_count": 237,
   "id": "c4706d1a-afa3-4f0a-b412-ad727bab019e",
   "metadata": {},
   "outputs": [],
   "source": [
    "dset = sc_conhelp.for_config_name('belebele_ceb_latn_seacrowd_qa').load_dataset()\n",
    "# dset['test']['question'] + dset['test']['context'] + list(chain.from_iterable(list(dset['test']['choices'])))"
   ]
  },
  {
   "cell_type": "code",
   "execution_count": 239,
   "id": "5cdd1d55-f485-45b1-a781-714635718400",
   "metadata": {
    "tags": []
   },
   "outputs": [],
   "source": [
    "dset = sc_conhelp.for_config_name('khmer_alt_pos_seacrowd_seq_label').load_dataset()\n",
    "# list(map(lambda x: ' '.join(x['tokens']), dset['train']))"
   ]
  },
  {
   "cell_type": "code",
   "execution_count": 239,
   "id": "95010830-3572-4a44-ad93-05fee5f0f0d5",
   "metadata": {
    "tags": []
   },
   "outputs": [],
   "source": [
    "dset = sc_conhelp.for_config_name('korpus_seacrowd_jav_ind_seacrowd_t2t').load_dataset()\n",
    "# dset['test']['text_1']"
   ]
  },
  {
   "cell_type": "code",
   "execution_count": 247,
   "id": "d844b0a1-0c20-4a89-b348-b27e5ae9e28d",
   "metadata": {},
   "outputs": [],
   "source": [
    "dset = sc_conhelp.for_config_name('nusatranslation_mt_jav_ind_seacrowd_t2t').load_dataset()\n",
    "# dset['test']['text_1']"
   ]
  },
  {
   "cell_type": "code",
   "execution_count": 250,
   "id": "75155c18-b9b9-4fdf-b808-2eda70715d42",
   "metadata": {},
   "outputs": [],
   "source": [
    "dset = sc_conhelp.for_config_name('parallel_asian_treebank_khm_eng_seacrowd_t2t').load_dataset()\n",
    "# dset['test']['text_1']"
   ]
  },
  {
   "cell_type": "code",
   "execution_count": 252,
   "id": "fcc4a1c4-18ab-4904-bc58-e22d5acf5cf7",
   "metadata": {
    "tags": []
   },
   "outputs": [
    {
     "data": {
      "text/plain": [
       "{'id': ['0', '1', '2'],\n",
       " 'text_1': ['លោកស្ទេវ រ៉ាយថ៍ ដែលកាលពីម្សិលមិញត្រូវបានផ្តន្ទាទោសលើឃាតកម្មលើស្ត្រីប្រាំនាក់នៅអ៊ីបស្វីជ រដ្ឋសឺហ្វហ្វក ប្រទេសអង់គ្លេស នៅថ្ងៃនេះត្រូវបានកាត់ទោសនៅតុលាការក្រោនអ៊ីបស្វីជ ឱ្យជាប់ពន្ធនាគារអស់មួយជីវិត។ សាកសពនៃស្ត្រីប្រាំនាក់ដែលបានធ្វើការជាអ្នករកស៊ីផ្លូវភេទនៅក្នុង អ៊ីបស្វីជ ត្រូវបានរកឃើញនៅជុំវិញទីក្រុងនេះ ក្នុងខែធ្នូ ឆ្នាំ2006។ ចៅក្រម លោកចាស់ស្ទីក ហ្គ្រស់ បាននិយាយថា \" កម្រិតធ្ងន់នៃការគិតទុកជាមុននិងការគ្រោងទុក\" គឺវាទាក់ទងនឹងអត្ថន័យដែលចាំបាច់សំរាប់ការកាត់ទោសអស់មួយជីវិតដល់លោករ៉ាយថ៍ ត្រូវបានសម្រេច។ \"វាត្រឹមត្រូវហើយ ដែលអ្នកគួរតែចំណាយជីវិតទាំងមូលរបស់អ្នកនៅក្នុងពន្ធនាគារ។\" ថ្លែងបន្ទាប់ពីការកាត់ទោសនេះ អនុប្រធានតម្រួត នៃប៉ូលីស រដ្ឋសឺហ្វហ្វក លោកស្រី ចាកឃ្វី ឈា បាននិយាយថា \"នៅពេលចាប់ផ្តើមការស៊ើបអង្កេតយើងមិនអាចស្នើសុំអ្វីបន្ថែមទៀតបានទេ។\" \"វាគឺជាគុណសម្បត្តិរបស់អ្នកទាំងអស់ដែលចូលរួមពាក់ព័ន្ធ - មិនត្រឹមតែមន្រ្តីប៉ូលីសប៉ុណ្ណោះទេ ប៉ុន្តែរួមទាំងក្រុមគាំទ្ររបស់ពួកគេ និងសមាជិកសាធារណៈទាំងអស់ដែលបានទូរស័ព្ទមក ក្នុងការផ្តល់ជូនព័ត៌មាន។\"',\n",
       "  'សារព័ត៌មាន Wikinews មានបទសម្ភាសន៍ដោយឡែកជាមួយលោកជេម ប៊ើន ដែលជាបេក្ខជនតែងតាំងមួយរបស់គណបក្សសេរីនិយមសម្រាប់ការបោះ ឆ្នោតប្រធានាធិបតីសហរដ្ឋអាមេរិកឆ្នាំ 2008។ លោកប៊ើន ជាអតីតប្រធានគណបក្សសេរីនិយមរដ្ឋនីវ៉ាដា ត្រូវបានគេសួរថាតើលោកគិតថាលោកមានចំណុចខ្លាំងនៅក្នុងការឈ្នះការតែងតាំងនៃគណៈបក្សសេរីនិយម និងតំណែងប្រធានាតិបតីនៅវគ្គផ្តាច់ព្រ័ត្រ។ គាត់ឆ្លើយថា \"ឧិកាសឈ្នះរបស់ខ្ញុំមិនមែនមាននៅ ក្នុងដៃរបស់ខ្ញុំទាំងអស់នោះទេ។\" \"ខ្ញុំត្រូវប្រឹងប្រែងឲ្យអស់ពីសមត្ថភាព ប៉ុន្តែវាអាស្រ័យទៅលើអ្វីដែលអ្នកដទៃនឹងធ្វើ។\" នៅពេលសួរអំពីការថយចុះនៃអ្នកាមានថ្នាក់កណ្តាលរបស់អាមេរិក គាត់និយាយថា \"គោលនយោបាយសេដ្ឋកិច្ចរបស់ រដ្ឋាភិបាលអាមេរិកគឺបង្កបញ្ហាដល់យើង។\" \"នៅពេលដែលខ្ញុំធ្វើជានាយករដ្ឋមន្រ្តី គោលនយោ បាយសេដ្ឋកិច្ចដែលខ្ញុំនឹងបន្តគឺសន្សំសំចៃជាមួយ នឹងមូលធនរបស់សហរដ្ឋអាមេរិក។\" លោកប៊ើនជឿជាក់ថាប្រធានាធិបតី \"មិនមែនជា អ្នកដឹកនាំពិភពលោកដ៏សេរីនោះទេ ប៉ុន្តែ … ជាមនុស្សដែលខិតខំការពារសិទ្ឋិរស់នៅ សេរីភាព និងបន្តស្វែងរកសុភមង្គល។\"',\n",
       "  'លោកខាស៊ីខានបានទទួលជ័យជំនះនៅព្រឺកព្រលឹមថ្ងៃអាទិត្យនៅក្នុងការប្រណាំងរថយន្តអន្តរជាតិរីចមុនស្ថិតក្នុងទីក្រុងវើជីនៀសហរដ្ឋអាមេរិច សំរាប់ការឈ្នះពានរង្វាន់ណាស្កានិចធេលជាលើកដំបូងរបស់គាត់។ លោកខាន ដែលបើកបររថយន្តប្រភេទដច់ ហើយទទួលការឧបត្ថមពីក្រុមហ៊ុនដូចគ្នានោះដែរ បានឈ្នះនៅក្នុងការប្រណាំងចេវីអាមេរីខិនរីវុលូសិន400 ដែលឧបត្ថមដោយក្រុមហ៊ុនផលិតរថយន្តដែលជាដៃគូប្រកួតប្រជែងគឺក្រុមហ៊ុនចេវរ៉ូលេត។ បុរសអាយុ25ឆ្នាំមកពីហាន់ធើវីល ភាគខាងជើងនៃរដ្ឋកាលីហ្វញ៉ាបានស្ថិតនៅជួរមុខសំរាប់ការប្រណាំងយប់ថ្ងៃសៅរ៍នៅថ្ងៃសុក្រ។ នៅមុនដំបូងនៃការប្រណាំង អ្នកឈ្នះលំដាប់ទីពីរលោកតូនីស្ទូវ៉ាតបាននាំមុខលោកខាន ហើយបន្តនាំមុខសំរាប់ដំនាក់កាលទី100បន្តបន្ទាប់នៅក្នុងការប្រណាំងពេលនោះ។ នៅដំនាក់កាលទី234ក្នុងចំនោម400 លោកស្ទូវ៉ាតបានកាច់ចង្កូតចេញពីផ្លូវបត់ទីបួន ដែលធ្វើអោយលោកខាននាំមុខវិញ។ បន្ទាប់ពីការផ្លាស់ប្តូរនូវការនាំមុខគ្នាពីរដងបន្ទាប់ពីនោះ លោកខានបាននាំមុខនៅដំនាក់កាលចំនួន7ចុងក្រោយហើយឈានទៅយកទង់ជ័យជំនះ។ អ្នកមានពិន្ទុនាំមុខលោកជីមមីចនសាន់បានក្រលាប់រថយន្តតាំងពីពេលដំបូងនៃការប្រណាំង ហើយបានជាប់ចំណាត់ថ្នាក់ចុងក្រោយ។'],\n",
       " 'text_2': ['Steve Wright, yesterday convicted of the murder of five women in Ipswich, Suffolk, England, has today been sentenced at Ipswich Crown Court to life imprisonment. The bodies of the five women who worked as sex workers in Ipswich were found around the town in December 2006. The judge, Mr Justice Gross said that a \"substantial degree of pre-meditation and planning\" was involved meaning the requirments for a whole life sentence for Wright was met. \"It is right you should spend your whole life in prison.\" Speaking after the sentencing, Deputy Chief Constable of Suffolk Police, Jacqui Cheer said, \"At the start of the inquiry we could not have asked for anything more.\" \"It is a tribute to all the people who have been involved - not only police officers but their support teams and all the members of the public who phoned-in offering information.\"',\n",
       "  'Wikinews held an exclusive interview with James Burns, one of the candidates for the Libertarian Party nomination for the 2008 U.S. presidential election. Burns, the former chairman of the Nevada Libertarian Party, was asked if he thinks he has a good shot at winning the Libertarian nomination and ultimately the presidency. He replied, \"My chances of winning are not all in my hands.\" \"I shall do my best, but it comes down to what others will do.\" When asked about America\\'s shrinking middle class he said, \"The economic policies of the US government are the cause our troubles.\" \"When I am President, the only economic policy I shall pursue is to be frugal with the funds of the United States.\" Burns believes that the President \"is not \\'the leader of the free world,\\' rather....a person who attempts to protect our rights to life, liberty, and the pursuit of happiness.\"',\n",
       "  \"Kasey Kahne rode into victory early Sunday morning at Richmond International Raceway in the state of Virginia, USA, in his first Nascar Nextel Cup victory. Kahne, who drives a Dodge, and is sponsored by the same company, won automaker competitor Chevrolet's sponsored race, the Chevy American Revolution 400. The 25-year old from Huntersville, North Carolina had previously gained the pole position for Saturday's night race on Friday. Early in the race, second-place finisher Tony Stewart took lead from Kahne, continuing on to lead over 100 cumulative laps in the race. At lap 234 of 400, Stewart spun out coming out of the fourth turn, which resulted in Kahne regaining the lead. After two more lead changes between the two, Kahne led the last 7 laps to take the checkered flag. Points leader Jimmie Johnson crashed his car early into the race, taking a last-place finish.\"],\n",
       " 'text_1_name': ['khm', 'khm', 'khm'],\n",
       " 'text_2_name': ['eng', 'eng', 'eng']}"
      ]
     },
     "execution_count": 252,
     "metadata": {},
     "output_type": "execute_result"
    }
   ],
   "source": [
    "dset['train'][:3]"
   ]
  },
  {
   "cell_type": "code",
   "execution_count": 261,
   "id": "0fcb02cc-38f3-4909-9fd0-ba1899a672f9",
   "metadata": {},
   "outputs": [
    {
     "data": {
      "text/plain": [
       "27"
      ]
     },
     "execution_count": 262,
     "metadata": {},
     "output_type": "execute_result"
    }
   ],
   "source": [
    "dset_df.loc[(~dset_df['split'].isna()), 'dataloader_name'].tolist()"
   ]
  },
  {
   "cell_type": "code",
   "execution_count": 12,
   "id": "355bfe0d-bfab-44db-ab0d-2e1737c79ac2",
   "metadata": {},
   "outputs": [
    {
     "name": "stdout",
     "output_type": "stream",
     "text": [
      "CPU times: user 9min 9s, sys: 13.9 s, total: 9min 23s\n",
      "Wall time: 9min 23s\n"
     ]
    }
   ],
   "source": [
    "%%time\n",
    "c = Counter()\n",
    "with open('./cc3m_mt_train.jsonl') as f:\n",
    "    for line in f:\n",
    "        row = json.loads(line)\n",
    "        if row['trg_lang'] in ['fil', 'tgl', 'ind', 'tha', 'vie', 'tl','id','th','vi']:\n",
    "            c[row['trg_lang']] += 1"
   ]
  },
  {
   "cell_type": "code",
   "execution_count": 13,
   "id": "fcd9e3f0-c057-4906-b671-b8f2631cf08a",
   "metadata": {},
   "outputs": [
    {
     "data": {
      "text/plain": [
       "Counter({'id': 3318370, 'th': 3318370, 'fil': 3318370, 'vi': 3318370})"
      ]
     },
     "execution_count": 13,
     "metadata": {},
     "output_type": "execute_result"
    }
   ],
   "source": [
    "c"
   ]
  }
 ],
 "metadata": {
  "kernelspec": {
   "display_name": "Python (env_embedding)",
   "language": "python",
   "name": "env_mebedding"
  },
  "language_info": {
   "codemirror_mode": {
    "name": "ipython",
    "version": 3
   },
   "file_extension": ".py",
   "mimetype": "text/x-python",
   "name": "python",
   "nbconvert_exporter": "python",
   "pygments_lexer": "ipython3",
   "version": "3.10.4"
  }
 },
 "nbformat": 4,
 "nbformat_minor": 5
}
