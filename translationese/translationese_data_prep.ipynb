{
 "cells": [
  {
   "cell_type": "code",
   "execution_count": 1,
   "id": "b6616fe8-5dce-4dfc-8fc1-ea0987ce43fd",
   "metadata": {},
   "outputs": [],
   "source": [
    "import numpy as np\n",
    "import pandas as pd\n",
    "import datasets\n",
    "from seacrowd import SEACrowdConfigHelper, Tasks\n",
    "\n",
    "from itertools import chain\n",
    "import json\n",
    "from collections import Counter"
   ]
  },
  {
   "cell_type": "code",
   "execution_count": 2,
   "id": "e0addc89-faa9-46f1-bbbd-5072b2c0b78e",
   "metadata": {},
   "outputs": [],
   "source": [
    "config2lang = {\n",
    "\t'aya_collection_ceb_seacrowd_t2t': 'ceb',\n",
    "\t'aya_collection_eng_seacrowd_t2t': 'eng',\n",
    "\t'aya_collection_ind_seacrowd_t2t': 'ind',\n",
    "\t'aya_collection_jav_seacrowd_t2t': 'jav',\n",
    "\t'aya_collection_khm_seacrowd_t2t': 'khm',\n",
    "\t'aya_collection_lao_seacrowd_t2t': 'lao',\n",
    "\t'aya_collection_mya_seacrowd_t2t': 'mya',\n",
    "\t'aya_collection_sun_seacrowd_t2t': 'sun',\n",
    "\t'aya_collection_tha_seacrowd_t2t': 'tha',\n",
    "\t'aya_collection_vie_seacrowd_t2t': 'vie',\n",
    "\t'aya_collection_zsm_seacrowd_t2t': 'zsm',\n",
    "\t'aya_dataset_ceb_seacrowd_t2t': 'ceb',\n",
    "\t'aya_dataset_ind_seacrowd_t2t': 'ind',\n",
    "\t'aya_dataset_jav_seacrowd_t2t': 'jav',\n",
    "\t'aya_dataset_mya_seacrowd_t2t': 'mya',\n",
    "\t'aya_dataset_sun_seacrowd_t2t': 'sun',\n",
    "\t'aya_dataset_tha_seacrowd_t2t': 'tha',\n",
    "\t'aya_dataset_vie_seacrowd_t2t': 'vie',\n",
    "\t'aya_dataset_zsm_seacrowd_t2t': 'zsm',\n",
    "\t'cc3m_mt_ind_seacrowd_imtext': 'ind',\n",
    "\t'cc3m_mt_tgl_seacrowd_imtext': 'tgl',\n",
    "\t'cc3m_mt_tha_seacrowd_imtext': 'tha',\n",
    "\t'cc3m_mt_vie_seacrowd_imtext': 'vie',\n",
    "\t'tlunified_ner_seacrowd_seq_label': 'tgl',\n",
    "    'filipino_slang_norm_seacrowd_t2t': 'tgl',\n",
    "\t'mkqa_khm_seacrowd_qa': 'khm',\n",
    "\t'mkqa_tha_seacrowd_qa': 'tha',\n",
    "\t'mkqa_vie_seacrowd_qa': 'vie',\n",
    "\t'mkqa_zsm_seacrowd_qa': 'zsm',\n",
    "\t'mozilla_pontoon_eng_ceb_seacrowd_t2t': 'ceb',\n",
    "\t'mozilla_pontoon_eng_ind_seacrowd_t2t': 'ind',\n",
    "\t'mozilla_pontoon_eng_jav_seacrowd_t2t': 'jav',\n",
    "\t'mozilla_pontoon_eng_khm_seacrowd_t2t': 'khm',\n",
    "\t'mozilla_pontoon_eng_lao_seacrowd_t2t': 'lao',\n",
    "\t'mozilla_pontoon_eng_mya_seacrowd_t2t': 'mya',\n",
    "\t'mozilla_pontoon_eng_tgl_seacrowd_t2t': 'tgl',\n",
    "\t'mozilla_pontoon_eng_tha_seacrowd_t2t': 'tha',\n",
    "\t'mozilla_pontoon_eng_vie_seacrowd_t2t': 'vie',\n",
    "    'mozilla_pontoon_eng_zlm_seacrowd_t2t': 'zsm',\n",
    "\t'ntrex_128_ind_eng-US_seacrowd_t2t': 'ind',\n",
    "\t'ntrex_128_khm_eng-US_seacrowd_t2t': 'khm',\n",
    "\t'ntrex_128_lao_eng-US_seacrowd_t2t': 'lao',\n",
    "\t'ntrex_128_mya_eng-US_seacrowd_t2t': 'mya',\n",
    "\t'ntrex_128_tha_eng-US_seacrowd_t2t': 'tha',\n",
    "\t'ntrex_128_vie_eng-US_seacrowd_t2t': 'vie',\n",
    "    'ntrex_128_zlm_eng-US_seacrowd_t2t': 'vie',\n",
    "\t'nusax_mt_jav_ind_seacrowd_t2t': 'jav',\n",
    "\t'nusax_mt_sun_ind_seacrowd_t2t': 'sun',\n",
    "\t'paracotta_id_seacrowd_t2t': 'ind',\n",
    "\t'tatoeba_ind_eng_seacrowd_t2t': 'ind',\n",
    "\t'tatoeba_jav_eng_seacrowd_t2t': 'jav',\n",
    "\t'tatoeba_tgl_eng_seacrowd_t2t': 'tgl',\n",
    "\t'tatoeba_tha_eng_seacrowd_t2t': 'tha',\n",
    "\t'tatoeba_vie_eng_seacrowd_t2t': 'vie',\n",
    "    'tatoeba_eng_vie_seacrowd_t2t': 'eng',\n",
    "\t'xcopa_ind_seacrowd_qa': 'ind',\n",
    "\t'xcopa_tha_seacrowd_qa': 'tha',\n",
    "\t'xcopa_vie_seacrowd_qa': 'vie',\n",
    "\t'yunshan_cup_2020_seacrowd_seq_label': 'lao',\n",
    "\t'ara_close_bcl_seacrowd_text' : 'bcl',\n",
    "\t'ara_close_ceb_seacrowd_text' : 'ceb',\n",
    "\t'aya_evaluation_suite_ceb_seacrowd_t2t' : 'ceb',\n",
    "\t'aya_evaluation_suite_eng_seacrowd_t2t' : 'eng',\n",
    "\t'aya_evaluation_suite_ind_seacrowd_t2t' : 'ind',\n",
    "\t'aya_evaluation_suite_jav_seacrowd_t2t' : 'jav',\n",
    "\t'aya_evaluation_suite_khm_seacrowd_t2t' : 'khm',\n",
    "\t'aya_evaluation_suite_lao_seacrowd_t2t' : 'lao',\n",
    "\t'aya_evaluation_suite_mya_seacrowd_t2t' : 'mya',\n",
    "\t'aya_evaluation_suite_sun_seacrowd_t2t' : 'sun',\n",
    "\t'aya_evaluation_suite_tha_seacrowd_t2t' : 'tha',\n",
    "\t'aya_evaluation_suite_vie_seacrowd_t2t' : 'vie',\n",
    "\t'aya_evaluation_suite_zsm_seacrowd_t2t' : 'zsm',\n",
    "\t'bactrian_x_id_seacrowd_t2t' : 'ind',\n",
    "\t'bactrian_x_km_seacrowd_t2t' : 'khm',\n",
    "\t'bactrian_x_my_seacrowd_t2t' : 'mya',\n",
    "\t'bactrian_x_th_seacrowd_t2t' : 'tha',\n",
    "\t'bactrian_x_tl_seacrowd_t2t' : 'tgl',\n",
    "\t'bactrian_x_vi_seacrowd_t2t' : 'vie',\n",
    "\t'belebele_ceb_latn_seacrowd_qa' : 'ceb',\n",
    "\t'belebele_ind_latn_seacrowd_qa' : 'ind',\n",
    "\t'belebele_jav_latn_seacrowd_qa' : 'jav',\n",
    "\t'belebele_khm_khmr_seacrowd_qa' : 'khm',\n",
    "\t'belebele_lao_laoo_seacrowd_qa' : 'lao',\n",
    "\t'belebele_mya_mymr_seacrowd_qa' : 'mya',\n",
    "\t'belebele_sun_latn_seacrowd_qa' : 'sun',\n",
    "\t'belebele_tgl_latn_seacrowd_qa' : 'tgl',\n",
    "\t'belebele_tha_thai_seacrowd_qa' : 'tha',\n",
    "\t'belebele_vie_latn_seacrowd_qa' : 'vie',\n",
    "\t'belebele_zsm_latn_seacrowd_qa' : 'zsm',\n",
    "\t'cosem_seacrowd_ssp' : 'eng',\n",
    "\t'emotes_3k_tgl_seacrowd_t2t' : 'tgl',\n",
    "\t'emotes_3k_eng_seacrowd_t2t' : 'eng',\n",
    "\t'khmer_alt_pos_seacrowd_seq_label' : 'khm',\n",
    "\t'korpus_nusantara_jav_ind_seacrowd_t2t' : 'jav',\n",
    "\t'korpus_nusantara_sun_ind_seacrowd_t2t' : 'sun',\n",
    "\t'nusaparagraph_rhetoric_jav_seacrowd_text' : 'jav',\n",
    "\t'nusaparagraph_rhetoric_sun_seacrowd_text' : 'sun',\n",
    "\t'nusatranslation_mt_jav_ind_seacrowd_t2t' : 'jav',\n",
    "\t'nusatranslation_mt_sun_ind_seacrowd_t2t' : 'sun',\n",
    "\t'parallel_asian_treebank_ind_eng_seacrowd_t2t' : 'ind',\n",
    "\t'parallel_asian_treebank_khm_eng_seacrowd_t2t' : 'khm',\n",
    "\t'parallel_asian_treebank_lao_eng_seacrowd_t2t' : 'lao',\n",
    "\t'parallel_asian_treebank_mya_eng_seacrowd_t2t' : 'mya',\n",
    "\t'parallel_asian_treebank_tha_eng_seacrowd_t2t' : 'tha',\n",
    "\t'parallel_asian_treebank_vie_eng_seacrowd_t2t' : 'vie',\n",
    "    'parallel_asian_treebank_zlm_eng_seacrowd_t2t' : 'zsm',\n",
    "\t'sea_bench_ind_seacrowd_t2t' : 'ind',\n",
    "\t'sea_bench_khm_seacrowd_t2t' : 'khm',\n",
    "\t'sea_bench_lao_seacrowd_t2t' : 'lao',\n",
    "\t'sea_bench_mya_seacrowd_t2t' : 'mya',\n",
    "\t'sea_bench_tgl_seacrowd_t2t' : 'tgl',\n",
    "\t'sea_bench_tha_seacrowd_t2t' : 'tha',\n",
    "\t'sea_bench_vie_seacrowd_t2t' : 'vie',\n",
    "    'sea_bench_zlm_seacrowd_t2t' : 'zsm',\n",
    "\t'seaeval_cross_logiqa_ind_seacrowd_qa' : 'ind',\n",
    "\t'seaeval_cross_logiqa_vie_seacrowd_qa' : 'vie',\n",
    "    'seaeval_cross_logiqa_zlm_seacrowd_qa' : 'zsm',\n",
    "    'seaeval_cross_logiqa_tgl_seacrowd_qa' : 'tgl',\n",
    "\t'seaeval_cross_mmlu_ind_seacrowd_qa' : 'ind',\n",
    "\t'seaeval_cross_mmlu_vie_seacrowd_qa' : 'vie',\n",
    "    'seaeval_cross_mmlu_zlm_seacrowd_qa' : 'zsm',\n",
    "    'seaeval_cross_mmlu_tgl_seacrowd_qa' : 'tgl',\n",
    "    'tatoeba_eng_vie_seacrowd_t2t': 'eng',\n",
    "    'tlunified_ner_seacrowd_seq_label': 'tgl',\n",
    "    'filipino_slang_norm_seacrowd_t2t': 'tgl',\n",
    "    # 'multilingual_alpaca_seacrowd_t2t': 'vie',\n",
    "    'cebuaner_seacrowd_seq_label': 'ceb',\n",
    "    'copal_seacrowd_qa': 'ind',\n",
    "    'copal_colloquial_seacrowd_qa': 'ind',\n",
    "    'mabl_jav_seacrowd_qa': 'jav',\n",
    "    'mabl_sun_seacrowd_qa': 'sun',\n",
    "    'my_paraphrase_all_seacrowd_t2t': 'mya',\n",
    "    'gklmip_newsclass_seacrowd_text': 'khm',\n",
    "    'gklmip_sentiment_seacrowd_text': 'mya',\n",
    "    'vistec_tp_th_21_seacrowd_seq_label': 'tha'\n",
    "}"
   ]
  },
  {
   "cell_type": "code",
   "execution_count": 3,
   "id": "f77563fd-db21-4771-bbab-f0e8186fff95",
   "metadata": {},
   "outputs": [],
   "source": [
    "dset_df = pd.read_csv('dataset_list.csv')"
   ]
  },
  {
   "cell_type": "code",
   "execution_count": 4,
   "id": "4cd620ec-6892-429d-8377-5b501c404bcd",
   "metadata": {},
   "outputs": [
    {
     "name": "stderr",
     "output_type": "stream",
     "text": [
      " 71%|███████████████████████████████████████████████████████████████████████████████████████████████████▋                                        | 242/340 [00:03<00:01, 69.28it/s]/home/samuel/anaconda2/envs/env_embedding/lib/python3.10/site-packages/datasets/load.py:1486: FutureWarning: The repository for gem contains custom code which must be executed to correctly load the dataset. You can inspect the repository content at https://hf.co/datasets/gem\n",
      "You can avoid this message in future by passing the argument `trust_remote_code=True`.\n",
      "Passing `trust_remote_code=True` will be mandatory to load this dataset from the next major release of `datasets`.\n",
      "  warnings.warn(\n",
      "100%|████████████████████████████████████████████████████████████████████████████████████████████████████████████████████████████████████████████| 340/340 [00:39<00:00,  8.55it/s]\n"
     ]
    }
   ],
   "source": [
    "sc_conhelp = SEACrowdConfigHelper()"
   ]
  },
  {
   "cell_type": "markdown",
   "id": "2519fb76-8bea-43b2-bc03-7ad4444e4693",
   "metadata": {
    "tags": []
   },
   "source": [
    "# SEACrowd Dataset"
   ]
  },
  {
   "cell_type": "code",
   "execution_count": 5,
   "id": "1aa75ad1-876f-45df-aa36-4edc7a70773b",
   "metadata": {},
   "outputs": [],
   "source": [
    "def retrieve_text(dset, config_name):\n",
    "    if 'paracotta_id' in config_name:\n",
    "        return dset['train']['text_1'] + dset['train']['text_2']\n",
    "\n",
    "    if 'aya_dataset' in config_name:\n",
    "        return dset['train']['text_1'] + dset['train']['text_2']\n",
    "\n",
    "    if 'tlunified_ner' in config_name:\n",
    "        return list(map(lambda x: ' '.join(x['tokens']), dset['train']))\n",
    "    \n",
    "    if 'filipino_slang_norm' in config_name:\n",
    "        return dset['train']['text_1']\n",
    "\n",
    "    if 'mkqa' in config_name:\n",
    "        return dset['train']['question']\n",
    "\n",
    "    if 'yunshan_cup_2020' in config_name:\n",
    "        return list(map(lambda x: ' '.join(x['tokens']), dset['train'])) + list(map(lambda x: ' '.join(x['tokens']), dset['validation']))\n",
    "\n",
    "    if 'mozilla_pontoon' in config_name:\n",
    "        return dset['train']['text_2']\n",
    "\n",
    "    if 'ntrex_128' in config_name:\n",
    "        return dset['test']['text_1']\n",
    "\n",
    "    if 'nusax_mt' in config_name:\n",
    "        return dset['train']['text_1']\n",
    "\n",
    "    if 'tatoeba' in config_name:\n",
    "        return dset['validation']['text_1']\n",
    "\n",
    "    if 'xcopa' in config_name:\n",
    "        return dset['validation']['context'] + dset['validation']['context'] + list(chain.from_iterable(list(dset['validation']['choices'])))\n",
    "\n",
    "    if 'bactrian_x' in config_name:\n",
    "        return dset['train']['text_1'] + dset['train']['text_2']\n",
    "\n",
    "    if 'ara_close' in config_name:\n",
    "        return dset['train']['text']\n",
    "\n",
    "    if 'cosem' in config_name:\n",
    "        return dset['train']['text']\n",
    "\n",
    "    if 'nusaparagraph_rhetoric' in config_name:\n",
    "        return dset['test']['text']\n",
    "\n",
    "    if 'emotes_3k' in config_name and 'seacrowd_t2t' in config_name:\n",
    "        return dset['test']['text_1'] + dset['test']['text_2']\n",
    "\n",
    "    if 'sea_bench' in config_name:\n",
    "        return dset['train']['text_1'] + dset['train']['text_2']\n",
    "\n",
    "    if 'seaeval_cross_mmlu' in config_name:\n",
    "        return dset['test']['question'] + list(map(lambda x: x[0], dset['test']['answer']))\n",
    "\n",
    "    if 'seaeval_cross_logiqa' in config_name:\n",
    "        return dset['test']['question'] + list(map(lambda x: x[0], dset['test']['answer'])) + list(chain.from_iterable(list(dset['test']['choices'])))\n",
    "\n",
    "    if 'belebele' in config_name:\n",
    "        return dset['test']['question'] + dset['test']['context'] + list(chain.from_iterable(list(dset['test']['choices'])))\n",
    "\n",
    "    if 'khmer_alt_pos' in config_name:\n",
    "        return list(map(lambda x: ' '.join(x['tokens']), dset['train']))\n",
    "\n",
    "    if 'korpus_nusantara' in config_name:\n",
    "        return dset['train']['text_1']\n",
    "\n",
    "    if 'nusatranslation_mt' in config_name:\n",
    "        return dset['test']['text_1']\n",
    "\n",
    "    if 'parallel_asian_treebank' in config_name:\n",
    "        return dset['test']['text_1']\n",
    "    \n",
    "    # if 'multilingual_alpaca_seacrowd_t2t' in config_name:\n",
    "    #     return dset['train']['text_1'] + dset['train']['text_2']\n",
    "\n",
    "    raise ValueError(f'Unknown Config Name `{config_name}`')"
   ]
  },
  {
   "cell_type": "code",
   "execution_count": 6,
   "id": "d8b4ad1a-6ae4-4797-bf6c-dc7caebbbac6",
   "metadata": {},
   "outputs": [],
   "source": [
    "valid_config_names = {}\n",
    "for split in ['Train', 'Test']:\n",
    "    valid_config_names[split] = {}\n",
    "    for label_type in ['Machine-translated', 'Natural', 'Human-translated']:\n",
    "        valid_config_names[split][label_type] = []\n",
    "        sc_dset_names = dset_df.loc[(dset_df['split'] == split) & (dset_df['type'] == label_type), 'dataloader_name'].tolist()\n",
    "        for con in sc_conhelp.filtered(\n",
    "            lambda x: (x.dataset_name in sc_dset_names) and ('_source' not in x.config.name)\n",
    "        ):\n",
    "            if 'cc3m_35l' in con.dataset_name:\n",
    "                continue\n",
    "\n",
    "            lang_list = dset_df.loc[dset_df['dataloader_name'] == con.dataset_name, 'lang'].values[0].split(',')\n",
    "            if 'zsm' in lang_list:\n",
    "                lang_list.append('zlm')\n",
    "\n",
    "            if len(lang_list) > 1:\n",
    "                if 'bactrian_x' in con.dataset_name:\n",
    "                    # Bactrian config name use ISO639-2 instead of ISO639-3, so just force it in\n",
    "                    valid_config_names[split][label_type].append(con.config.name)\n",
    "                else:\n",
    "                    for lang in lang_list:\n",
    "                        if Tasks.MACHINE_TRANSLATION in list(con.tasks):\n",
    "                            # Skip Redundant MT Config\n",
    "                            if ('ntrex' in con.config.name and 'eng-US_seacrowd' not in con.config.name) or \\\n",
    "                                ('nusax_mt' in con.config.name and 'ind_seacrowd' not in con.config.name) or \\\n",
    "                                ('parallel_asian_treebank' in con.config.name and 'eng_seacrowd' not in con.config.name) or \\\n",
    "                                ('korpus_nusantara' in con.config.name and 'ind_seacrowd' not in con.config.name) or \\\n",
    "                                ('tatoeba' in con.config.name and 'eng_vie_seacrowd' not in con.config.name and 'eng_seacrowd' not in con.config.name) or \\\n",
    "                                ('nusatranslation_mt_' in con.config.name and 'ind_seacrowd' not in con.config.name):\n",
    "                                continue\n",
    "                            if lang in con.config.name:\n",
    "                                valid_config_names[split][label_type].append(con.config.name)\n",
    "                        else:\n",
    "                            if lang in con.config.name:\n",
    "                                valid_config_names[split][label_type].append(con.config.name)\n",
    "            else:\n",
    "                if 'emotes' in con.config.name:\n",
    "                    if 'seacrowd_text' in con.config.name:\n",
    "                        continue              \n",
    "                    if 'tgl' in con.config.name and label_type == 'Natural':\n",
    "                        valid_config_names[split][label_type].append(con.config.name)\n",
    "                    elif 'eng' in con.config.name and label_type == 'Human-translated':\n",
    "                        valid_config_names[split][label_type].append(con.config.name)\n",
    "                elif 'ara_close' in con.config.name:\n",
    "                    if lang_list[0] in con.config.name:\n",
    "                        valid_config_names[split][label_type].append(con.config.name)\n",
    "                elif Tasks.MACHINE_TRANSLATION in list(con.tasks):\n",
    "                    # Skip Redundant MT Config\n",
    "                    if ('ntrex' in con.config.name and 'eng-US_seacrowd' not in con.config.name) or \\\n",
    "                        ('nusax_mt' in con.config.name and 'ind_seacrowd' not in con.config.name) or \\\n",
    "                        ('parallel_asian_treebank' in con.config.name and 'eng_seacrowd' not in con.config.name) or \\\n",
    "                        ('korpus_nusantara' in con.config.name and 'ind_seacrowd' not in con.config.name):\n",
    "                        continue\n",
    "                    valid_config_names[split][label_type].append(con.config.name)\n",
    "                else:\n",
    "                    valid_config_names[split][label_type].append(con.config.name)"
   ]
  },
  {
   "cell_type": "code",
   "execution_count": 70,
   "id": "aa370a86-277a-4f72-af27-843a333f974e",
   "metadata": {
    "scrolled": true,
    "tags": []
   },
   "outputs": [
    {
     "name": "stdout",
     "output_type": "stream",
     "text": [
      "CPU times: user 22.7 s, sys: 1.83 s, total: 24.5 s\n",
      "Wall time: 29.9 s\n"
     ]
    },
    {
     "data": {
      "text/plain": [
       "{'paracotta_id_seacrowd_t2t': 12000000,\n",
       " 'aya_dataset_ceb_seacrowd_t2t': 1454,\n",
       " 'aya_dataset_ind_seacrowd_t2t': 1572,\n",
       " 'aya_dataset_jav_seacrowd_t2t': 494,\n",
       " 'aya_dataset_mya_seacrowd_t2t': 944,\n",
       " 'aya_dataset_sun_seacrowd_t2t': 388,\n",
       " 'aya_dataset_tha_seacrowd_t2t': 1448,\n",
       " 'aya_dataset_vie_seacrowd_t2t': 17352,\n",
       " 'aya_dataset_zsm_seacrowd_t2t': 20146,\n",
       " 'filipino_slang_norm_seacrowd_t2t': 303,\n",
       " 'mkqa_khm_seacrowd_qa': 10000,\n",
       " 'mkqa_zsm_seacrowd_qa': 10000,\n",
       " 'mkqa_tha_seacrowd_qa': 10000,\n",
       " 'mkqa_vie_seacrowd_qa': 10000,\n",
       " 'tlunified_ner_seacrowd_seq_label': 6252,\n",
       " 'yunshan_cup_2020_seacrowd_seq_label': 8000,\n",
       " 'mozilla_pontoon_eng_mya_seacrowd_t2t': 13699,\n",
       " 'mozilla_pontoon_eng_ceb_seacrowd_t2t': 470,\n",
       " 'mozilla_pontoon_eng_ind_seacrowd_t2t': 43789,\n",
       " 'mozilla_pontoon_eng_jav_seacrowd_t2t': 685,\n",
       " 'mozilla_pontoon_eng_khm_seacrowd_t2t': 14481,\n",
       " 'mozilla_pontoon_eng_lao_seacrowd_t2t': 15302,\n",
       " 'mozilla_pontoon_eng_zlm_seacrowd_t2t': 29549,\n",
       " 'mozilla_pontoon_eng_tgl_seacrowd_t2t': 12252,\n",
       " 'mozilla_pontoon_eng_tha_seacrowd_t2t': 37691,\n",
       " 'mozilla_pontoon_eng_vie_seacrowd_t2t': 43542,\n",
       " 'ntrex_128_ind_eng-US_seacrowd_t2t': 1997,\n",
       " 'ntrex_128_khm_eng-US_seacrowd_t2t': 1997,\n",
       " 'ntrex_128_lao_eng-US_seacrowd_t2t': 1997,\n",
       " 'ntrex_128_zlm_eng-US_seacrowd_t2t': 1997,\n",
       " 'ntrex_128_mya_eng-US_seacrowd_t2t': 1997,\n",
       " 'ntrex_128_tha_eng-US_seacrowd_t2t': 1997,\n",
       " 'ntrex_128_vie_eng-US_seacrowd_t2t': 1997,\n",
       " 'nusax_mt_jav_ind_seacrowd_t2t': 500,\n",
       " 'nusax_mt_sun_ind_seacrowd_t2t': 500,\n",
       " 'tatoeba_ind_eng_seacrowd_t2t': 1000,\n",
       " 'tatoeba_jav_eng_seacrowd_t2t': 205,\n",
       " 'tatoeba_tgl_eng_seacrowd_t2t': 1000,\n",
       " 'tatoeba_tha_eng_seacrowd_t2t': 548,\n",
       " 'tatoeba_vie_eng_seacrowd_t2t': 1000,\n",
       " 'tatoeba_eng_vie_seacrowd_t2t': 1000,\n",
       " 'xcopa_ind_seacrowd_qa': 400,\n",
       " 'xcopa_tha_seacrowd_qa': 400,\n",
       " 'xcopa_vie_seacrowd_qa': 400,\n",
       " 'bactrian_x_my_seacrowd_t2t': 134034,\n",
       " 'bactrian_x_tl_seacrowd_t2t': 134034,\n",
       " 'bactrian_x_id_seacrowd_t2t': 134034,\n",
       " 'bactrian_x_km_seacrowd_t2t': 134034,\n",
       " 'bactrian_x_th_seacrowd_t2t': 134034,\n",
       " 'bactrian_x_vi_seacrowd_t2t': 134034,\n",
       " 'ara_close_ceb_seacrowd_text': 349,\n",
       " 'cosem_seacrowd_ssp': 1400937,\n",
       " 'emotes_3k_tgl_seacrowd_t2t': 5810,\n",
       " 'nusaparagraph_rhetoric_jav_seacrowd_text': 2000,\n",
       " 'nusaparagraph_rhetoric_sun_seacrowd_text': 2000,\n",
       " 'sea_bench_tgl_seacrowd_t2t': 160,\n",
       " 'sea_bench_khm_seacrowd_t2t': 160,\n",
       " 'sea_bench_vie_seacrowd_t2t': 200,\n",
       " 'sea_bench_tha_seacrowd_t2t': 200,\n",
       " 'sea_bench_lao_seacrowd_t2t': 160,\n",
       " 'sea_bench_mya_seacrowd_t2t': 160,\n",
       " 'sea_bench_ind_seacrowd_t2t': 200,\n",
       " 'sea_bench_zlm_seacrowd_t2t': 160,\n",
       " 'seaeval_cross_mmlu_ind_seacrowd_qa': 300,\n",
       " 'seaeval_cross_mmlu_vie_seacrowd_qa': 300,\n",
       " 'seaeval_cross_mmlu_zlm_seacrowd_qa': 300,\n",
       " 'seaeval_cross_logiqa_ind_seacrowd_qa': 1056,\n",
       " 'seaeval_cross_logiqa_vie_seacrowd_qa': 1056,\n",
       " 'seaeval_cross_logiqa_zlm_seacrowd_qa': 1056,\n",
       " 'belebele_ceb_latn_seacrowd_qa': 5400,\n",
       " 'belebele_ind_latn_seacrowd_qa': 5400,\n",
       " 'belebele_jav_latn_seacrowd_qa': 5400,\n",
       " 'belebele_khm_khmr_seacrowd_qa': 5400,\n",
       " 'belebele_lao_laoo_seacrowd_qa': 5400,\n",
       " 'belebele_mya_mymr_seacrowd_qa': 5400,\n",
       " 'belebele_sun_latn_seacrowd_qa': 5400,\n",
       " 'belebele_tgl_latn_seacrowd_qa': 5400,\n",
       " 'belebele_tha_thai_seacrowd_qa': 5400,\n",
       " 'belebele_vie_latn_seacrowd_qa': 5400,\n",
       " 'belebele_zsm_latn_seacrowd_qa': 5400,\n",
       " 'emotes_3k_eng_seacrowd_t2t': 5810,\n",
       " 'khmer_alt_pos_seacrowd_seq_label': 20106,\n",
       " 'korpus_nusantara_jav_ind_seacrowd_t2t': 12059,\n",
       " 'korpus_nusantara_sun_ind_seacrowd_t2t': 1699,\n",
       " 'nusatranslation_mt_jav_ind_seacrowd_t2t': 2000,\n",
       " 'nusatranslation_mt_sun_ind_seacrowd_t2t': 2000,\n",
       " 'parallel_asian_treebank_khm_eng_seacrowd_t2t': 97,\n",
       " 'parallel_asian_treebank_lao_eng_seacrowd_t2t': 97,\n",
       " 'parallel_asian_treebank_mya_eng_seacrowd_t2t': 97,\n",
       " 'parallel_asian_treebank_ind_eng_seacrowd_t2t': 97,\n",
       " 'parallel_asian_treebank_zlm_eng_seacrowd_t2t': 97,\n",
       " 'parallel_asian_treebank_tha_eng_seacrowd_t2t': 97,\n",
       " 'parallel_asian_treebank_vie_eng_seacrowd_t2t': 97}"
      ]
     },
     "execution_count": 70,
     "metadata": {},
     "output_type": "execute_result"
    }
   ],
   "source": [
    "%%time\n",
    "config_stats = {}\n",
    "train_data = {'text': [], 'label': [], 'config': []}\n",
    "test_data = {'text': [], 'label': [], 'config': []}\n",
    "\n",
    "data = {'Train': train_data, 'Test': test_data}\n",
    "for split in valid_config_names.keys():\n",
    "    for label_type in valid_config_names[split].keys():\n",
    "        for config_name in valid_config_names[split][label_type]:\n",
    "            texts = retrieve_text(sc_conhelp.for_config_name(config_name).load_dataset(), config_name)\n",
    "            labels = [label_type for _ in range(len(texts))]\n",
    "            configs = [config_name for _ in range(len(texts))]\n",
    "            \n",
    "            config_stats[config_name] = len(texts)\n",
    "            data[split]['text'] += texts\n",
    "            data[split]['label'] += labels\n",
    "            data[split]['config'] += configs\n",
    "config_stats"
   ]
  },
  {
   "cell_type": "markdown",
   "id": "488294d1-2187-47d5-ad56-35978ee52bf8",
   "metadata": {},
   "source": [
    "# Custom Data \n",
    "- Aya Collection\n",
    "- Aya Evaluation Suite\n",
    "- CC3M-35L"
   ]
  },
  {
   "cell_type": "code",
   "execution_count": 71,
   "id": "5124bce4-52c1-439b-8db8-7c365ff4f02f",
   "metadata": {},
   "outputs": [],
   "source": [
    "aya_col_dset = datasets.load_dataset('CohereForAI/aya_collection', name='translated_dolly')\n",
    "aya_col_dset = aya_col_dset.filter(lambda x: x['language'] in ['ceb','tha','mya','zsm','jav','ind','vie','sun','khm','lao','eng'])\n",
    "texts = aya_col_dset['train']['inputs'] + aya_col_dset['train']['targets']\n",
    "labels = ['Machine-translated' for _ in range(len(texts))]\n",
    "configs = list(map(lambda lang: 'aya_collection_'+lang+'_seacrowd_t2t', aya_col_dset['train']['language'])) * 2\n",
    "\n",
    "train_data['text'] += texts\n",
    "train_data['label'] += labels\n",
    "train_data['config'] += configs"
   ]
  },
  {
   "cell_type": "code",
   "execution_count": 72,
   "id": "7fb13ff0-5797-4ed7-a87e-4bc5291cf0cb",
   "metadata": {},
   "outputs": [],
   "source": [
    "aya_eval_dset = datasets.load_dataset('CohereForAI/aya_evaluation_suite', name='dolly_machine_translated')\n",
    "aya_eval_dset = aya_eval_dset.filter(lambda x: x['language'] in ['ceb','tha','mya','zsm','jav','ind','vie','sun','khm','lao','eng'])\n",
    "texts = aya_eval_dset['test']['inputs'] + aya_eval_dset['test']['targets']\n",
    "labels = ['Machine-translated' for _ in range(len(texts))]\n",
    "configs = list(map(lambda lang: 'aya_evaluation_suite_'+lang+'_seacrowd_t2t', aya_eval_dset['test']['language'])) * 2\n",
    "\n",
    "test_data['text'] += texts\n",
    "test_data['label'] += labels\n",
    "test_data['config'] += configs"
   ]
  },
  {
   "cell_type": "code",
   "execution_count": null,
   "id": "a4f64611-3b9a-4cbc-b26f-95f6f8a6784f",
   "metadata": {},
   "outputs": [
    {
     "name": "stdout",
     "output_type": "stream",
     "text": [
      "CPU times: user 526 ms, sys: 13 ms, total: 539 ms\n",
      "Wall time: 546 ms\n"
     ]
    }
   ],
   "source": [
    "%%time\n",
    "texts, labels, configs = [], [], []\n",
    "lang_map = {'id': 'ind', 'th': 'tha', 'fil': 'tgl', 'vi': 'vie'}\n",
    "with open('./cc3m_mt_train.jsonl') as f:\n",
    "    for i, line in enumerate(f):\n",
    "        row = json.loads(line)\n",
    "        if row['trg_lang'] in ['fil', 'tgl', 'ind', 'tha', 'vie', 'tl','id','th','vi']:\n",
    "            texts.append(row['translation_tokenized'])\n",
    "            labels.append('Machine-translated')\n",
    "            configs.append('cc3m_mt_' + lang_map[row['trg_lang']] + '_seacrowd_imtext')\n",
    "\n",
    "train_data['text'] += texts\n",
    "train_data['label'] += labels\n",
    "train_data['config'] += configs"
   ]
  },
  {
   "cell_type": "code",
   "execution_count": 74,
   "id": "610f0b17-b07b-4a15-8e90-459ce0ce2355",
   "metadata": {},
   "outputs": [
    {
     "name": "stdout",
     "output_type": "stream",
     "text": [
      "Train:  12661274 12661274 12661274\n",
      "Test:  2328921 2328921 2328921\n"
     ]
    }
   ],
   "source": [
    "# Sanity Check\n",
    "print('Train: ', len(train_data['text']), len(train_data['label']), len(train_data['config']))\n",
    "print('Test: ', len(test_data['text']), len(test_data['label']), len(test_data['config']))"
   ]
  },
  {
   "cell_type": "code",
   "execution_count": 75,
   "id": "d58977c1-87c3-4adc-ba30-23c3fc0715c4",
   "metadata": {},
   "outputs": [],
   "source": [
    "import datasets\n",
    "train_dset = datasets.Dataset.from_dict(train_data)\n",
    "test_dset = datasets.Dataset.from_dict(test_data)"
   ]
  },
  {
   "cell_type": "code",
   "execution_count": 76,
   "id": "bd44f3dd-428a-4c67-9af7-69e726361549",
   "metadata": {},
   "outputs": [
    {
     "name": "stderr",
     "output_type": "stream",
     "text": [
      "Creating parquet from Arrow format: 100%|██████████| 3166/3166 [00:02<00:00, 1360.69ba/s]\n",
      "Creating parquet from Arrow format: 100%|██████████| 3166/3166 [00:02<00:00, 1271.60ba/s]\n",
      "Creating parquet from Arrow format: 100%|██████████| 3166/3166 [00:02<00:00, 1387.74ba/s]\n",
      "Creating parquet from Arrow format: 100%|██████████| 3166/3166 [00:03<00:00, 935.46ba/s]\n",
      "Uploading the dataset shards: 100%|██████████| 4/4 [00:14<00:00,  3.70s/it]\n",
      "Creating parquet from Arrow format: 100%|██████████| 1165/1165 [00:02<00:00, 440.02ba/s]\n",
      "Creating parquet from Arrow format: 100%|██████████| 1165/1165 [00:00<00:00, 1482.24ba/s]\n",
      "Uploading the dataset shards: 100%|██████████| 2/2 [00:46<00:00, 23.41s/it]\n"
     ]
    },
    {
     "data": {
      "text/plain": [
       "CommitInfo(commit_url='https://huggingface.co/datasets/SEACrowd/sea_translationese/commit/fca20a07e6eac4a3a131ffe63098461ed964d5c5', commit_message='Upload dataset', commit_description='', oid='fca20a07e6eac4a3a131ffe63098461ed964d5c5', pr_url=None, pr_revision=None, pr_num=None)"
      ]
     },
     "execution_count": 76,
     "metadata": {},
     "output_type": "execute_result"
    }
   ],
   "source": [
    "datasets.DatasetDict({\n",
    "    'train': train_dset,\n",
    "    'test': test_dset\n",
    "}).push_to_hub(\"SEACrowd/sea_translationese\")"
   ]
  },
  {
   "cell_type": "code",
   "execution_count": 82,
   "id": "42e7f5ba-476c-4cad-847e-14780d181317",
   "metadata": {},
   "outputs": [],
   "source": [
    "train_df = train_dset.to_pandas()\n",
    "test_df = test_dset.to_pandas()"
   ]
  },
  {
   "cell_type": "code",
   "execution_count": 83,
   "id": "6f88e2e0-f3dc-4ebf-8876-5b6ae6ab8270",
   "metadata": {},
   "outputs": [],
   "source": [
    "test_df = test_df.loc[~test_df['config'].isin(['korpus_nusantara_ind_jav_seacrowd_t2t','korpus_nusantara_ind_sun_seacrowd_t2t'])]"
   ]
  },
  {
   "cell_type": "code",
   "execution_count": 84,
   "id": "f45e53e9-a567-4dbc-b0d7-dfd1adf877ef",
   "metadata": {},
   "outputs": [],
   "source": [
    "train_df['lang'] = train_df['config'].apply(lambda x: config2lang[x])\n",
    "test_df['lang'] = test_df['config'].apply(lambda x: config2lang[x])"
   ]
  },
  {
   "cell_type": "code",
   "execution_count": 87,
   "id": "330d7071-afa8-4fc3-abe7-a294f3b340d0",
   "metadata": {
    "scrolled": true,
    "tags": []
   },
   "outputs": [
    {
     "data": {
      "text/plain": [
       "config\n",
       "aya_collection_ceb_seacrowd_t2t            29616\n",
       "aya_collection_eng_seacrowd_t2t            29616\n",
       "aya_collection_ind_seacrowd_t2t            29616\n",
       "aya_collection_jav_seacrowd_t2t            29616\n",
       "aya_collection_khm_seacrowd_t2t            29616\n",
       "aya_collection_lao_seacrowd_t2t            29616\n",
       "aya_collection_mya_seacrowd_t2t            29616\n",
       "aya_collection_sun_seacrowd_t2t            29616\n",
       "aya_collection_tha_seacrowd_t2t            29616\n",
       "aya_collection_vie_seacrowd_t2t            29616\n",
       "aya_collection_zsm_seacrowd_t2t            29616\n",
       "aya_dataset_ceb_seacrowd_t2t                1454\n",
       "aya_dataset_ind_seacrowd_t2t                1572\n",
       "aya_dataset_jav_seacrowd_t2t                 494\n",
       "aya_dataset_mya_seacrowd_t2t                 944\n",
       "aya_dataset_sun_seacrowd_t2t                 388\n",
       "aya_dataset_tha_seacrowd_t2t                1448\n",
       "aya_dataset_vie_seacrowd_t2t               17352\n",
       "aya_dataset_zsm_seacrowd_t2t               20146\n",
       "filipino_slang_norm_seacrowd_t2t             303\n",
       "mkqa_khm_seacrowd_qa                       10000\n",
       "mkqa_tha_seacrowd_qa                       10000\n",
       "mkqa_vie_seacrowd_qa                       10000\n",
       "mkqa_zsm_seacrowd_qa                       10000\n",
       "mozilla_pontoon_eng_ceb_seacrowd_t2t         470\n",
       "mozilla_pontoon_eng_ind_seacrowd_t2t       43789\n",
       "mozilla_pontoon_eng_jav_seacrowd_t2t         685\n",
       "mozilla_pontoon_eng_khm_seacrowd_t2t       14481\n",
       "mozilla_pontoon_eng_lao_seacrowd_t2t       15302\n",
       "mozilla_pontoon_eng_mya_seacrowd_t2t       13699\n",
       "mozilla_pontoon_eng_tgl_seacrowd_t2t       12252\n",
       "mozilla_pontoon_eng_tha_seacrowd_t2t       37691\n",
       "mozilla_pontoon_eng_vie_seacrowd_t2t       43542\n",
       "mozilla_pontoon_eng_zlm_seacrowd_t2t       29549\n",
       "ntrex_128_ind_eng-US_seacrowd_t2t           1997\n",
       "ntrex_128_khm_eng-US_seacrowd_t2t           1997\n",
       "ntrex_128_lao_eng-US_seacrowd_t2t           1997\n",
       "ntrex_128_mya_eng-US_seacrowd_t2t           1997\n",
       "ntrex_128_tha_eng-US_seacrowd_t2t           1997\n",
       "ntrex_128_vie_eng-US_seacrowd_t2t           1997\n",
       "ntrex_128_zlm_eng-US_seacrowd_t2t           1997\n",
       "nusax_mt_jav_ind_seacrowd_t2t                500\n",
       "nusax_mt_sun_ind_seacrowd_t2t                500\n",
       "paracotta_id_seacrowd_t2t               12000000\n",
       "tatoeba_eng_vie_seacrowd_t2t                2000\n",
       "tatoeba_ind_eng_seacrowd_t2t                2000\n",
       "tatoeba_jav_eng_seacrowd_t2t                 410\n",
       "tatoeba_tgl_eng_seacrowd_t2t                2000\n",
       "tatoeba_tha_eng_seacrowd_t2t                1096\n",
       "tatoeba_vie_eng_seacrowd_t2t                2000\n",
       "tlunified_ner_seacrowd_seq_label            6252\n",
       "xcopa_ind_seacrowd_qa                        400\n",
       "xcopa_tha_seacrowd_qa                        400\n",
       "xcopa_vie_seacrowd_qa                        400\n",
       "yunshan_cup_2020_seacrowd_seq_label         8000\n",
       "dtype: int64"
      ]
     },
     "execution_count": 87,
     "metadata": {},
     "output_type": "execute_result"
    }
   ],
   "source": [
    "train_df.groupby('config').size()"
   ]
  },
  {
   "cell_type": "code",
   "execution_count": 88,
   "id": "d76a3a66-6edf-411f-8fb3-e5ac97a4db97",
   "metadata": {
    "scrolled": true,
    "tags": []
   },
   "outputs": [
    {
     "data": {
      "text/plain": [
       "label               lang\n",
       "Human-translated    ceb          470\n",
       "                    eng         2000\n",
       "                    ind        48186\n",
       "                    jav         1595\n",
       "                    khm        16478\n",
       "                    lao        17299\n",
       "                    mya        15696\n",
       "                    sun          500\n",
       "                    tgl        14252\n",
       "                    tha        41184\n",
       "                    vie        49936\n",
       "                    zsm        29549\n",
       "Machine-translated  ceb        29616\n",
       "                    eng        29616\n",
       "                    ind     12029616\n",
       "                    jav        29616\n",
       "                    khm        29616\n",
       "                    lao        29616\n",
       "                    mya        29616\n",
       "                    sun        29616\n",
       "                    tha        29616\n",
       "                    vie        29616\n",
       "                    zsm        29616\n",
       "Natural             ceb         1454\n",
       "                    ind         1572\n",
       "                    jav          494\n",
       "                    khm        10000\n",
       "                    lao         8000\n",
       "                    mya          944\n",
       "                    sun          388\n",
       "                    tgl         6555\n",
       "                    tha        11448\n",
       "                    vie        27352\n",
       "                    zsm        30146\n",
       "dtype: int64"
      ]
     },
     "execution_count": 88,
     "metadata": {},
     "output_type": "execute_result"
    }
   ],
   "source": [
    "train_df.groupby(['label','lang']).size()"
   ]
  },
  {
   "cell_type": "code",
   "execution_count": 89,
   "id": "cc7d9830-a24b-449d-b358-276415f44de8",
   "metadata": {},
   "outputs": [
    {
     "data": {
      "text/plain": [
       "{'Human-translated': array(['ceb', 'eng', 'ind', 'jav', 'khm', 'lao', 'mya', 'sun', 'tgl',\n",
       "        'tha', 'vie', 'zsm'], dtype=object),\n",
       " 'Machine-translated': array(['ceb', 'eng', 'ind', 'jav', 'khm', 'lao', 'mya', 'sun', 'tha',\n",
       "        'vie', 'zsm'], dtype=object),\n",
       " 'Natural': array(['ceb', 'ind', 'jav', 'khm', 'lao', 'mya', 'sun', 'tgl', 'tha',\n",
       "        'vie', 'zsm'], dtype=object)}"
      ]
     },
     "execution_count": 89,
     "metadata": {},
     "output_type": "execute_result"
    }
   ],
   "source": [
    "train_df.sort_values('lang').groupby(['label'])['lang'].unique().to_dict()"
   ]
  },
  {
   "cell_type": "code",
   "execution_count": 90,
   "id": "5d1ff0c2-7142-4265-9fc6-5b1986c4c800",
   "metadata": {},
   "outputs": [
    {
     "data": {
      "text/plain": [
       "{'Human-translated': array(['ceb', 'eng', 'ind', 'jav', 'khm', 'lao', 'mya', 'sun', 'tgl',\n",
       "        'tha', 'vie', 'zsm'], dtype=object),\n",
       " 'Machine-translated': array(['ceb', 'eng', 'ind', 'jav', 'khm', 'lao', 'mya', 'sun', 'tgl',\n",
       "        'tha', 'vie', 'zsm'], dtype=object),\n",
       " 'Natural': array(['ceb', 'eng', 'ind', 'jav', 'khm', 'lao', 'mya', 'sun', 'tgl',\n",
       "        'tha', 'vie', 'zsm'], dtype=object)}"
      ]
     },
     "execution_count": 90,
     "metadata": {},
     "output_type": "execute_result"
    }
   ],
   "source": [
    "test_df.sort_values('lang').groupby(['label'])['lang'].unique().to_dict()"
   ]
  },
  {
   "cell_type": "code",
   "execution_count": 96,
   "id": "ff6c71ee-7f14-4a3e-9631-c373474f843f",
   "metadata": {},
   "outputs": [],
   "source": [
    "train_df.groupby(['label', 'lang', 'config']).size().to_frame('count').reset_index().to_csv('train_translationese.csv', index=False)\n",
    "test_df.groupby(['label', 'lang', 'config']).size().to_frame('count').reset_index().to_csv('test_translationese.csv', index=False)"
   ]
  },
  {
   "cell_type": "code",
   "execution_count": null,
   "id": "23e9c181-1246-4391-a814-56031a93adc7",
   "metadata": {},
   "outputs": [],
   "source": []
  },
  {
   "cell_type": "markdown",
   "id": "ff993f21-b86a-4a2d-9e7b-a379cb6fba75",
   "metadata": {},
   "source": [
    "# Sampling"
   ]
  },
  {
   "cell_type": "code",
   "execution_count": 5,
   "id": "3934daf7-06f5-4b65-8eec-dd98cd5b2eee",
   "metadata": {},
   "outputs": [],
   "source": [
    "trans_dset = datasets.load_dataset(\"SEACrowd/sea_translationese\")"
   ]
  },
  {
   "cell_type": "code",
   "execution_count": 6,
   "id": "3e9af03c-6847-4589-bc06-86526218f8d3",
   "metadata": {},
   "outputs": [],
   "source": [
    "train_df = trans_dset['train'].to_pandas()\n",
    "test_df = trans_dset['test'].to_pandas()"
   ]
  },
  {
   "cell_type": "code",
   "execution_count": 7,
   "id": "3b5ff04d-5521-4d13-969c-94d8789dddb9",
   "metadata": {},
   "outputs": [],
   "source": [
    "train_df['lang'] = train_df['config'].apply(lambda x: config2lang[x])\n",
    "test_df['lang'] = test_df['config'].apply(lambda x: config2lang[x])"
   ]
  },
  {
   "cell_type": "markdown",
   "id": "547e3a80-f917-4829-abc9-8705ed21fba4",
   "metadata": {},
   "source": [
    "### Add additional Datasets"
   ]
  },
  {
   "cell_type": "code",
   "execution_count": 8,
   "id": "386ccfc4-1be7-46b7-b0bb-b5f1157e2114",
   "metadata": {},
   "outputs": [
    {
     "name": "stdout",
     "output_type": "stream",
     "text": [
      "CPU times: user 4.4 s, sys: 192 ms, total: 4.59 s\n",
      "Wall time: 4.86 s\n"
     ]
    }
   ],
   "source": [
    "%%time\n",
    "# CC3M_35L\n",
    "texts, labels, langs, configs = [], [], [], []\n",
    "lang_map = {'id': 'ind', 'th': 'tha', 'fil': 'tgl', 'vi': 'vie'}\n",
    "with open('./cc3m_mt_train.jsonl') as f:\n",
    "    for i, line in enumerate(f):\n",
    "        row = json.loads(line)\n",
    "        if row['trg_lang'] in ['fil', 'tgl', 'ind', 'tha', 'vie', 'tl','id','th','vi']:\n",
    "            texts.append(row['translation_tokenized'])\n",
    "            labels.append('Machine-translated')\n",
    "            langs.append(lang_map[row['trg_lang']])\n",
    "            configs.append('cc3m_mt_' + lang_map[row['trg_lang']] + '_seacrowd_imtext')\n",
    "            if len(texts) == 100000:\n",
    "                break\n",
    "\n",
    "cc3m_df = pd.DataFrame({\n",
    "    'text': texts,\n",
    "    'label': labels,\n",
    "    'config': configs,\n",
    "    'lang': langs,\n",
    "})"
   ]
  },
  {
   "cell_type": "code",
   "execution_count": 9,
   "id": "3b8d98be-84e2-4df1-8eb1-575cffdd80d3",
   "metadata": {},
   "outputs": [
    {
     "name": "stdout",
     "output_type": "stream",
     "text": [
      "CPU times: user 3.36 s, sys: 376 ms, total: 3.73 s\n",
      "Wall time: 3.77 s\n"
     ]
    }
   ],
   "source": [
    "%%time\n",
    "import xml.etree.ElementTree as ET\n",
    "def xml_element_to_dict(element: ET.Element):\n",
    "        \"\"\"Converts an xml element to a dictionary.\"\"\"\n",
    "        element_dict = {}\n",
    "\n",
    "        # add text with key '$', attributes with '@' prefix\n",
    "        element_dict[\"$\"] = element.text\n",
    "        for attrib, value in element.attrib.items():\n",
    "            element_dict[f\"@{attrib}\"] = value\n",
    "\n",
    "        # recursively\n",
    "        for child in element:\n",
    "            child_dict = xml_element_to_dict(child)\n",
    "            element_dict[child.tag] = child_dict\n",
    "\n",
    "        return element_dict\n",
    "\n",
    "data_root = ET.parse('smsCorpus_en_2015.03.09_all.xml').getroot()\n",
    "data_list = [xml_element_to_dict(child) for child in data_root]\n",
    "\n",
    "texts, labels, langs, configs = [], [], [], []\n",
    "for row in data_list:\n",
    "    texts.append(row['text']['$'])\n",
    "    langs.append('eng')\n",
    "    labels.append('Natural')\n",
    "    configs.append('nus_sms_corpus_seacrowd_ssp')\n",
    "\n",
    "nus_sms_df = pd.DataFrame({\n",
    "    'text': texts,\n",
    "    'label': labels,\n",
    "    'config': configs,\n",
    "    'lang': langs,\n",
    "})"
   ]
  },
  {
   "cell_type": "markdown",
   "id": "2a1939d1-3510-42f7-a1e5-b0af70cbb7f9",
   "metadata": {},
   "source": [
    "#### Additional Data - 25 May 2024"
   ]
  },
  {
   "cell_type": "code",
   "execution_count": 10,
   "id": "b3b02ac9-9507-4a82-b2f9-daacead49670",
   "metadata": {},
   "outputs": [],
   "source": [
    "valid_config_names = {\n",
    "    'Train': {\n",
    "        'Natural': [\n",
    "           'cebuaner_seacrowd_seq_label',\n",
    "           'copal_seacrowd_qa',\n",
    "           'copal_colloquial_seacrowd_qa',\n",
    "           'mabl_jav_seacrowd_qa',\n",
    "           'mabl_sun_seacrowd_qa',\n",
    "           'my_paraphrase_all_seacrowd_t2t'\n",
    "        ]\n",
    "    },\n",
    "    'Test': {\n",
    "        'Natural': [\n",
    "            'gklmip_newsclass_seacrowd_text',\n",
    "            'gklmip_sentiment_seacrowd_text',\n",
    "            'vistec_tp_th_21_seacrowd_seq_label'\n",
    "        ]\n",
    "    }\n",
    "}"
   ]
  },
  {
   "cell_type": "code",
   "execution_count": 11,
   "id": "b5bf7e35-bc83-41c6-926b-7c95697419a3",
   "metadata": {},
   "outputs": [],
   "source": [
    "def retrieve_text(dset, config_name):\n",
    "    if 'cebuaner' in config_name:\n",
    "        return list(map(lambda x: ' '.join(x['tokens']), dset['train']))\n",
    "\n",
    "    if 'copal' in config_name:\n",
    "        return dset['test']['context'] + list(chain.from_iterable(list(dset['test']['choices'])))\n",
    "\n",
    "    if 'mabl' in config_name:\n",
    "        return dset['test']['question'] + list(chain.from_iterable(list(dset['test']['choices'])))\n",
    "        \n",
    "    if 'gklmip' in config_name:\n",
    "        return dset['test']['text']\n",
    "    \n",
    "    if 'vistec_tp_th_21' in config_name:\n",
    "        return list(map(lambda x: ' '.join(x['tokens']), dset['test']))\n",
    "\n",
    "    raise ValueError(f'Unknown Config Name `{config_name}`')"
   ]
  },
  {
   "cell_type": "code",
   "execution_count": 12,
   "id": "2188e7d7-fd3b-4098-a974-c4c38f1a06ff",
   "metadata": {},
   "outputs": [
    {
     "name": "stdout",
     "output_type": "stream",
     "text": [
      "CPU times: user 2.54 s, sys: 97.5 ms, total: 2.64 s\n",
      "Wall time: 4.63 s\n"
     ]
    },
    {
     "data": {
      "text/plain": [
       "{'cebuaner_seacrowd_seq_label': 2980,\n",
       " 'copal_seacrowd_qa': 1677,\n",
       " 'copal_colloquial_seacrowd_qa': 1677,\n",
       " 'mabl_jav_seacrowd_qa': 1800,\n",
       " 'mabl_sun_seacrowd_qa': 1800,\n",
       " 'my_paraphrase_all_seacrowd_t2t': 56275,\n",
       " 'gklmip_newsclass_seacrowd_text': 1436,\n",
       " 'gklmip_sentiment_seacrowd_text': 716,\n",
       " 'vistec_tp_th_21_seacrowd_seq_label': 10000}"
      ]
     },
     "execution_count": 12,
     "metadata": {},
     "output_type": "execute_result"
    }
   ],
   "source": [
    "%%time\n",
    "config_stats = {}\n",
    "train_data = {'text': [], 'label': [], 'config': []}\n",
    "test_data = {'text': [], 'label': [], 'config': []}\n",
    "\n",
    "data = {'Train': train_data, 'Test': test_data}\n",
    "for split in valid_config_names.keys():\n",
    "    for label_type in valid_config_names[split].keys():\n",
    "        for config_name in valid_config_names[split][label_type]:\n",
    "            if 'my_paraphrase' in config_name:\n",
    "                df = pd.read_csv('https://github.com/ye-kyaw-thu/myParaphrase/raw/main/corpus/ver1.0/csv-qqp/train.csv', header=None)\n",
    "                texts = list(set(df[1].tolist() + df[2].tolist()))\n",
    "                labels = [label_type for _ in range(len(texts))]\n",
    "                configs = [config_name for _ in range(len(texts))]                \n",
    "            else:\n",
    "                texts = retrieve_text(sc_conhelp.for_config_name(config_name).load_dataset(), config_name)\n",
    "                labels = [label_type for _ in range(len(texts))]\n",
    "                configs = [config_name for _ in range(len(texts))]\n",
    "            \n",
    "            config_stats[config_name] = len(texts)\n",
    "            data[split]['text'] += texts\n",
    "            data[split]['label'] += labels\n",
    "            data[split]['config'] += configs\n",
    "config_stats"
   ]
  },
  {
   "cell_type": "code",
   "execution_count": 17,
   "id": "f98cc98f-6e0c-496b-ac11-221cc37e3944",
   "metadata": {},
   "outputs": [],
   "source": [
    "extra_train_df = pd.DataFrame(train_data)\n",
    "extra_test_df = pd.DataFrame(test_data)"
   ]
  },
  {
   "cell_type": "code",
   "execution_count": 18,
   "id": "bd94979b-901e-494d-9050-9229ad45f742",
   "metadata": {},
   "outputs": [],
   "source": [
    "extra_train_df['lang'] = extra_train_df['config'].apply(lambda x: config2lang[x])\n",
    "extra_test_df['lang'] = extra_test_df['config'].apply(lambda x: config2lang[x])"
   ]
  },
  {
   "cell_type": "markdown",
   "id": "d2ea2e46-937a-44aa-9e44-eed0a8d1f846",
   "metadata": {},
   "source": [
    "##### Merge All"
   ]
  },
  {
   "cell_type": "code",
   "execution_count": 19,
   "id": "30b24d35-0f60-44f4-b1c1-720880a9c3d7",
   "metadata": {},
   "outputs": [],
   "source": [
    "train_df = pd.concat([train_df, nus_sms_df, cc3m_df, extra_train_df])\n",
    "test_df = pd.concat([test_df, extra_test_df])"
   ]
  },
  {
   "cell_type": "code",
   "execution_count": 21,
   "id": "c1a7454c-c761-4131-aaa8-4479765df116",
   "metadata": {},
   "outputs": [],
   "source": [
    "train_dfs = []\n",
    "for key, tdf in train_df.groupby(['lang', 'label']):\n",
    "    if tdf.shape[0] > 5000: # Down Sampling\n",
    "        train_dfs.append(tdf.sample(5000, random_state=0))\n",
    "    elif tdf.shape[0] < 2000: # Up Sampling\n",
    "        train_dfs.append(pd.concat([\n",
    "            tdf, tdf.sample(2000 - tdf.shape[0], random_state=0, replace=True)\n",
    "        ]))\n",
    "    else: # Keep\n",
    "        train_dfs.append(tdf)       \n",
    "s_train_df = pd.concat(train_dfs)"
   ]
  },
  {
   "cell_type": "code",
   "execution_count": 23,
   "id": "b0c6a970-7800-4e63-9dc9-c50640e52f77",
   "metadata": {},
   "outputs": [],
   "source": [
    "test_dfs = []\n",
    "for key, tdf in test_df.groupby(['lang', 'label']):\n",
    "    if tdf.shape[0] > 2000: # Down Sampling\n",
    "        test_dfs.append(tdf.sample(2000, random_state=0))\n",
    "    # elif tdf.shape[0] < 1000: # Up Sampling\n",
    "    #     test_dfs.append(pd.concat([\n",
    "    #         tdf, tdf.sample(1000 - tdf.shape[0], random_state=0, replace=True)\n",
    "    #     ]))\n",
    "    else: # Keep\n",
    "        test_dfs.append(tdf)       \n",
    "s_test_df = pd.concat(test_dfs)"
   ]
  },
  {
   "cell_type": "code",
   "execution_count": 29,
   "id": "e3135ed4-6854-4a25-b744-8a1564dcda14",
   "metadata": {},
   "outputs": [
    {
     "data": {
      "text/plain": [
       "((161842, 4), (56009, 4))"
      ]
     },
     "execution_count": 29,
     "metadata": {},
     "output_type": "execute_result"
    }
   ],
   "source": [
    "s_train_df.shape, s_test_df.shape"
   ]
  },
  {
   "cell_type": "code",
   "execution_count": 30,
   "id": "475465ba-2d3e-4bf6-9236-717516be4913",
   "metadata": {},
   "outputs": [
    {
     "data": {
      "text/plain": [
       "((12883318, 4), (2341073, 4))"
      ]
     },
     "execution_count": 30,
     "metadata": {},
     "output_type": "execute_result"
    }
   ],
   "source": [
    "train_df.shape, test_df.shape"
   ]
  },
  {
   "cell_type": "code",
   "execution_count": 31,
   "id": "d94c0d52-c36b-43e4-8a76-5b1581b043e5",
   "metadata": {
    "scrolled": true,
    "tags": []
   },
   "outputs": [
    {
     "data": {
      "text/plain": [
       "lang  label             \n",
       "ceb   Human-translated      2000\n",
       "      Machine-translated    5000\n",
       "      Natural               4434\n",
       "eng   Human-translated      2000\n",
       "      Machine-translated    5000\n",
       "      Natural               5000\n",
       "ind   Human-translated      5000\n",
       "      Machine-translated    5000\n",
       "      Natural               4926\n",
       "jav   Human-translated      2000\n",
       "      Machine-translated    5000\n",
       "      Natural               2294\n",
       "khm   Human-translated      5000\n",
       "      Machine-translated    5000\n",
       "      Natural               5000\n",
       "lao   Human-translated      5000\n",
       "      Machine-translated    5000\n",
       "      Natural               5000\n",
       "mya   Human-translated      5000\n",
       "      Machine-translated    5000\n",
       "      Natural               5000\n",
       "sun   Human-translated      2000\n",
       "      Machine-translated    5000\n",
       "      Natural               2188\n",
       "tgl   Human-translated      5000\n",
       "      Machine-translated    5000\n",
       "      Natural               5000\n",
       "tha   Human-translated      5000\n",
       "      Machine-translated    5000\n",
       "      Natural               5000\n",
       "vie   Human-translated      5000\n",
       "      Machine-translated    5000\n",
       "      Natural               5000\n",
       "zsm   Human-translated      5000\n",
       "      Machine-translated    5000\n",
       "      Natural               5000\n",
       "dtype: int64"
      ]
     },
     "execution_count": 31,
     "metadata": {},
     "output_type": "execute_result"
    }
   ],
   "source": [
    "s_train_df.groupby(['lang', 'label']).size()"
   ]
  },
  {
   "cell_type": "code",
   "execution_count": 32,
   "id": "267b7856-889f-43b1-8866-aae778e5568a",
   "metadata": {
    "scrolled": true,
    "tags": []
   },
   "outputs": [
    {
     "data": {
      "text/plain": [
       "lang  label             \n",
       "ceb   Human-translated      2000\n",
       "      Machine-translated     400\n",
       "      Natural                349\n",
       "eng   Human-translated      2000\n",
       "      Machine-translated     400\n",
       "      Natural               2000\n",
       "ind   Human-translated      2000\n",
       "      Machine-translated    2000\n",
       "      Natural               1556\n",
       "jav   Human-translated      2000\n",
       "      Machine-translated     400\n",
       "      Natural               2000\n",
       "khm   Human-translated      2000\n",
       "      Machine-translated    2000\n",
       "      Natural               1596\n",
       "lao   Human-translated      2000\n",
       "      Machine-translated     400\n",
       "      Natural                160\n",
       "mya   Human-translated      2000\n",
       "      Machine-translated    2000\n",
       "      Natural                876\n",
       "sun   Human-translated      2000\n",
       "      Machine-translated     400\n",
       "      Natural               2000\n",
       "tgl   Human-translated      2000\n",
       "      Machine-translated    2000\n",
       "      Natural               2000\n",
       "tha   Human-translated      2000\n",
       "      Machine-translated    2000\n",
       "      Natural               2000\n",
       "vie   Human-translated      2000\n",
       "      Machine-translated    2000\n",
       "      Natural               1556\n",
       "zsm   Human-translated      2000\n",
       "      Machine-translated     400\n",
       "      Natural               1516\n",
       "dtype: int64"
      ]
     },
     "execution_count": 32,
     "metadata": {},
     "output_type": "execute_result"
    }
   ],
   "source": [
    "s_test_df.groupby(['lang', 'label']).size()"
   ]
  },
  {
   "cell_type": "code",
   "execution_count": 33,
   "id": "f21ca9ed-c14c-45a4-b7d2-0a0637781187",
   "metadata": {},
   "outputs": [
    {
     "data": {
      "text/plain": [
       "DatasetDict({\n",
       "    train: Dataset({\n",
       "        features: ['text', 'label', 'config', 'lang'],\n",
       "        num_rows: 161842\n",
       "    })\n",
       "    test: Dataset({\n",
       "        features: ['text', 'label', 'config', 'lang'],\n",
       "        num_rows: 56009\n",
       "    })\n",
       "})"
      ]
     },
     "execution_count": 33,
     "metadata": {},
     "output_type": "execute_result"
    }
   ],
   "source": [
    "trans_dset_dict = datasets.DatasetDict({\n",
    "    'train': datasets.Dataset.from_pandas(s_train_df.set_index(['label', 'config', 'lang'])),\n",
    "    'test': datasets.Dataset.from_pandas(s_test_df.set_index(['label', 'config', 'lang']))\n",
    "})\n",
    "trans_dset_dict"
   ]
  },
  {
   "cell_type": "code",
   "execution_count": 34,
   "id": "471f0ee2-60b2-4eb7-898c-05c1b477fbe7",
   "metadata": {},
   "outputs": [
    {
     "data": {
      "application/vnd.jupyter.widget-view+json": {
       "model_id": "037a2665dcbc4348b9083b0147f9e17e",
       "version_major": 2,
       "version_minor": 0
      },
      "text/plain": [
       "Uploading the dataset shards:   0%|          | 0/1 [00:00<?, ?it/s]"
      ]
     },
     "metadata": {},
     "output_type": "display_data"
    },
    {
     "data": {
      "application/vnd.jupyter.widget-view+json": {
       "model_id": "a92afcd0fbb947eb9077703f0e9ff94e",
       "version_major": 2,
       "version_minor": 0
      },
      "text/plain": [
       "Creating parquet from Arrow format:   0%|          | 0/162 [00:00<?, ?ba/s]"
      ]
     },
     "metadata": {},
     "output_type": "display_data"
    },
    {
     "data": {
      "application/vnd.jupyter.widget-view+json": {
       "model_id": "45c00a54ebe247bea055d480a57e9c55",
       "version_major": 2,
       "version_minor": 0
      },
      "text/plain": [
       "Uploading the dataset shards:   0%|          | 0/1 [00:00<?, ?it/s]"
      ]
     },
     "metadata": {},
     "output_type": "display_data"
    },
    {
     "data": {
      "application/vnd.jupyter.widget-view+json": {
       "model_id": "b26660ec67e543b8909021b997adc7d0",
       "version_major": 2,
       "version_minor": 0
      },
      "text/plain": [
       "Creating parquet from Arrow format:   0%|          | 0/57 [00:00<?, ?ba/s]"
      ]
     },
     "metadata": {},
     "output_type": "display_data"
    },
    {
     "data": {
      "text/plain": [
       "CommitInfo(commit_url='https://huggingface.co/datasets/SEACrowd/sea_translationese_resampling_v2/commit/cef02f6bafe0d7e678ece196b907d3e0a0ef6c65', commit_message='Upload dataset', commit_description='', oid='cef02f6bafe0d7e678ece196b907d3e0a0ef6c65', pr_url=None, pr_revision=None, pr_num=None)"
      ]
     },
     "execution_count": 34,
     "metadata": {},
     "output_type": "execute_result"
    }
   ],
   "source": [
    "trans_dset_dict.push_to_hub(\"SEACrowd/sea_translationese_resampling_v2\")"
   ]
  },
  {
   "cell_type": "code",
   "execution_count": null,
   "id": "59fb7255-b5ea-4b3e-838c-385ab94e767f",
   "metadata": {},
   "outputs": [],
   "source": []
  },
  {
   "cell_type": "markdown",
   "id": "440f1d8d-3ab1-4b37-ab5e-1c0fab344c55",
   "metadata": {
    "tags": []
   },
   "source": [
    "# Sandbox"
   ]
  },
  {
   "cell_type": "code",
   "execution_count": 97,
   "id": "942042ec-c4e0-4fb6-ae0f-da00c2b7d2ac",
   "metadata": {},
   "outputs": [],
   "source": [
    "dset = sc_conhelp.for_config_name('paracotta_id_seacrowd_t2t').load_dataset()\n",
    "# dset['train']['text_1'] + dset['train']['text_2']"
   ]
  },
  {
   "cell_type": "code",
   "execution_count": 98,
   "id": "9a9030a1-ec69-4f65-844b-1327d04ac8e1",
   "metadata": {},
   "outputs": [],
   "source": [
    "dset = sc_conhelp.for_config_name('aya_dataset_ceb_seacrowd_t2t').load_dataset()\n",
    "# dset['train']['text_1'] + dset['train']['text_2']"
   ]
  },
  {
   "cell_type": "code",
   "execution_count": 99,
   "id": "836be43a-2e73-46ad-90ae-bbe3f3c8b5a0",
   "metadata": {},
   "outputs": [],
   "source": [
    "dset = sc_conhelp.for_config_name('filipino_slang_norm_seacrowd_t2t').load_dataset()\n",
    "# dset['train']['text_1']"
   ]
  },
  {
   "cell_type": "code",
   "execution_count": 100,
   "id": "f7505b4f",
   "metadata": {},
   "outputs": [],
   "source": [
    "dset = sc_conhelp.for_config_name('tlunified_ner_seacrowd_seq_label').load_dataset()\n",
    "# list(map(lambda x: ' '.join(x['tokens']), dset['train']))"
   ]
  },
  {
   "cell_type": "code",
   "execution_count": 101,
   "id": "f7f04997-0279-4f27-beb8-13600647b40a",
   "metadata": {},
   "outputs": [],
   "source": [
    "dset = sc_conhelp.for_config_name('mkqa_khm_seacrowd_qa').load_dataset()\n",
    "# dset['train']['question']"
   ]
  },
  {
   "cell_type": "code",
   "execution_count": 102,
   "id": "875fee65-7dbd-4486-9433-730af36476d8",
   "metadata": {},
   "outputs": [],
   "source": [
    "dset = sc_conhelp.for_config_name('yunshan_cup_2020_seacrowd_seq_label').load_dataset()\n",
    "# list(map(lambda x: ' '.join(x['tokens']), dset['train'])) + list(map(lambda x: ' '.join(x['tokens']), dset['validation']))"
   ]
  },
  {
   "cell_type": "code",
   "execution_count": 103,
   "id": "b3b7f216-5261-4486-b805-9b84e467e46c",
   "metadata": {
    "tags": []
   },
   "outputs": [],
   "source": [
    "dset = sc_conhelp.for_config_name('mozilla_pontoon_eng_lao_seacrowd_t2t').load_dataset()\n",
    "# dset['train']['text_2']"
   ]
  },
  {
   "cell_type": "code",
   "execution_count": 104,
   "id": "43706bdb-a7ae-41cd-a60d-1c30575701db",
   "metadata": {
    "tags": []
   },
   "outputs": [],
   "source": [
    "dset = sc_conhelp.for_config_name('ntrex_128_lao_eng-US_seacrowd_t2t').load_dataset()\n",
    "# dset['train']['text_1']"
   ]
  },
  {
   "cell_type": "code",
   "execution_count": 105,
   "id": "cc17e125-94a9-489b-946f-9994c53558b3",
   "metadata": {
    "tags": []
   },
   "outputs": [],
   "source": [
    "dset = sc_conhelp.for_config_name('nusax_mt_jav_ind_seacrowd_t2t').load_dataset()\n",
    "# dset['train']['text_1']"
   ]
  },
  {
   "cell_type": "code",
   "execution_count": 106,
   "id": "8e462847-c728-4b9c-a4df-be461ef3c830",
   "metadata": {
    "tags": []
   },
   "outputs": [],
   "source": [
    "dset = sc_conhelp.for_config_name('tatoeba_ind_eng_seacrowd_t2t').load_dataset()\n",
    "# dset['validation']['text_1']"
   ]
  },
  {
   "cell_type": "code",
   "execution_count": 107,
   "id": "1e4b2142-52c1-4aaa-b686-e401ec866ee0",
   "metadata": {
    "tags": []
   },
   "outputs": [],
   "source": [
    "dset = sc_conhelp.for_config_name('xcopa_vie_seacrowd_qa').load_dataset()\n",
    "# dset['validation']['context'] + dset['validation']['context'] + list(chain.from_iterable(list(dset['validation']['choices'])))"
   ]
  },
  {
   "cell_type": "code",
   "execution_count": 108,
   "id": "5c7c3ed3-1e82-4df7-86df-10a0f839c469",
   "metadata": {
    "tags": []
   },
   "outputs": [],
   "source": [
    "dset = sc_conhelp.for_config_name('bactrian_x_my_seacrowd_t2t').load_dataset()\n",
    "# dset['train']['text_1'] + dset['train']['text_2']"
   ]
  },
  {
   "cell_type": "code",
   "execution_count": 109,
   "id": "0ff22e60-e80f-4dbe-9515-0a44a7354e74",
   "metadata": {},
   "outputs": [
    {
     "name": "stderr",
     "output_type": "stream",
     "text": [
      "Downloading data: 329kB [00:00, 27.5MB/s]                   \n",
      "Generating train split: 150 examples [00:00, 4007.02 examples/s]\n"
     ]
    }
   ],
   "source": [
    "dset = sc_conhelp.for_config_name('ara_close_bcl_seacrowd_text').load_dataset()\n",
    "# dset['train']['text']"
   ]
  },
  {
   "cell_type": "code",
   "execution_count": 110,
   "id": "87b0a627-d7fc-49a4-bc2b-89b91f26f77e",
   "metadata": {},
   "outputs": [],
   "source": [
    "dset = sc_conhelp.for_config_name('cosem_seacrowd_ssp').load_dataset()\n",
    "# dset['train']['text']"
   ]
  },
  {
   "cell_type": "code",
   "execution_count": 111,
   "id": "5686561d-bda9-4349-b2ba-b76eaf570796",
   "metadata": {},
   "outputs": [],
   "source": [
    "dset = sc_conhelp.for_config_name('nusaparagraph_rhetoric_jav_seacrowd_text').load_dataset()\n",
    "# dset['test']['text']"
   ]
  },
  {
   "cell_type": "code",
   "execution_count": 112,
   "id": "889d3fc6-eef4-4c41-aa00-5398cc2abc5d",
   "metadata": {},
   "outputs": [],
   "source": [
    "dset = sc_conhelp.for_config_name('emotes_3k_eng_seacrowd_text').load_dataset()\n",
    "# dset['test']['text']"
   ]
  },
  {
   "cell_type": "code",
   "execution_count": 113,
   "id": "9ab05bfe-9382-425b-99eb-0f92247e10b9",
   "metadata": {
    "tags": []
   },
   "outputs": [],
   "source": [
    "dset = sc_conhelp.for_config_name('emotes_3k_eng_seacrowd_t2t').load_dataset()\n",
    "# dset['test']['text_1'] + dset['test']['text_2']"
   ]
  },
  {
   "cell_type": "code",
   "execution_count": 114,
   "id": "5097bf3d-88b5-449d-aec7-6e4bb2deab27",
   "metadata": {
    "tags": []
   },
   "outputs": [],
   "source": [
    "dset = sc_conhelp.for_config_name('sea_bench_tgl_seacrowd_t2t').load_dataset()\n",
    "# dset['train']['text_1'] + dset['train']['text_2']"
   ]
  },
  {
   "cell_type": "code",
   "execution_count": 115,
   "id": "2b8e6020-f06e-42f0-b4be-7f5a860656bf",
   "metadata": {
    "tags": []
   },
   "outputs": [],
   "source": [
    "dset = sc_conhelp.for_config_name('seaeval_cross_mmlu_ind_seacrowd_qa').load_dataset()\n",
    "# dset['test']['question'] + list(map(lambda x: x[0], dset['test']['answer']))"
   ]
  },
  {
   "cell_type": "code",
   "execution_count": 116,
   "id": "e3269cac-7c62-49ff-918a-90b1e9821337",
   "metadata": {},
   "outputs": [],
   "source": [
    "dset = sc_conhelp.for_config_name('seaeval_cross_logiqa_ind_seacrowd_qa').load_dataset()\n",
    "# dset['test']['question'] + list(map(lambda x: x[0], dset['test']['answer'])) + list(chain.from_iterable(list(dset['test']['choices'])))"
   ]
  },
  {
   "cell_type": "code",
   "execution_count": 117,
   "id": "c4706d1a-afa3-4f0a-b412-ad727bab019e",
   "metadata": {},
   "outputs": [],
   "source": [
    "dset = sc_conhelp.for_config_name('belebele_ceb_latn_seacrowd_qa').load_dataset()\n",
    "# dset['test']['question'] + dset['test']['context'] + list(chain.from_iterable(list(dset['test']['choices'])))"
   ]
  },
  {
   "cell_type": "code",
   "execution_count": 118,
   "id": "5cdd1d55-f485-45b1-a781-714635718400",
   "metadata": {
    "tags": []
   },
   "outputs": [],
   "source": [
    "dset = sc_conhelp.for_config_name('khmer_alt_pos_seacrowd_seq_label').load_dataset()\n",
    "# list(map(lambda x: ' '.join(x['tokens']), dset['train']))"
   ]
  },
  {
   "cell_type": "code",
   "execution_count": null,
   "id": "d844b0a1-0c20-4a89-b348-b27e5ae9e28d",
   "metadata": {},
   "outputs": [],
   "source": [
    "dset = sc_conhelp.for_config_name('nusatranslation_mt_jav_ind_seacrowd_t2t').load_dataset()\n",
    "# dset['test']['text_1']"
   ]
  },
  {
   "cell_type": "code",
   "execution_count": null,
   "id": "75155c18-b9b9-4fdf-b808-2eda70715d42",
   "metadata": {},
   "outputs": [],
   "source": [
    "dset = sc_conhelp.for_config_name('parallel_asian_treebank_khm_eng_seacrowd_t2t').load_dataset()\n",
    "# dset['test']['text_1']"
   ]
  },
  {
   "cell_type": "code",
   "execution_count": null,
   "id": "fcc4a1c4-18ab-4904-bc58-e22d5acf5cf7",
   "metadata": {
    "tags": []
   },
   "outputs": [],
   "source": [
    "dset['train'][:3]"
   ]
  },
  {
   "cell_type": "code",
   "execution_count": null,
   "id": "0fcb02cc-38f3-4909-9fd0-ba1899a672f9",
   "metadata": {},
   "outputs": [],
   "source": [
    "dset_df.loc[(~dset_df['split'].isna()), 'dataloader_name'].tolist()"
   ]
  },
  {
   "cell_type": "code",
   "execution_count": null,
   "id": "355bfe0d-bfab-44db-ab0d-2e1737c79ac2",
   "metadata": {},
   "outputs": [],
   "source": [
    "%%time\n",
    "c = Counter()\n",
    "with open('./cc3m_mt_train.jsonl') as f:\n",
    "    for line in f:\n",
    "        row = json.loads(line)\n",
    "        if row['trg_lang'] in ['fil', 'tgl', 'ind', 'tha', 'vie', 'tl','id','th','vi']:\n",
    "            c[row['trg_lang']] += 1"
   ]
  },
  {
   "cell_type": "code",
   "execution_count": null,
   "id": "fcd9e3f0-c057-4906-b671-b8f2631cf08a",
   "metadata": {},
   "outputs": [],
   "source": [
    "c"
   ]
  },
  {
   "cell_type": "code",
   "execution_count": null,
   "id": "329001c6",
   "metadata": {},
   "outputs": [],
   "source": []
  }
 ],
 "metadata": {
  "kernelspec": {
   "display_name": "Python (env_embedding)",
   "language": "python",
   "name": "env_mebedding"
  },
  "language_info": {
   "codemirror_mode": {
    "name": "ipython",
    "version": 3
   },
   "file_extension": ".py",
   "mimetype": "text/x-python",
   "name": "python",
   "nbconvert_exporter": "python",
   "pygments_lexer": "ipython3",
   "version": "3.10.4"
  }
 },
 "nbformat": 4,
 "nbformat_minor": 5
}
